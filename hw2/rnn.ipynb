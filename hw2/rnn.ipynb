{
 "cells": [
  {
   "cell_type": "markdown",
   "metadata": {},
   "source": [
    "\n",
    "\n",
    "# Generating Shakespeare with a Character-Level RNN\n"
   ]
  },
  {
   "cell_type": "markdown",
   "metadata": {},
   "source": [
    "In this part, we'll turn from traditional n-gram based language models to a more advanced form of language modeling using a Recurrent Neural Network. Specifically, we'll be setting up a character-level recurrent neural network (char-rnn) for short.\n",
    "\n",
    "Andrej Karpathy, a researcher at OpenAI, has written an excellent blog post about using RNNs for language models, which you should read before beginning this assignment.  The title of his blog post is [The Unreasonable Effectiveness of Recurrent Neural Networks](http://karpathy.github.io/2015/05/21/rnn-effectiveness/).\n",
    "\n",
    "Karpathy shows how char-rnns can be used to generate texts for several fun domains:\n",
    "* Shakespeare plays\n",
    "* Essays about economics\n",
    "* LaTeX documents\n",
    "* Linux source code\n",
    "* Baby names\n",
    "\n",
    "<div class=\"alert alert-info\" markdown=\"1\">\n",
    "Here are the materials that you should download for this assignment:\n",
    "\n",
    "* [training data and devlopment data for generation](https://www.cc.gatech.edu/classes/AY2020/cs7650_spring/hw3/lm/data.zip).\n",
    "</div>\n",
    "\n",
    "# Recommended Reading\n",
    "\n",
    "You should install PyTorch, know Python, and understand Tensors:\n",
    "\n",
    "* http://pytorch.org/ For installation instructions\n",
    "* [jcjohnson's PyTorch examples](https://github.com/jcjohnson/pytorch-examples) for an in depth overview\n",
    "\n",
    "It would also be useful to know about RNNs and how they work:\n",
    "\n",
    "* [The Unreasonable Effectiveness of Recurrent Neural Networks](http://karpathy.github.io/2015/05/21/rnn-effectiveness/) shows a bunch of real life examples\n",
    "* [Understanding LSTM Networks](http://colah.github.io/posts/2015-08-Understanding-LSTMs/) is about LSTMs specifically but also informative about RNNs in general\n",
    "\n",
    "Also see these related tutorials from the series:\n",
    "\n",
    "* [Classifying Names with a Character-Level RNN](https://github.com/spro/practical-pytorch/blob/master/char-rnn-classification/char-rnn-classification.ipynb) uses an RNN for classification\n",
    "* [Generating Names with a Conditional Character-Level RNN](https://github.com/spro/practical-pytorch/blob/master/conditional-char-rnn/conditional-char-rnn.ipynb) builds on this model to add a category as input\n",
    "\n",
    "## You can also set up Pytorch in Google Colab\n",
    "\n",
    "Pytorch is one of the most popular deep learning frameworks in both industry and academia, and learning its use will be invaluable should you choose a career in deep learning. \n",
    "\n",
    "### Setup\n",
    "#### Using Google Colab (recommended)\n",
    "1. Upload this notebook on [Colab](https://colab.research.google.com/notebooks/welcome.ipynb).\n",
    "2. Set hardware accelerator to ```GPU``` under ```notebook settings``` in the ```Edit``` menu.\n",
    "3. Run the first cell to  set up  the environment.\n",
    "\n",
    "### Note\n",
    "Please look at the FAQ section before you start working.\n"
   ]
  },
  {
   "cell_type": "markdown",
   "metadata": {},
   "source": [
    "# Prepare data\n",
    "\n",
    "The file we are using is a plain text file. We turn any potential unicode characters into plain ASCII by using the `unidecode` package (which you can install via `pip` or `conda`)."
   ]
  },
  {
   "cell_type": "code",
   "execution_count": 1,
   "metadata": {},
   "outputs": [
    {
     "name": "stdout",
     "output_type": "stream",
     "text": [
      "file_len = 4573338\n"
     ]
    }
   ],
   "source": [
    "import unidecode\n",
    "import string\n",
    "import random\n",
    "import re\n",
    "\n",
    "all_characters = string.printable\n",
    "n_characters = len(all_characters)\n",
    "\n",
    "file = unidecode.unidecode(open('data/shakespeare_input.txt').read())\n",
    "file_len = len(file)\n",
    "print('file_len =', file_len)"
   ]
  },
  {
   "cell_type": "markdown",
   "metadata": {},
   "source": [
    "To make inputs out of this big string of data, we will be splitting it into chunks."
   ]
  },
  {
   "cell_type": "code",
   "execution_count": 2,
   "metadata": {},
   "outputs": [
    {
     "name": "stdout",
     "output_type": "stream",
     "text": [
      "s was sequent\n",
      "Thou know'st already.\n",
      "\n",
      "HORATIO:\n",
      "So Guildenstern and Rosencrantz go to't.\n",
      "\n",
      "HAMLET:\n",
      "Why, man, they did make love to this employment;\n",
      "They are not near my conscience; their defeat\n",
      "Does by th\n"
     ]
    }
   ],
   "source": [
    "chunk_len = 200\n",
    "\n",
    "def random_chunk():\n",
    "    start_index = random.randint(0, file_len - chunk_len)\n",
    "    end_index = start_index + chunk_len + 1\n",
    "    return file[start_index:end_index]\n",
    "\n",
    "print(random_chunk())"
   ]
  },
  {
   "cell_type": "markdown",
   "metadata": {},
   "source": [
    "# Build the Model\n",
    "\n",
    "This model will take as input the character for step $t_{-1}$ and is expected to output the next character $t$. There are three layers - one linear layer that encodes the input character into an internal state, one GRU layer (which may itself have multiple layers) that operates on that internal state and a hidden state, and a decoder layer that outputs the probability distribution. You need to finish the forward method. (Refer to [Pytorch GRU Documentation](https://pytorch.org/docs/stable/nn.html#gru))"
   ]
  },
  {
   "cell_type": "code",
   "execution_count": 40,
   "metadata": {},
   "outputs": [],
   "source": [
    "import torch\n",
    "import torch.nn as nn\n",
    "\n",
    "device = torch.device(\"cuda\" if torch.cuda.is_available() else \"cpu\")\n",
    "\n",
    "class RNN(nn.Module):\n",
    "    def __init__(self, input_size, hidden_size, output_size, n_layers=1):\n",
    "        super(RNN, self).__init__()\n",
    "        self.input_size = input_size    # 100\n",
    "        self.hidden_size = hidden_size    # 100\n",
    "        self.output_size = output_size    # 100\n",
    "        self.n_layers = n_layers    # 1\n",
    "        \n",
    "        self.encoder = nn.Embedding(input_size, hidden_size)\n",
    "        self.gru = nn.GRU(hidden_size, hidden_size, n_layers)\n",
    "        print(self.gru.weight_ih_l0.shape)\n",
    "        self.decoder = nn.Linear(hidden_size, output_size)\n",
    "    \n",
    "    def forward(self, input, hidden):\n",
    "        #Input input: torch Tensor of shape (1,)\n",
    "        #hidden: torch Tensor of shape (self.n_layers, 1, self.hidden_size)\n",
    "        #Return output: torch Tensor of shape (1, self.output_size) \n",
    "        #and hidden: torch Tensor of shape (self.n_layers, 1, self.hidden_size)\n",
    "        \n",
    "        # embed input\n",
    "        encode_layer = self.encoder(input).reshape(1,1,-1)\n",
    "        y, hidden = self.gru(encode_layer, hidden)\n",
    "        y = self.decoder(y.reshape(1,-1))\n",
    "        return y, hidden\n",
    "\n",
    "    def init_hidden(self):\n",
    "        return torch.zeros(self.n_layers, 1, self.hidden_size).to(device)"
   ]
  },
  {
   "cell_type": "markdown",
   "metadata": {},
   "source": [
    "# Inputs and Targets"
   ]
  },
  {
   "cell_type": "markdown",
   "metadata": {},
   "source": [
    "Each chunk will be turned into a tensor, specifically a `LongTensor` (used for integer values), by looping through the characters of the string and looking up the index of each character in `all_characters`."
   ]
  },
  {
   "cell_type": "code",
   "execution_count": 27,
   "metadata": {},
   "outputs": [
    {
     "name": "stdout",
     "output_type": "stream",
     "text": [
      "tensor([10, 11, 12, 39, 40, 41])\n"
     ]
    }
   ],
   "source": [
    "# Turn string into list of longs\n",
    "def char_tensor(string):\n",
    "    tensor = torch.zeros(len(string)).long().to(device)\n",
    "    for c in range(len(string)):\n",
    "        tensor[c] = all_characters.index(string[c])\n",
    "    return tensor\n",
    "\n",
    "print(char_tensor('abcDEF'))"
   ]
  },
  {
   "cell_type": "markdown",
   "metadata": {},
   "source": [
    "Finally we can assemble a pair of input and target tensors for training, from a random chunk. The input will be all characters *up to the last*, and the target will be all characters *from the first*. So if our chunk is \"abc\" the input will correspond to \"ab\" while the target is \"bc\"."
   ]
  },
  {
   "cell_type": "code",
   "execution_count": 28,
   "metadata": {},
   "outputs": [],
   "source": [
    "def random_training_set():    \n",
    "    chunk = random_chunk()\n",
    "    inp = char_tensor(chunk[:-1])\n",
    "    target = char_tensor(chunk[1:])\n",
    "    return inp, target"
   ]
  },
  {
   "cell_type": "markdown",
   "metadata": {},
   "source": [
    "# Evaluating\n",
    "\n",
    "To evaluate the network we will feed one character at a time, use the outputs of the network as a probability distribution for the next character, and repeat. To start generation we pass a priming string to start building up the hidden state, from which we then generate one character at a time."
   ]
  },
  {
   "cell_type": "code",
   "execution_count": 29,
   "metadata": {},
   "outputs": [],
   "source": [
    "def evaluate(prime_str='A', predict_len=100, temperature=0.8):\n",
    "    hidden = decoder.init_hidden()\n",
    "    prime_input = char_tensor(prime_str)\n",
    "    predicted = prime_str\n",
    "\n",
    "    # Use priming string to \"build up\" hidden state\n",
    "    for p in range(len(prime_str) - 1):\n",
    "        _, hidden = decoder(prime_input[p], hidden)\n",
    "    inp = prime_input[-1]\n",
    "    \n",
    "    for p in range(predict_len):\n",
    "        output, hidden = decoder(inp, hidden)\n",
    "        \n",
    "        # Sample from the network as a multinomial distribution\n",
    "        output_dist = output.data.view(-1).div(temperature).exp()\n",
    "        top_i = torch.multinomial(output_dist, 1)[0]\n",
    "        \n",
    "        # Add predicted character to string and use as next input\n",
    "        predicted_char = all_characters[top_i]\n",
    "        predicted += predicted_char\n",
    "        inp = char_tensor(predicted_char)\n",
    "\n",
    "    return predicted"
   ]
  },
  {
   "cell_type": "markdown",
   "metadata": {},
   "source": [
    "# Training"
   ]
  },
  {
   "cell_type": "markdown",
   "metadata": {},
   "source": [
    "A helper to print the amount of time passed:"
   ]
  },
  {
   "cell_type": "code",
   "execution_count": 30,
   "metadata": {},
   "outputs": [],
   "source": [
    "import time, math\n",
    "\n",
    "def time_since(since):\n",
    "    s = time.time() - since\n",
    "    m = math.floor(s / 60)\n",
    "    s -= m * 60\n",
    "    return '%dm %ds' % (m, s)"
   ]
  },
  {
   "cell_type": "markdown",
   "metadata": {},
   "source": [
    "The main training function"
   ]
  },
  {
   "cell_type": "code",
   "execution_count": 31,
   "metadata": {},
   "outputs": [],
   "source": [
    "def train(inp, target):\n",
    "#     print('inp', inp)\n",
    "    hidden = decoder.init_hidden()\n",
    "#     print('hidden', hidden.shape)\n",
    "    decoder.zero_grad()\n",
    "    loss = 0\n",
    "#     print('chunk_len', chunk_len)\n",
    "    for c in range(chunk_len):\n",
    "#         print('inp[c], hidden', inp[c], hidden.shape)\n",
    "        output, hidden = decoder(inp[c], hidden)\n",
    "#         print('target.unsqueeze(1)[c]', target.unsqueeze(1)[c].shape)\n",
    "        loss += criterion(output, target.unsqueeze(1)[c])\n",
    "\n",
    "    loss.backward()\n",
    "    decoder_optimizer.step()\n",
    "\n",
    "    return loss.item() / chunk_len"
   ]
  },
  {
   "cell_type": "markdown",
   "metadata": {},
   "source": [
    "Then we define the training parameters, instantiate the model, and start training:"
   ]
  },
  {
   "cell_type": "code",
   "execution_count": 41,
   "metadata": {},
   "outputs": [
    {
     "name": "stdout",
     "output_type": "stream",
     "text": [
      "parameters =>  100 256 100 2\n",
      "torch.Size([768, 256])\n",
      "[0m 39s (100 1%) 2.5673]\n",
      "Wh%asbf is wapgane le hand hal gese the hand wethre moy I eoused ve ly minn nanveore the myan hand inu \n",
      "\n",
      "[1m 26s (200 2%) 2.4654]\n",
      "WhQatily so an.\n",
      "\n",
      "L-ROKEEI:\n",
      "And of in and thou leld, wold dFer inith il.\n",
      "\n",
      "NIT\n",
      "No whs sto to thigy rall  \n",
      "\n",
      "[2m 6s (300 3%) 2.2788]\n",
      "Whe deare'd the aftrose, his hat ther, the to deme mat by wits coo<n cat's wentuy not matseos hat to t \n",
      "\n",
      "[2m 45s (400 4%) 2.0963]\n",
      "Whall and our beaversen, this this mut of ou, Searn sall ind bearmon; and there paves\n",
      "Andern!\n",
      "\n",
      "CORCE:\n",
      " \n",
      "\n",
      "[3m 34s (500 5%) 1.9813]\n",
      "Whia to he ofour manston hin the, I ake with it upetiess to withs the mowef do bet outher kir?\n",
      "\n",
      "BENMIN \n",
      "\n",
      "[4m 15s (600 6%) 1.8821]\n",
      "What heard hom, onges as him\n",
      "Intin:\n",
      "The he ounder him the sourone,\n",
      "I, a with and to have of eartlbine, \n",
      "\n",
      "[4m 55s (700 7%) 2.2878]\n",
      "Wher shere be thence the dotsen,\n",
      "And the neving was a and dows:\n",
      "What beat the ringue enave like this t \n",
      "\n",
      "[5m 34s (800 8%) 1.7517]\n",
      "What to munt the!\n",
      "\n",
      "ONAMDADNOW:\n",
      "My say o' Caron,\n",
      "And beat be his of the cith father the the and true an \n",
      "\n",
      "[6m 15s (900 9%) 2.0139]\n",
      "Whace in the rictese\n",
      "Before fained firsed the is of you a canmer-come of flartion musslisond laces by  \n",
      "\n",
      "[7m 7s (1000 10%) 2.0436]\n",
      "Whan we have Anof this\n",
      "Thou have thensul.\n",
      "\n",
      "PHoMplose,\n",
      "What store an reatienmand pliect a bod the tong  \n",
      "\n",
      "[8m 1s (1100 11%) 1.9225]\n",
      "Whand to that an! all and that hatherby,\n",
      "Thou firtering in charce and it the not mish?\n",
      "\n",
      "CArRUS:\n",
      "Let ac \n",
      "\n",
      "[8m 47s (1200 12%) 1.8173]\n",
      "Whis god,\n",
      "You of Man, I were a plast that,\n",
      "A kink all with spicted bucliing thus arm get is a, him pro \n",
      "\n",
      "[9m 37s (1300 13%) 1.7529]\n",
      "What o' what, you will neet thee?\n",
      "\n",
      "CLAWAUS:\n",
      "And faith, that, hearven you none, antle they mey say sono \n",
      "\n",
      "[10m 24s (1400 14%) 1.5347]\n",
      "Whoney.\n",
      "\n",
      "CLRIUS:\n",
      "I hast the dowling alvent operess he'e would, sir here,\n",
      "O will be hough with blood an \n",
      "\n",
      "[11m 11s (1500 15%) 1.7154]\n",
      "Whouch my sain'd projous.\n",
      "\n",
      "Secknow thy gallow of have tone\n",
      "And you; to spite; must these?\n",
      "\n",
      "FALDOCO:\n",
      "An \n",
      "\n",
      "[11m 51s (1600 16%) 1.6944]\n",
      "Whilding that the dion\n",
      "Thou gainst as my chext there for the love the do sore not let is now?\n",
      "By worth \n",
      "\n",
      "[12m 30s (1700 17%) 1.7517]\n",
      "Whers, and the fears.\n",
      "\n",
      "CLIUD:\n",
      "Thou comes, him his lied.\n",
      "\n",
      "VISSALILA:\n",
      "I were its time then saindred,\n",
      "Eve \n",
      "\n",
      "[13m 19s (1800 18%) 2.0514]\n",
      "Wher them.\n",
      "\n",
      "FALLIESTESSSLONY:\n",
      "Ied a coon; you arm than thou healt her.\n",
      "\n",
      "BALLEY:\n",
      "I were sweet of doms a \n",
      "\n",
      "[13m 56s (1900 19%) 1.7847]\n",
      "Whet you daught be'll o'er,\n",
      "Thee to-bling wither fay have cruppance,\n",
      "Than the you changes thy be ford; \n",
      "\n",
      "[14m 38s (2000 20%) 1.7684]\n",
      "What's ears and all all; Phason: should mady entreaces.\n",
      "\n",
      "SETAR BELLATO:\n",
      "Good with the deen all it near \n",
      "\n",
      "[15m 17s (2100 21%) 1.8546]\n",
      "Which the brough form:\n",
      "And it will what or mermence of the great for this more life thou kespinds,\n",
      "You \n",
      "\n",
      "[16m 1s (2200 22%) 1.6548]\n",
      "Where but, what shall sport my palled,\n",
      "When countried: but with the bare seem, and well.\n",
      "\n",
      "For Town.\n",
      "\n",
      "I \n",
      "\n",
      "[16m 57s (2300 23%) 1.6629]\n",
      "What I have you woind.\n",
      "\n",
      "PORIA:\n",
      "Let he sed to make it should country,\n",
      "Sor that the barron's saves sir,\n",
      " \n",
      "\n",
      "[17m 50s (2400 24%) 1.7605]\n",
      "Where, you seem'd not.\n",
      "\n",
      "SeGER:\n",
      "I am himselves the Sir.\n",
      "How in had my preservation of my maptine,\n",
      "What  \n",
      "\n",
      "[18m 36s (2500 25%) 1.6308]\n",
      "Where was head\n",
      "That stay no that carminess the seldier.\n",
      "\n",
      "First Pentleman:\n",
      "O! at have de duid not I was \n",
      "\n",
      "[19m 19s (2600 26%) 1.7530]\n",
      "Whine these.\n",
      "\n",
      "CLAONUS:\n",
      "Ha, the mack cames freet of not son this refent.\n",
      "\n",
      "KING LORD:\n",
      "My from here is a  \n",
      "\n",
      "[19m 59s (2700 27%) 1.9302]\n",
      "Why I words are be shall lived\n",
      "For thing are me ruscrion\n",
      "of better the king cit you man.\n",
      "\n",
      "CLOBOOLES:\n",
      "S \n",
      "\n",
      "[20m 38s (2800 28%) 1.6543]\n",
      "Where, be as the govers to say,\n",
      "There wall come the poath, as you she lord.\n",
      "\n",
      "QUEEN OF TORANDES:\n",
      "I, bef \n",
      "\n",
      "[21m 17s (2900 28%) 1.6386]\n",
      "Where a slainster to me; these-'nothing,\n",
      "Lay good shall a is mine, will is this\n",
      "are here her and pass  \n",
      "\n",
      "[21m 59s (3000 30%) 1.5995]\n",
      "What strank their charch:\n",
      "I be say on, now them not grace thou sup no most not, convert\n",
      "Even look his  \n",
      "\n",
      "[22m 40s (3100 31%) 1.5555]\n",
      "Which, and heaven with his way.\n",
      "\n",
      "BARGOL:\n",
      "A pring to salt, art than I have have a servanting\n",
      "And this i \n",
      "\n",
      "[23m 22s (3200 32%) 1.9023]\n",
      "Where your knows to your old it,\n",
      "And stravier thrange is the king:\n",
      "In offer all your life it.\n",
      "\n",
      "DERANIA \n",
      "\n",
      "[24m 4s (3300 33%) 1.7564]\n",
      "Wherein and a dead,\n",
      "Frimself, still thanky life to in thee: and Guither: come gentle.\n",
      "\n",
      "Fidder:\n",
      "Ay, my  \n",
      "\n",
      "[24m 47s (3400 34%) 1.8281]\n",
      "While blight.\n",
      "The full make from this, that have her prawners.\n",
      "\n",
      "MABELIUS:\n",
      "Hear her madsty the noble fu \n",
      "\n",
      "[25m 32s (3500 35%) 1.6339]\n",
      "Where stown.\n",
      "\n",
      "QUEEN GRARIC:\n",
      "I could the a spact up one some a charcy the\n",
      "channot power his tormer of t \n",
      "\n",
      "[26m 14s (3600 36%) 1.5312]\n",
      "Which not the bargel,\n",
      "That all the may as me lost nead so trong;\n",
      "Shall be spoke a shuptain, which I do \n",
      "\n",
      "[26m 56s (3700 37%) 1.6981]\n",
      "What with stain to the hately\n",
      "That is many to put honour from I coure may of that I all. Hather to to  \n",
      "\n",
      "[27m 44s (3800 38%) 1.5153]\n",
      "What Tory my motle soon,\n",
      "And you art we would comes our world offer,\n",
      "Have becasted to put to my world  \n",
      "\n",
      "[28m 28s (3900 39%) 1.6164]\n",
      "What that me a sword with my remorth.\n",
      "\n",
      "KINCE:\n",
      "My stone ushands in thride,\n",
      "What a dearer, he shall lett \n",
      "\n",
      "[29m 13s (4000 40%) 1.5278]\n",
      "Where, and him abort!\n",
      "\n",
      "FALSTAF:\n",
      "It shake your say you take youth,\n",
      "On the plood again.\n",
      "The the wasfeks, \n",
      "\n",
      "[29m 57s (4100 41%) 1.3703]\n",
      "Why, will bold; for Chrift.\n",
      "\n",
      "LANDY OF OF ADRIANGE:\n",
      "How so unter that what would need, her many anoble\n",
      " \n",
      "\n",
      "[30m 35s (4200 42%) 1.5842]\n",
      "Which though and you;\n",
      "The lose would not leave it, it.\n",
      "\n",
      "BENDARDIUS:\n",
      "The perfucted yours in them not an \n",
      "\n",
      "[31m 18s (4300 43%) 1.6416]\n",
      "Where is the bade\n",
      "And thou would not have you\n",
      "wrance to my grave's much fearnon.\n",
      "\n",
      "MONTAND:\n",
      "Good my lif \n",
      "\n",
      "[32m 4s (4400 44%) 1.3771]\n",
      "Whitest one of my lord\n",
      "So sent an one like of the murge man,\n",
      "And which a bonn of no man he condered\n",
      "An \n",
      "\n",
      "[33m 0s (4500 45%) 1.4712]\n",
      "What\n",
      "What that each it remember in the reason,\n",
      "As Lauton and consaloused stand oft be cannot their;\n",
      "Th \n",
      "\n",
      "[34m 2s (4600 46%) 1.6963]\n",
      "Which drops;\n",
      "And for a said is them sir?\n",
      "\n",
      "SIS PATURNA:\n",
      "Were am oOthy gall art sing,\n",
      "Free thy sall that \n",
      "\n",
      "[34m 46s (4700 47%) 1.4702]\n",
      "What is now thousand for my brother forest\n",
      "In the ear to many we do:\n",
      "Shall be our mourned hear beseeds \n",
      "\n",
      "[35m 32s (4800 48%) 1.4305]\n",
      "Whereocches\n",
      "An I am where it thou this goff;\n",
      "But at thy thange shall be kolded.\n",
      "\n",
      "DUKE TICHIO:\n",
      "Sir, wha \n",
      "\n",
      "[36m 27s (4900 49%) 1.7276]\n",
      "Who as if it thinks\n",
      "the rook Achiant with him: and he shall come.\n",
      "\n",
      "GLOUCESTER:\n",
      "Now, good many that all \n",
      "\n",
      "[37m 15s (5000 50%) 1.4812]\n",
      "Where is grand! O, hourself,\n",
      "It is not have prower sail, but shave recome this duke\n",
      "That can the obsam \n",
      "\n",
      "[37m 57s (5100 51%) 1.8150]\n",
      "Where ingliant against me.\n",
      "\n",
      "VALERTIN:\n",
      "But on: we she that chee, hand's mark and me like\n",
      "Marcing on me  \n",
      "\n",
      "[38m 36s (5200 52%) 1.6140]\n",
      "Whose our was his actors:\n",
      "Makes upon my lord, have strife: save them will shame!\n",
      "Be a service and cann \n",
      "\n",
      "[39m 16s (5300 53%) 1.5342]\n",
      "While that that am lack,\n",
      "And time the made well, our shill must not this hearts and master,\n",
      "This wife, \n",
      "\n",
      "[39m 54s (5400 54%) 1.6514]\n",
      "Which shall is a man\n",
      "the earth; lad, what I have all you have them,\n",
      "And well abuse thy strown'd but a  \n",
      "\n",
      "[40m 31s (5500 55%) 1.4506]\n",
      "Whick. Why, of you found thee,\n",
      "And made the will hath breamed to my make her, that I do\n",
      "now thee entre \n",
      "\n",
      "[41m 7s (5600 56%) 1.5558]\n",
      "Whore, and fair;\n",
      "But is mine merry poor that a poised,\n",
      "The steel is his pains, but chosed to officer a \n",
      "\n",
      "[41m 44s (5700 56%) 1.5846]\n",
      "Whichself his present\n",
      "A look it in poor in the shame with thought heaver:\n",
      "And with the first what no m \n",
      "\n",
      "[42m 20s (5800 57%) 1.4898]\n",
      "What found\n",
      "Beworld will child sad your hand.\n",
      "\n",
      "BOETIA:\n",
      "What, madam, hear thou like and would such affec \n",
      "\n",
      "[42m 57s (5900 59%) 1.5258]\n",
      "Where is any parse\n",
      "of physage a step any is must too boy; and word your words with life\n",
      "Of your in all \n",
      "\n",
      "[43m 33s (6000 60%) 1.5485]\n",
      "Why mark and before with hand.\n",
      "I do be this tander of the equitious plain\n",
      "Contrain that fallow command \n",
      "\n",
      "[44m 10s (6100 61%) 1.3724]\n",
      "What, if I peracied my speak,\n",
      "The Servants they was made to my mother?\n",
      "\n",
      "SOROLLANUS:\n",
      "Wears the bid my m \n",
      "\n",
      "[44m 46s (6200 62%) 1.4222]\n",
      "Whill I alreast the blood;\n",
      "And the sparence were off this dupt;\n",
      "And the wimble your majest him hang'd, \n",
      "\n"
     ]
    },
    {
     "name": "stdout",
     "output_type": "stream",
     "text": [
      "[45m 23s (6300 63%) 1.5855]\n",
      "Whats my hand, my lates\n",
      "a gracious plain yet madine-face, Bury the was of burims zillors?\n",
      "\n",
      "PEROTE:\n",
      "Wat \n",
      "\n",
      "[45m 59s (6400 64%) 2.0329]\n",
      "What have a moraling:\n",
      "When the catrucusured from like my eyes\n",
      "Think would have hence, that is it with  \n",
      "\n",
      "[46m 36s (6500 65%) 1.4356]\n",
      "Wherefore there's that I child\n",
      "I do stay! I say, like throng thee thy fair\n",
      "And mean of Brombs for if t \n",
      "\n",
      "[47m 12s (6600 66%) 1.3553]\n",
      "Who beary upbreat.\n",
      "\n",
      "First Soldier:\n",
      "For your good slove meant your old men.\n",
      "\n",
      "PRINCEL:\n",
      "I warrant boy, th \n",
      "\n",
      "[47m 48s (6700 67%) 1.4326]\n",
      "While to patch; and for a still\n",
      "Shall breath lived that thou\n",
      "be father to my reason worse to we comman \n",
      "\n",
      "[48m 25s (6800 68%) 1.1137]\n",
      "Why your highness\n",
      "The father.\n",
      "\n",
      "BENADIA:\n",
      "My lord, must well, and want alvest roof the king,\n",
      "And was tho \n",
      "\n",
      "[49m 1s (6900 69%) 1.7395]\n",
      "When prove up and of my highations.\n",
      "\n",
      "SALWOLI:\n",
      "A brother, count free them two speak,\n",
      "and if the surken  \n",
      "\n",
      "[49m 38s (7000 70%) 1.5456]\n",
      "Where, that let my Martible dear heaven\n",
      "cast upon there so streppus, with you in the garmer his man:\n",
      "T \n",
      "\n",
      "[50m 16s (7100 71%) 1.5516]\n",
      "What his from my traitor of last,\n",
      "When her arms that I havend steal make thy sweet their mistressidge\n",
      " \n",
      "\n",
      "[50m 54s (7200 72%) 1.3983]\n",
      "What shall great of himself:\n",
      "I was in the will did her are lafful that watch'd princes do thy words;\n",
      "T \n",
      "\n",
      "[51m 30s (7300 73%) 1.3266]\n",
      "Wherein bury requick\n",
      "And soul, the remembered of my truly to came,\n",
      "With fairs: till I midd him hand to \n",
      "\n",
      "[52m 9s (7400 74%) 1.6355]\n",
      "Whill means with the bid water with his heirs.\n",
      "\n",
      "First Gentlewom; for herefore it\n",
      "For the courses of lo \n",
      "\n",
      "[52m 45s (7500 75%) 1.4830]\n",
      "What renystate, what wish an is one was be break of you\n",
      "That I and bring of her infoldire.\n",
      "\n",
      "BRUTUS:\n",
      "Th \n",
      "\n",
      "[53m 21s (7600 76%) 1.5544]\n",
      "What as a desert\n",
      "Mistre my matress, come, came life lose\n",
      "Which it is a lives of the losered replected: \n",
      "\n",
      "[53m 57s (7700 77%) 1.5723]\n",
      "When you of reglenty is brought\n",
      "The ear of pave this bad. Loth, yet as speak she\n",
      "That I pining your li \n",
      "\n",
      "[54m 34s (7800 78%) 1.7074]\n",
      "Why should not swore and day: that\n",
      "My lord. Be sends for I have quiet,\n",
      "I can me treasure still, so bea \n",
      "\n",
      "[55m 10s (7900 79%) 1.4350]\n",
      "What, Roman, and you shall\n",
      "piest be she hath.\n",
      "\n",
      "Second God!\n",
      "\n",
      "OCTAVIUS:\n",
      "A call in destrend did in enceov \n",
      "\n",
      "[55m 46s (8000 80%) 1.4451]\n",
      "Wher that I am a show, did be due of him\n",
      "In from Romeasural of a switted busination.\n",
      "\n",
      "PROMIO:\n",
      "It as we \n",
      "\n",
      "[56m 21s (8100 81%) 1.4633]\n",
      "While beseech, my lord,\n",
      "Which as the endrant deed on a man together.\n",
      "\n",
      "OSTENSSOBUS:\n",
      "Shall be the incred \n",
      "\n",
      "[56m 57s (8200 82%) 1.4250]\n",
      "Whom all their strong.\n",
      "\n",
      "CLUCPE:\n",
      "Since it a world where the flame in this friend\n",
      "Where? Franch'd forly  \n",
      "\n",
      "[57m 33s (8300 83%) 1.2196]\n",
      "What was a thing, Here had them of\n",
      "deppection, when cursed, for I here in this remember.\n",
      "\n",
      "KING EDWARD  \n",
      "\n",
      "[58m 14s (8400 84%) 1.4302]\n",
      "Whose soul of of the fool\n",
      "And blest talk for his wife on his griefs of vow\n",
      "The slipped were no more sp \n",
      "\n",
      "[58m 52s (8500 85%) 1.5691]\n",
      "What that struck proad.\n",
      "\n",
      "LAFEU:\n",
      "I will till I to love the sweet her forgot she ye\n",
      "Shall said thee love \n",
      "\n",
      "[59m 30s (8600 86%) 1.7910]\n",
      "Whench here? There's honest\n",
      "And here right frome that else and\n",
      "Abouted me I are your works\n",
      "A forgoth:  \n",
      "\n",
      "[60m 16s (8700 87%) 1.4109]\n",
      "Why well:\n",
      "Come, good Brymbles authority.\n",
      "\n",
      "BASSINA:\n",
      "Well this what the night of from my lords, not then \n",
      "\n",
      "[61m 0s (8800 88%) 1.1565]\n",
      "Wht out of they will not;\n",
      "And death the enforce is it on the depring, this earth\n",
      "For his true the atte \n",
      "\n",
      "[61m 46s (8900 89%) 1.5119]\n",
      "Where?\n",
      "Ungains, where and there's them to go with me.\n",
      "\n",
      "FLAPULE:\n",
      "But I have says this love; the land be \n",
      "\n",
      "[62m 26s (9000 90%) 1.5328]\n",
      "What wanting the picy\n",
      "farewell hard: ever to all thee his bodes\n",
      "The words for regard as men.\n",
      "'Tis her  \n",
      "\n",
      "[63m 2s (9100 91%) 1.6589]\n",
      "Who and in himself; and we sweet\n",
      "As your life with me.\n",
      "\n",
      "DONTIO:\n",
      "No morallow I see you a wise.\n",
      "\n",
      "MARIA:\n",
      " \n",
      "\n",
      "[63m 38s (9200 92%) 1.4951]\n",
      "What presently in Henibands\n",
      "Comes.\n",
      "\n",
      "MENENIUS:\n",
      "The roils by my sons so stands and counting and perfect, \n",
      "\n",
      "[64m 14s (9300 93%) 1.5751]\n",
      "Where is a pilous.\n",
      "\n",
      "GLOUCESTER:\n",
      "As I beg in your good.\n",
      "There is a fauntly good fear and seem my vaults \n",
      "\n",
      "[64m 50s (9400 94%) 1.5544]\n",
      "Whose veny and the father scorrinay.\n",
      "\n",
      "DUKE OF FORD:\n",
      "Where I do not the house.\n",
      "O Lord Service! so kept  \n",
      "\n",
      "[65m 26s (9500 95%) 1.2389]\n",
      "What he times have no too\n",
      "flaties upon the said, like a grace and word;\n",
      "But they flact, in his such gr \n",
      "\n",
      "[66m 2s (9600 96%) 1.2362]\n",
      "While so much voice when tell mished\n",
      "That desturn, whose son in her heartess.\n",
      "\n",
      "PISANIO:\n",
      "If let my mast \n",
      "\n",
      "[66m 38s (9700 97%) 1.4371]\n",
      "Which remains thou, ne'er a wife,\n",
      "I had spit him home and the honour offer such, after, she\n",
      "is now day \n",
      "\n",
      "[67m 14s (9800 98%) 1.6072]\n",
      "What I am youth,\n",
      "Will the dealous as a garmen and thee\n",
      "A good for a God. I am what came us bready\n",
      "In t \n",
      "\n",
      "[67m 50s (9900 99%) 1.6585]\n",
      "Whose grum'd too, and seen of women;\n",
      "E's their emperor of it, you seepring\n",
      "To the swipting with hand o \n",
      "\n",
      "[68m 26s (10000 100%) 1.5156]\n",
      "What, have serve your love,\n",
      "He hath of the storseting blast, any exarch\n",
      "In the own men. Go, did there  \n",
      "\n"
     ]
    }
   ],
   "source": [
    "n_epochs = 10000\n",
    "print_every = 100\n",
    "plot_every = 10\n",
    "hidden_size = 256\n",
    "n_layers = 2\n",
    "lr = 0.0005\n",
    "print('parameters => ', n_characters, hidden_size, n_characters, n_layers)\n",
    "decoder = RNN(n_characters, hidden_size, n_characters, n_layers).to(device)\n",
    "decoder_optimizer = torch.optim.Adam(decoder.parameters(), lr=lr)\n",
    "criterion = nn.CrossEntropyLoss()\n",
    "\n",
    "start = time.time()\n",
    "all_losses = []\n",
    "loss_avg = 0\n",
    "\n",
    "for epoch in range(1, n_epochs + 1):\n",
    "    loss = train(*random_training_set())       \n",
    "    loss_avg += loss\n",
    "\n",
    "    if epoch % print_every == 0:\n",
    "        print('[%s (%d %d%%) %.4f]' % (time_since(start), epoch, epoch / n_epochs * 100, loss))\n",
    "        print(evaluate('Wh', 100), '\\n')\n",
    "\n",
    "    if epoch % plot_every == 0:\n",
    "        all_losses.append(loss_avg / plot_every)\n",
    "        loss_avg = 0"
   ]
  },
  {
   "cell_type": "markdown",
   "metadata": {},
   "source": [
    "# Plotting the Training Losses\n",
    "\n",
    "Plotting the historical loss from all_losses shows the network learning:"
   ]
  },
  {
   "cell_type": "code",
   "execution_count": 18,
   "metadata": {},
   "outputs": [
    {
     "data": {
      "text/plain": [
       "[<matplotlib.lines.Line2D at 0x7ff9942fcd90>]"
      ]
     },
     "execution_count": 18,
     "metadata": {},
     "output_type": "execute_result"
    },
    {
     "data": {
      "image/png": "[encoded data removed]",
      "text/plain": [
       "<Figure size 432x288 with 1 Axes>"
      ]
     },
     "metadata": {
      "needs_background": "light"
     },
     "output_type": "display_data"
    }
   ],
   "source": [
    "# n_epochs = 10000\n",
    "# print_every = 100\n",
    "# plot_every = 10\n",
    "# hidden_size = 200\n",
    "# n_layers = 1\n",
    "# lr = 0.001\n",
    "import matplotlib.pyplot as plt\n",
    "import matplotlib.ticker as ticker\n",
    "%matplotlib inline\n",
    "\n",
    "plt.figure()\n",
    "plt.plot(all_losses)"
   ]
  },
  {
   "cell_type": "code",
   "execution_count": 10,
   "metadata": {},
   "outputs": [
    {
     "data": {
      "text/plain": [
       "[<matplotlib.lines.Line2D at 0x7ff9bd2bd410>]"
      ]
     },
     "execution_count": 10,
     "metadata": {},
     "output_type": "execute_result"
    },
    {
     "data": {
      "image/png": "[encoded data removed]",
      "text/plain": [
       "<Figure size 432x288 with 1 Axes>"
      ]
     },
     "metadata": {
      "needs_background": "light"
     },
     "output_type": "display_data"
    }
   ],
   "source": [
    "# n_epochs = 2000\n",
    "# print_every = 100\n",
    "# plot_every = 10\n",
    "# hidden_size = 100\n",
    "# n_layers = 2\n",
    "# lr = 0.005\n",
    "import matplotlib.pyplot as plt\n",
    "import matplotlib.ticker as ticker\n",
    "%matplotlib inline\n",
    "\n",
    "plt.figure()\n",
    "plt.plot(all_losses)"
   ]
  },
  {
   "cell_type": "code",
   "execution_count": 10,
   "metadata": {},
   "outputs": [
    {
     "data": {
      "text/plain": [
       "[<matplotlib.lines.Line2D at 0x7f8692062f10>]"
      ]
     },
     "execution_count": 10,
     "metadata": {},
     "output_type": "execute_result"
    },
    {
     "data": {
      "image/png": "[encoded data removed]",
      "text/plain": [
       "<Figure size 432x288 with 1 Axes>"
      ]
     },
     "metadata": {
      "needs_background": "light"
     },
     "output_type": "display_data"
    }
   ],
   "source": [
    "# n_epochs = 10000\n",
    "# print_every = 100\n",
    "# plot_every = 10\n",
    "# hidden_size = 200\n",
    "# n_layers = 1\n",
    "# lr = 0.0001\n",
    "import matplotlib.pyplot as plt\n",
    "import matplotlib.ticker as ticker\n",
    "%matplotlib inline\n",
    "\n",
    "plt.figure()\n",
    "plt.plot(all_losses)"
   ]
  },
  {
   "cell_type": "code",
   "execution_count": 15,
   "metadata": {},
   "outputs": [
    {
     "data": {
      "text/plain": [
       "[<matplotlib.lines.Line2D at 0x7f8678818210>]"
      ]
     },
     "execution_count": 15,
     "metadata": {},
     "output_type": "execute_result"
    },
    {
     "data": {
      "image/png": "[encoded data removed]",
      "text/plain": [
       "<Figure size 432x288 with 1 Axes>"
      ]
     },
     "metadata": {
      "needs_background": "light"
     },
     "output_type": "display_data"
    }
   ],
   "source": [
    "# n_epochs = 10000\n",
    "# print_every = 100\n",
    "# plot_every = 10\n",
    "# hidden_size = 200\n",
    "# n_layers = 1\n",
    "# lr = 0.0005\n",
    "import matplotlib.pyplot as plt\n",
    "import matplotlib.ticker as ticker\n",
    "%matplotlib inline\n",
    "\n",
    "plt.figure()\n",
    "plt.plot(all_losses)"
   ]
  },
  {
   "cell_type": "code",
   "execution_count": 17,
   "metadata": {},
   "outputs": [
    {
     "data": {
      "text/plain": [
       "[<matplotlib.lines.Line2D at 0x7f86925ae510>]"
      ]
     },
     "execution_count": 17,
     "metadata": {},
     "output_type": "execute_result"
    },
    {
     "data": {
      "image/png": "[encoded data removed]",
      "text/plain": [
       "<Figure size 432x288 with 1 Axes>"
      ]
     },
     "metadata": {
      "needs_background": "light"
     },
     "output_type": "display_data"
    }
   ],
   "source": [
    "# n_epochs = 20000\n",
    "# print_every = 100\n",
    "# plot_every = 10\n",
    "# hidden_size = 200\n",
    "# n_layers = 1\n",
    "# lr = 0.0005\n",
    "import matplotlib.pyplot as plt\n",
    "import matplotlib.ticker as ticker\n",
    "%matplotlib inline\n",
    "\n",
    "plt.figure()\n",
    "plt.plot(all_losses)"
   ]
  },
  {
   "cell_type": "code",
   "execution_count": 42,
   "metadata": {},
   "outputs": [
    {
     "data": {
      "text/plain": [
       "[<matplotlib.lines.Line2D at 0x7f8678512250>]"
      ]
     },
     "execution_count": 42,
     "metadata": {},
     "output_type": "execute_result"
    },
    {
     "data": {
      "image/png": "[encoded data removed]",
      "text/plain": [
       "<Figure size 432x288 with 1 Axes>"
      ]
     },
     "metadata": {
      "needs_background": "light"
     },
     "output_type": "display_data"
    }
   ],
   "source": [
    "# n_epochs = 10000\n",
    "# print_every = 100\n",
    "# plot_every = 10\n",
    "# hidden_size = 256\n",
    "# n_layers = 2\n",
    "# lr = 0.0005\n",
    "import matplotlib.pyplot as plt\n",
    "import matplotlib.ticker as ticker\n",
    "%matplotlib inline\n",
    "\n",
    "plt.figure()\n",
    "plt.plot(all_losses)"
   ]
  },
  {
   "cell_type": "markdown",
   "metadata": {},
   "source": [
    "# Evaluating at different \"temperatures\"\n",
    "\n",
    "In the `evaluate` function above, every time a prediction is made the outputs are divided by the \"temperature\" argument passed. Using a higher number makes all actions more equally likely, and thus gives us \"more random\" outputs. Using a lower value (less than 1) makes high probabilities contribute more. As we turn the temperature towards zero we are choosing only the most likely outputs.\n",
    "\n",
    "We can see the effects of this by adjusting the `temperature` argument."
   ]
  },
  {
   "cell_type": "code",
   "execution_count": 46,
   "metadata": {},
   "outputs": [
    {
     "name": "stdout",
     "output_type": "stream",
     "text": [
      "Ther deathes, as I love and offengeth\n",
      "Or out of commpains nor tricle thyself;\n",
      "I know the years, and straight, lever thee;\n",
      "You shall\n",
      "keep's a king to words.\n",
      "\n",
      "ERDIANO MACBETH:\n",
      "Come, the name that pleased \n"
     ]
    }
   ],
   "source": [
    "print(evaluate('Th', 200, temperature=0.8))"
   ]
  },
  {
   "cell_type": "markdown",
   "metadata": {},
   "source": [
    "Lower temperatures are less varied, choosing only the more probable outputs:"
   ]
  },
  {
   "cell_type": "code",
   "execution_count": 44,
   "metadata": {},
   "outputs": [
    {
     "name": "stdout",
     "output_type": "stream",
     "text": [
      "The next be some offence,\n",
      "And the princes to the country to the present\n",
      "The princes and the present the perposed the bears\n",
      "And the courtesy some friends and bears the dear\n",
      "That the fortune that the prin\n"
     ]
    }
   ],
   "source": [
    "print(evaluate('Th', 200, temperature=0.2))"
   ]
  },
  {
   "cell_type": "markdown",
   "metadata": {},
   "source": [
    "Higher temperatures more varied, choosing less probable outputs:"
   ]
  },
  {
   "cell_type": "code",
   "execution_count": 45,
   "metadata": {},
   "outputs": [
    {
     "name": "stdout",
     "output_type": "stream",
     "text": [
      "The, come eaters tle ssond of?\n",
      "Ancount oad: thou butt the weak, Witremit.\n",
      "Brothes! Our\n",
      "Durgiar bRRANHARIO:\n",
      "Uphad I hast amshiffed poistion? so into your king\n",
      "To Engltif, areay, and, letter's fairs.\n",
      "Answ\n"
     ]
    }
   ],
   "source": [
    "print(evaluate('Th', 200, temperature=1.4))"
   ]
  },
  {
   "cell_type": "code",
   "execution_count": 43,
   "metadata": {},
   "outputs": [
    {
     "name": "stdout",
     "output_type": "stream",
     "text": [
      "Perplexity: 5.414178848266602\n"
     ]
    }
   ],
   "source": [
    "# n = 2 Perplexity: 7.022691249847412\n",
    "# n = 1 Perplexity: 7.022691249847412\n",
    "# lr = 0.001; n_epochs = 10000; Perplexity: 6.100185394287109\n",
    "# lr = 0.0001; n_epochs = 10000; Perplexity: 6.9812726974487305\n",
    "# lr = 0.0005; n_epochs = 10000; Perplexity: 5.950992584228516\n",
    "# lr = 0.0005; n_epochs = 20000; Perplexity: 5.700932502746582\n",
    "# lr = 0.0005; n_epochs = 10000; n =  2; Perplexity: 5.414178848266602\n",
    "import torch.nn.functional as F\n",
    "def perp(testfile):\n",
    "    inp = char_tensor(testfile[:-1])\n",
    "    target = char_tensor(testfile[1:])\n",
    "    test_len=len(testfile)\n",
    "    hidden = decoder.init_hidden()\n",
    "    decoder.zero_grad()\n",
    "    perplexity=torch.tensor(0.0)\n",
    "\n",
    "    for c in range(test_len-1):\n",
    "        output, hidden = decoder(inp[c], hidden)\n",
    "        perplexity -=F.log_softmax(output,dim=1)[0][target[c]]\n",
    "\n",
    "    return (perplexity/test_len).exp().item()\n",
    "\n",
    "testfile = unidecode.unidecode(open('data/shakespeare_sonnets.txt').read())\n",
    "print('Perplexity:',perp(testfile))"
   ]
  },
  {
   "cell_type": "markdown",
   "metadata": {
    "collapsed": true
   },
   "source": [
    "## FAQs\n",
    "\n",
    "#### I'm unfamiliar with PyTorch. How do I get started?\n",
    "If you are new to the paradigm of computational graphs and functional programming, please have a look at this [tutorial](https://hackernoon.com/linear-regression-in-x-minutes-using-pytorch-8eec49f6a0e2) before getting started.\n",
    "\n",
    "#### How do I speed up training?\n",
    "Send the model and the input, output tensors to the GPU using ```.to(device)```. Refer the [PyTorch docs](https://pytorch.org/docs/stable/notes/cuda.html) for further information.\n"
   ]
  },
  {
   "cell_type": "code",
   "execution_count": null,
   "metadata": {},
   "outputs": [],
   "source": []
  },
  {
   "cell_type": "code",
   "execution_count": null,
   "metadata": {},
   "outputs": [],
   "source": []
  },
  {
   "cell_type": "code",
   "execution_count": null,
   "metadata": {},
   "outputs": [],
   "source": []
  }
 ],
 "metadata": {
  "anaconda-cloud": {},
  "kernelspec": {
   "display_name": "Python 3",
   "language": "python",
   "name": "python3"
  },
  "language_info": {
   "codemirror_mode": {
    "name": "ipython",
    "version": 3
   },
   "file_extension": ".py",
   "mimetype": "text/x-python",
   "name": "python",
   "nbconvert_exporter": "python",
   "pygments_lexer": "ipython3",
   "version": "3.7.4"
  }
 },
 "nbformat": 4,
 "nbformat_minor": 1
}
