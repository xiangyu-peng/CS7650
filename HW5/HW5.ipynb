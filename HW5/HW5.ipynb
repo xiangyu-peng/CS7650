{
 "cells": [
  {
   "cell_type": "markdown",
   "metadata": {
    "id": "Ab6ZUEZDPkyT"
   },
   "source": [
    "# Question Answering with SQUAD"
   ]
  },
  {
   "cell_type": "markdown",
   "metadata": {
    "id": "QE1iKRlYJey5"
   },
   "source": [
    "### Setup (if using Google Colaboratory)"
   ]
  },
  {
   "cell_type": "code",
   "execution_count": 4,
   "metadata": {
    "colab": {
     "base_uri": "https://localhost:8080/",
     "height": 54
    },
    "id": "AAi9YZfqTkF0",
    "outputId": "1245f0c5-1804-45bd-f65e-45eded65a282",
    "scrolled": true
   },
   "outputs": [],
   "source": [
    "# from google.colab import drive\n",
    "# drive.mount('/content/drive')"
   ]
  },
  {
   "cell_type": "code",
   "execution_count": 5,
   "metadata": {
    "colab": {
     "base_uri": "https://localhost:8080/",
     "height": 34
    },
    "id": "TwPVevBrrVeH",
    "outputId": "f80162f5-2eee-461e-a757-d436835f2f1c"
   },
   "outputs": [],
   "source": [
    "# %cd /content/drive/My\\ Drive/GaTech/Fall20/NLP-TA/HW5"
   ]
  },
  {
   "cell_type": "markdown",
   "metadata": {
    "id": "UR4YChEjJY4k"
   },
   "source": [
    "### Imports"
   ]
  },
  {
   "cell_type": "code",
   "execution_count": 7,
   "metadata": {
    "id": "YeZ3QArHTdsA"
   },
   "outputs": [],
   "source": [
    "import pandas as pd\n",
    "import pickle\n",
    "import torch\n",
    "import torch.nn as nn\n",
    "import torch.nn.functional as F\n",
    "import torch.optim as optim\n",
    "import random\n",
    "from tqdm.notebook import tqdm\n",
    "random.seed(1)\n",
    "%load_ext autoreload\n",
    "%autoreload 2"
   ]
  },
  {
   "cell_type": "markdown",
   "metadata": {
    "id": "5hvfwJpggx3G"
   },
   "source": [
    "## Load Data\n",
    "\n",
    "Read in the pickle files provided to you. We have preprocessed and tokenized all the question answering data form you. Just run the following cells to initialize your word and char to index maps as well as training data. \n",
    "\n",
    "For `word2idx` and `char2idx`, index 0 is reserved for *<unk>* and 1 is reserved for *<pad>*. "
   ]
  },
  {
   "cell_type": "code",
   "execution_count": 11,
   "metadata": {
    "id": "54_3_ChZCEJo"
   },
   "outputs": [],
   "source": [
    "word2idx_file = 'data/word2idx.pickle'\n",
    "char2idx_file = 'data/char2idx.pickle'\n",
    "train_pkl = 'data/train.pkl'\n",
    "valid_pkl = 'data/valid.pkl'"
   ]
  },
  {
   "cell_type": "code",
   "execution_count": 9,
   "metadata": {
    "colab": {
     "base_uri": "https://localhost:8080/",
     "height": 68
    },
    "id": "w-CyOklbxXN7",
    "outputId": "75103ca7-ab00-4ef6-a7a2-afee8a0f2449"
   },
   "outputs": [
    {
     "name": "stdout",
     "output_type": "stream",
     "text": [
      "Vocab size: 23284\n",
      "<unk> 0\n",
      "<pad> 1\n"
     ]
    }
   ],
   "source": [
    "word2idx = pickle.load(open(word2idx_file, 'rb')) # word2idx \n",
    "idx2word = {v : k for k, v in word2idx.items()}\n",
    "word_vocab = list(word2idx.keys())\n",
    "print(\"Vocab size:\", len(word_vocab))\n",
    "# for i in range(5):\n",
    "    # print(word_vocab[i], word2idx[word_vocab[i]], idx2word[word2idx[word_vocab[i]]])\n",
    "# Print <unk> and <pad>\n",
    "print(idx2word[0], word2idx['<unk>'])\n",
    "print(idx2word[1], word2idx['<pad>'])"
   ]
  },
  {
   "cell_type": "code",
   "execution_count": 10,
   "metadata": {
    "colab": {
     "base_uri": "https://localhost:8080/",
     "height": 34
    },
    "id": "GnosNsVZJeTF",
    "outputId": "ea905bab-3aba-40e4-b953-374bc1489a7b"
   },
   "outputs": [
    {
     "data": {
      "text/plain": [
       "30"
      ]
     },
     "execution_count": 10,
     "metadata": {},
     "output_type": "execute_result"
    }
   ],
   "source": [
    "MAX_WORD_LEN = max([len(x) for x in word2idx.keys()])\n",
    "MAX_WORD_LEN"
   ]
  },
  {
   "cell_type": "code",
   "execution_count": 11,
   "metadata": {
    "colab": {
     "base_uri": "https://localhost:8080/",
     "height": 68
    },
    "id": "2pqSkCzlz6rl",
    "outputId": "c2dd7d48-3262-454e-dadc-46f3205adc82"
   },
   "outputs": [
    {
     "name": "stdout",
     "output_type": "stream",
     "text": [
      "Unique chars: 96\n",
      "<unk> 0\n",
      "<pad> 1\n"
     ]
    }
   ],
   "source": [
    "char2idx = pickle.load(open(char2idx_file, 'rb')) # char2idx \n",
    "idx2char = {v : k for k, v in char2idx.items()}\n",
    "char_vocab = list(char2idx.keys())\n",
    "print(\"Unique chars:\", len(char_vocab))\n",
    "print(idx2char[0], char2idx['<unk>'])\n",
    "print(idx2char[1], char2idx['<pad>'])"
   ]
  },
  {
   "cell_type": "code",
   "execution_count": 12,
   "metadata": {
    "colab": {
     "base_uri": "https://localhost:8080/",
     "height": 374
    },
    "id": "QGQyJfQrYMJY",
    "outputId": "b8dd259d-3458-4b38-85b6-d86e400ca681"
   },
   "outputs": [
    {
     "name": "stdout",
     "output_type": "stream",
     "text": [
      "Train samples 8504\n",
      "Valid samples 2013\n"
     ]
    },
    {
     "data": {
      "text/html": [
       "<div>\n",
       "<style scoped>\n",
       "    .dataframe tbody tr th:only-of-type {\n",
       "        vertical-align: middle;\n",
       "    }\n",
       "\n",
       "    .dataframe tbody tr th {\n",
       "        vertical-align: top;\n",
       "    }\n",
       "\n",
       "    .dataframe thead th {\n",
       "        text-align: right;\n",
       "    }\n",
       "</style>\n",
       "<table border=\"1\" class=\"dataframe\">\n",
       "  <thead>\n",
       "    <tr style=\"text-align: right;\">\n",
       "      <th></th>\n",
       "      <th>id</th>\n",
       "      <th>context</th>\n",
       "      <th>question</th>\n",
       "      <th>label</th>\n",
       "      <th>answer</th>\n",
       "      <th>context_ids</th>\n",
       "      <th>question_ids</th>\n",
       "      <th>label_idx</th>\n",
       "    </tr>\n",
       "  </thead>\n",
       "  <tbody>\n",
       "    <tr>\n",
       "      <th>0</th>\n",
       "      <td>56be85543aeaaa14008c9063</td>\n",
       "      <td>Beyoncé Giselle Knowles-Carter (/biːˈjɒnseɪ/ b...</td>\n",
       "      <td>When did Beyonce start becoming popular?</td>\n",
       "      <td>[269, 286]</td>\n",
       "      <td>in the late 1990s</td>\n",
       "      <td>[72, 9510, 3491, 19, 2772, 28, 13132, 9511, 19...</td>\n",
       "      <td>[55, 21, 98, 412, 1067, 510, 5]</td>\n",
       "      <td>[56, 59]</td>\n",
       "    </tr>\n",
       "    <tr>\n",
       "      <th>1</th>\n",
       "      <td>56be85543aeaaa14008c9065</td>\n",
       "      <td>Beyoncé Giselle Knowles-Carter (/biːˈjɒnseɪ/ b...</td>\n",
       "      <td>What areas did Beyonce compete in when she was...</td>\n",
       "      <td>[207, 226]</td>\n",
       "      <td>singing and dancing</td>\n",
       "      <td>[72, 9510, 3491, 19, 2772, 28, 13132, 9511, 19...</td>\n",
       "      <td>[11, 270, 21, 98, 5164, 7, 90, 128, 12, 1204, ...</td>\n",
       "      <td>[44, 46]</td>\n",
       "    </tr>\n",
       "    <tr>\n",
       "      <th>2</th>\n",
       "      <td>56be85543aeaaa14008c9066</td>\n",
       "      <td>Beyoncé Giselle Knowles-Carter (/biːˈjɒnseɪ/ b...</td>\n",
       "      <td>When did Beyonce leave Destiny's Child and bec...</td>\n",
       "      <td>[526, 530]</td>\n",
       "      <td>2003</td>\n",
       "      <td>[72, 9510, 3491, 19, 2772, 28, 13132, 9511, 19...</td>\n",
       "      <td>[55, 21, 98, 1571, 550, 16, 609, 8, 176, 10, 7...</td>\n",
       "      <td>[112, 112]</td>\n",
       "    </tr>\n",
       "    <tr>\n",
       "      <th>3</th>\n",
       "      <td>56bf6b0f3aeaaa14008c9601</td>\n",
       "      <td>Beyoncé Giselle Knowles-Carter (/biːˈjɒnseɪ/ b...</td>\n",
       "      <td>In what city and state did Beyonce  grow up?</td>\n",
       "      <td>[166, 180]</td>\n",
       "      <td>Houston, Texas</td>\n",
       "      <td>[72, 9510, 3491, 19, 2772, 28, 13132, 9511, 19...</td>\n",
       "      <td>[31, 25, 82, 8, 153, 21, 98, 293, 4104, 113, 5]</td>\n",
       "      <td>[36, 38]</td>\n",
       "    </tr>\n",
       "    <tr>\n",
       "      <th>4</th>\n",
       "      <td>56bf6b0f3aeaaa14008c9602</td>\n",
       "      <td>Beyoncé Giselle Knowles-Carter (/biːˈjɒnseɪ/ b...</td>\n",
       "      <td>In which decade did Beyonce become famous?</td>\n",
       "      <td>[276, 286]</td>\n",
       "      <td>late 1990s</td>\n",
       "      <td>[72, 9510, 3491, 19, 2772, 28, 13132, 9511, 19...</td>\n",
       "      <td>[31, 35, 857, 21, 98, 176, 765, 5]</td>\n",
       "      <td>[58, 59]</td>\n",
       "    </tr>\n",
       "  </tbody>\n",
       "</table>\n",
       "</div>"
      ],
      "text/plain": [
       "                         id  \\\n",
       "0  56be85543aeaaa14008c9063   \n",
       "1  56be85543aeaaa14008c9065   \n",
       "2  56be85543aeaaa14008c9066   \n",
       "3  56bf6b0f3aeaaa14008c9601   \n",
       "4  56bf6b0f3aeaaa14008c9602   \n",
       "\n",
       "                                             context  \\\n",
       "0  Beyoncé Giselle Knowles-Carter (/biːˈjɒnseɪ/ b...   \n",
       "1  Beyoncé Giselle Knowles-Carter (/biːˈjɒnseɪ/ b...   \n",
       "2  Beyoncé Giselle Knowles-Carter (/biːˈjɒnseɪ/ b...   \n",
       "3  Beyoncé Giselle Knowles-Carter (/biːˈjɒnseɪ/ b...   \n",
       "4  Beyoncé Giselle Knowles-Carter (/biːˈjɒnseɪ/ b...   \n",
       "\n",
       "                                            question       label  \\\n",
       "0           When did Beyonce start becoming popular?  [269, 286]   \n",
       "1  What areas did Beyonce compete in when she was...  [207, 226]   \n",
       "2  When did Beyonce leave Destiny's Child and bec...  [526, 530]   \n",
       "3      In what city and state did Beyonce  grow up?   [166, 180]   \n",
       "4         In which decade did Beyonce become famous?  [276, 286]   \n",
       "\n",
       "                answer                                        context_ids  \\\n",
       "0    in the late 1990s  [72, 9510, 3491, 19, 2772, 28, 13132, 9511, 19...   \n",
       "1  singing and dancing  [72, 9510, 3491, 19, 2772, 28, 13132, 9511, 19...   \n",
       "2                 2003  [72, 9510, 3491, 19, 2772, 28, 13132, 9511, 19...   \n",
       "3       Houston, Texas  [72, 9510, 3491, 19, 2772, 28, 13132, 9511, 19...   \n",
       "4           late 1990s  [72, 9510, 3491, 19, 2772, 28, 13132, 9511, 19...   \n",
       "\n",
       "                                        question_ids   label_idx  \n",
       "0                    [55, 21, 98, 412, 1067, 510, 5]    [56, 59]  \n",
       "1  [11, 270, 21, 98, 5164, 7, 90, 128, 12, 1204, ...    [44, 46]  \n",
       "2  [55, 21, 98, 1571, 550, 16, 609, 8, 176, 10, 7...  [112, 112]  \n",
       "3    [31, 25, 82, 8, 153, 21, 98, 293, 4104, 113, 5]    [36, 38]  \n",
       "4                 [31, 35, 857, 21, 98, 176, 765, 5]    [58, 59]  "
      ]
     },
     "execution_count": 12,
     "metadata": {},
     "output_type": "execute_result"
    }
   ],
   "source": [
    "val_df = pd.read_pickle(valid_pkl).reset_index(drop=True)\n",
    "train_df = pd.read_pickle(train_pkl).reset_index(drop=True)\n",
    "print(\"Train samples\", len(train_df))\n",
    "print(\"Valid samples\", len(val_df))\n",
    "train_df.head()"
   ]
  },
  {
   "cell_type": "code",
   "execution_count": 13,
   "metadata": {
    "colab": {
     "base_uri": "https://localhost:8080/",
     "height": 119
    },
    "id": "LFx4g9oxZDJb",
    "outputId": "72c090a1-ecd8-4ba5-befb-f642e4561cd9"
   },
   "outputs": [
    {
     "name": "stdout",
     "output_type": "stream",
     "text": [
      "Question: Shuman patented his solar engine system in what year?\n",
      "Question Ids: [2581, 12835, 36, 107, 2090, 151, 7, 25, 59, 5]\n",
      "Answer: 1912\n",
      "Answer Ids: [11205]\n",
      "Context: entire solar engine system by 1912.\n",
      "Context Ids: [935, 107, 2090, 151, 24, 11205, 6]\n"
     ]
    }
   ],
   "source": [
    "sample = train_df.sample(1).iloc[0]\n",
    "print(\"Question:\", sample.question)\n",
    "print(\"Question Ids:\", sample.question_ids)\n",
    "print(\"Answer:\", sample.answer)\n",
    "print(\"Answer Ids:\", [word2idx[x] for x in sample.answer.split()])\n",
    "[char_start, char_end] = sample.label\n",
    "print(\"Context:\", sample.context[char_start - 30 : char_end + 30])\n",
    "[token_start, token_end] = sample.label_idx\n",
    "print(\"Context Ids:\", sample.context_ids[token_start - 5: token_end + 5])"
   ]
  },
  {
   "cell_type": "code",
   "execution_count": 14,
   "metadata": {
    "colab": {
     "base_uri": "https://localhost:8080/",
     "height": 51
    },
    "id": "EBP9XNT8bkNW",
    "outputId": "6a956646-0bdb-4fb4-c777-5d3a23e5865c"
   },
   "outputs": [
    {
     "name": "stdout",
     "output_type": "stream",
     "text": [
      "Train samples 8504\n",
      "Val samples 2013\n"
     ]
    }
   ],
   "source": [
    "# Counts\n",
    "print(\"Train samples\", len(train_df))\n",
    "print(\"Val samples\", len(val_df))"
   ]
  },
  {
   "cell_type": "code",
   "execution_count": 15,
   "metadata": {},
   "outputs": [
    {
     "data": {
      "text/plain": [
       "id\n",
       "56ddde6b9a695914005b9628                     [France, France, France, France]\n",
       "56ddde6b9a695914005b9629    [10th and 11th centuries, in the 10th and 11th...\n",
       "56ddde6b9a695914005b962a    [Denmark, Iceland and Norway, Denmark, Iceland...\n",
       "56ddde6b9a695914005b962b                         [Rollo, Rollo, Rollo, Rollo]\n",
       "56ddde6b9a695914005b962c    [10th century, the first half of the 10th cent...\n",
       "Name: answer, dtype: object"
      ]
     },
     "execution_count": 15,
     "metadata": {},
     "output_type": "execute_result"
    }
   ],
   "source": [
    "gold_val_answers = val_df[['id', 'answer']].groupby('id')['answer'].apply(list)\n",
    "gold_val_answers.head()"
   ]
  },
  {
   "cell_type": "markdown",
   "metadata": {
    "id": "OmeReyXq0aiS"
   },
   "source": [
    "# 1. BiLSTM + Attention (same as [BiDAF](https://arxiv.org/abs/1611.01603) but different encoder)\n",
    "\n",
    "> Let's implement a variant of BiDAF using the same LSTM code from HW4 as encoder. \n",
    "\n",
    "\n",
    "<img src=\"img/BiDAF.png\">\n",
    "\n",
    "Here, we will swap out *Contextual Embed Layer*, *Word Embed Layer*, and *Character Embed Layer* with our own LSTM-based encoder. "
   ]
  },
  {
   "cell_type": "code",
   "execution_count": 37,
   "metadata": {
    "id": "qBA4-sLXgX0B"
   },
   "outputs": [],
   "source": [
    "# you will need to import again after every change you make\n",
    "#    autoreload does not work here for some reason (let us \n",
    "#    know on piazza if you figure out a fix)\n",
    "from MyQA import *"
   ]
  },
  {
   "cell_type": "code",
   "execution_count": 32,
   "metadata": {},
   "outputs": [],
   "source": [
    "sampleInput = train_df.iloc[0]\n",
    "context = sampleInput.context_ids # tokenized context converted to ids\n",
    "question = sampleInput.question_ids # tokenized query converted to ids\n",
    "labels = sampleInput.label_idx # [start_idx, end_idx] of answer\n",
    "# create char inputs for context and question\n",
    "context_chars = []\n",
    "for w in context:\n",
    "    w = idx2word[w]\n",
    "    padding = ['<pad>'] * (MAX_WORD_LEN - len(w))\n",
    "    context_chars += padding + list(w)\n",
    "context_chars = prepare_sequence(context_chars, char2idx)\n",
    "\n",
    "question_chars = []\n",
    "for w in question:\n",
    "    w = idx2word[w]\n",
    "    padding = ['<pad>'] * (MAX_WORD_LEN - len(w))\n",
    "    question_chars += padding + list(w)\n",
    "question_chars = prepare_sequence(question_chars, char2idx)\n",
    "context = torch.tensor(context, dtype=torch.long)\n",
    "question = torch.tensor(question, dtype=torch.long)"
   ]
  },
  {
   "cell_type": "code",
   "execution_count": 33,
   "metadata": {
    "id": "xdUazL3fbODI"
   },
   "outputs": [],
   "source": [
    "# Hyperparameters (you will need to change these)\n",
    "# Encoding layer\n",
    "EMBEDDING_DIM = 6\n",
    "HIDDEN_DIM = 3\n",
    "LEARNING_RATE = 0.1\n",
    "LSTM_LAYERS = 1\n",
    "DROPOUT = 0\n",
    "EPOCHS = 2\n",
    "CHAR_EMBEDDING_DIM = 3\n",
    "CHAR_HIDDEN_DIM = 3\n",
    "BIDIRECTIONAL_LSTM = True\n",
    "# Modeling layer\n",
    "LSTM_LAYERS_MODELING = 2"
   ]
  },
  {
   "cell_type": "markdown",
   "metadata": {},
   "source": [
    "### Part 1: Encoder\n",
    "\n",
    "We will use the same POSTagger architecture to encode our passage and questions. The minor distinction here is, you have to encode inputs twice. Once for passage (\"context\") and one for the question (\"query\"). *Check that this works before moving on the the next part.*\n",
    "We will also omit the HighWay Layer for this HW. However, you are welcome to add it for Part 2. \n",
    "\n",
    "Implement code in `LSTMEncoder` class in `MyQA.py`. "
   ]
  },
  {
   "cell_type": "code",
   "execution_count": 34,
   "metadata": {},
   "outputs": [
    {
     "name": "stdout",
     "output_type": "stream",
     "text": [
      "SUCCESS\n"
     ]
    }
   ],
   "source": [
    "directions = 1 if not BIDIRECTIONAL_LSTM else 2\n",
    "encode = LSTMEncoder(EMBEDDING_DIM, HIDDEN_DIM, \n",
    "                     CHAR_EMBEDDING_DIM, CHAR_HIDDEN_DIM, \n",
    "                     len(char2idx), len(word2idx), lstm_layers=LSTM_LAYERS, \n",
    "                     bidirectional=BIDIRECTIONAL_LSTM, dropout=DROPOUT)\n",
    "context_enc, query_enc = encode(context, context_chars, question, question_chars)\n",
    "\n",
    "# verify this with various hyperparameters (by running this cell multiple times)\n",
    "\n",
    "assert context_enc.shape == (len(context), HIDDEN_DIM*directions)\n",
    "assert query_enc.shape == (len(question), HIDDEN_DIM*directions)\n",
    "\n",
    "print(\"SUCCESS\")"
   ]
  },
  {
   "cell_type": "markdown",
   "metadata": {},
   "source": [
    "### Part 2: Attention Layer\n",
    "\n",
    "Implement the Attention Flow Layer same as in BiDAF paper inside `AttentionFlow`. More instructions are included in `MyQA.py`. \n",
    "\n"
   ]
  },
  {
   "cell_type": "code",
   "execution_count": 35,
   "metadata": {},
   "outputs": [
    {
     "name": "stdout",
     "output_type": "stream",
     "text": [
      "torch.Size([149, 24])\n",
      "SUCCESS\n"
     ]
    }
   ],
   "source": [
    "attention = AttentionFlow(HIDDEN_DIM * directions * 3)\n",
    "G = attention(context_enc, query_enc)\n",
    "print(G.shape)\n",
    "\n",
    "# verify this with various hyperparameters (by running this cell multiple times)\n",
    "assert G.shape == (len(context), HIDDEN_DIM * directions * 4)\n",
    "print(\"SUCCESS\")\n"
   ]
  },
  {
   "cell_type": "markdown",
   "metadata": {},
   "source": [
    "### Part 3: Modeling Layer\n",
    "\n",
    "Implement the `ModelingLayer` class in `MyQA.py` same as in BiDAF paper. More instructions are included in `MyQA.py`"
   ]
  },
  {
   "cell_type": "code",
   "execution_count": 46,
   "metadata": {},
   "outputs": [
    {
     "name": "stdout",
     "output_type": "stream",
     "text": [
      "M torch.Size([149, 6]) 149 6\n",
      "SUCCESS\n"
     ]
    }
   ],
   "source": [
    "from MyQA import *\n",
    "modeling = ModelingLayer(HIDDEN_DIM * directions * 4, HIDDEN_DIM, \n",
    "                         num_layers=LSTM_LAYERS_MODELING, dropout=DROPOUT, \n",
    "                         bidirectional=BIDIRECTIONAL_LSTM)\n",
    "M = modeling(G)\n",
    "print('M', M.shape, len(context), HIDDEN_DIM * directions)\n",
    "# verify this with various hyperparameters (by running this cell multiple times)\n",
    "assert M.shape == (len(context), HIDDEN_DIM * directions)\n",
    "\n",
    "print(\"SUCCESS\")"
   ]
  },
  {
   "cell_type": "markdown",
   "metadata": {},
   "source": [
    "### Part 4: Output Layer\n",
    "\n",
    "Implement the `OutputLayer` class in `MyQA.py` that will yield start_idx and end_idx vectors.\n"
   ]
  },
  {
   "cell_type": "code",
   "execution_count": 12,
   "metadata": {},
   "outputs": [
    {
     "name": "stdout",
     "output_type": "stream",
     "text": [
      "SUCCESS\n"
     ]
    }
   ],
   "source": [
    "output = OutputLayer(HIDDEN_DIM*directions*5, HIDDEN_DIM * directions, \n",
    "                     HIDDEN_DIM, bidirectional=BIDIRECTIONAL_LSTM)\n",
    "\n",
    "start, end = output(G.double(), M)\n",
    "\n",
    "# verify this with various hyperparameters (by running this cell multiple times)\n",
    "start = start.unsqueeze(0)\n",
    "end = end.unsqueeze(0)\n",
    "\n",
    "assert start.shape == (1, len(context))\n",
    "assert end.shape == (1, len(context))\n",
    "\n",
    "print(\"SUCCESS\")"
   ]
  },
  {
   "cell_type": "markdown",
   "metadata": {},
   "source": [
    "### Finally implement the `BiDAF` class\n",
    "\n",
    "Now combine all the modules you just wrote into `BiDAF` class in `MyQA.py`"
   ]
  },
  {
   "cell_type": "code",
   "execution_count": 17,
   "metadata": {},
   "outputs": [
    {
     "name": "stdout",
     "output_type": "stream",
     "text": [
      "SUCCESS\n"
     ]
    }
   ],
   "source": [
    "model = BiDAF(EMBEDDING_DIM, HIDDEN_DIM, CHAR_EMBEDDING_DIM, \n",
    "               CHAR_HIDDEN_DIM, len(char2idx), len(word2idx), \n",
    "               bidirectional=BIDIRECTIONAL_LSTM, phrase_LSTM_layers=LSTM_LAYERS, \n",
    "               modeling_LSTM_layers=LSTM_LAYERS_MODELING, dropout=DROPOUT)\n",
    "\n",
    "start, end = model(context, context_chars, question, question_chars)\n",
    "start = start.unsqueeze(0)\n",
    "end = end.unsqueeze(0)\n",
    "\n",
    "# verify this with various hyperparameters (by running this cell multiple times)\n",
    "assert start.shape == (1, len(context))\n",
    "assert end.shape == (1, len(context))\n",
    "\n",
    "print(\"SUCCESS\")"
   ]
  },
  {
   "cell_type": "markdown",
   "metadata": {},
   "source": [
    "# 2. Implement Training and Eval\n",
    "\n",
    "For this homework, you are required to just implement the train and eval functions. You don't need to train it until convergence or until it reaches high accuracy. However, as you might've noticed, the hyperparameters are the same as HW4. After implementing train and eval, your goal is to train the network for 2 epochs and tune hyperparameters so that the loss is decreasing consistently. We will verify this from your outputs. \n",
    "\n",
    "The idea here is to see the network we constructed above work. "
   ]
  },
  {
   "cell_type": "code",
   "execution_count": 68,
   "metadata": {},
   "outputs": [],
   "source": [
    "# # Hyperparameters (you will need to change these)\n",
    "# #Iter: 8503/8504\tAvg Train Loss: 9.4279\tAvg Val Loss: 9.2280\n",
    "# # Encoding layer\n",
    "# EMBEDDING_DIM = 12\n",
    "# HIDDEN_DIM = 6\n",
    "# LEARNING_RATE = 0.005\n",
    "# LSTM_LAYERS = 1\n",
    "# DROPOUT = 0.1\n",
    "# EPOCHS = 2\n",
    "# CHAR_EMBEDDING_DIM = 6\n",
    "# CHAR_HIDDEN_DIM = 6\n",
    "# BIDIRECTIONAL_LSTM = True\n",
    "# # Modeling layer\n",
    "# LSTM_LAYERS_MODELING = 2\n",
    "\n",
    "# Hyperparameters (you will need to change these)\n",
    "# Iter: 8503/8504\tAvg Train Loss: 9.2655\tAvg Val Loss: 9.0793\n",
    "# Encoding layer\n",
    "# EMBEDDING_DIM = 32\n",
    "# HIDDEN_DIM = 16\n",
    "# LEARNING_RATE = 0.01\n",
    "# LSTM_LAYERS = 2\n",
    "# DROPOUT = 0.1\n",
    "# EPOCHS = 2\n",
    "# CHAR_EMBEDDING_DIM = 16\n",
    "# CHAR_HIDDEN_DIM = 16\n",
    "# BIDIRECTIONAL_LSTM = True\n",
    "# # Modeling layer\n",
    "# LSTM_LAYERS_MODELING = 2\n",
    "\n",
    "#Epoch1: Iter: 8503/8504\tAvg Train Loss: 9.3010\tAvg Val Loss: 9.0261\n",
    "#Epoch2: Iter: 8503/8504\tAvg Train Loss: 8.8123\tAvg Val Loss: 8.7616\n",
    "# Encoding layer\n",
    "# EMBEDDING_DIM = 64\n",
    "# HIDDEN_DIM = 32\n",
    "# LEARNING_RATE = 0.01\n",
    "# LSTM_LAYERS = 2\n",
    "# DROPOUT = 0.1\n",
    "# EPOCHS = 2\n",
    "# CHAR_EMBEDDING_DIM = 32\n",
    "# CHAR_HIDDEN_DIM = 32\n",
    "# BIDIRECTIONAL_LSTM = True\n",
    "# # Modeling layer\n",
    "# LSTM_LAYERS_MODELING = 2\n",
    "\n",
    "\n",
    "# Encoding layer\n",
    "\n",
    "EMBEDDING_DIM = 256\n",
    "HIDDEN_DIM = 128\n",
    "LEARNING_RATE = 0.01\n",
    "LSTM_LAYERS = 2\n",
    "DROPOUT = 0.1\n",
    "EPOCHS = 2\n",
    "CHAR_EMBEDDING_DIM = 128\n",
    "CHAR_HIDDEN_DIM = 128\n",
    "BIDIRECTIONAL_LSTM = True\n",
    "# Modeling layer\n",
    "LSTM_LAYERS_MODELING = 2"
   ]
  },
  {
   "cell_type": "code",
   "execution_count": 69,
   "metadata": {},
   "outputs": [],
   "source": [
    "def get_eval_scores(predictions):\n",
    "    \"\"\"2D list of [[ID, PRED], [ID, PRED], ...]\"\"\"\n",
    "    f1 = exact_match = 0\n",
    "    for row in predictions:\n",
    "        [ID, PRED] = row\n",
    "        goldans = gold_val_answers.loc[ID]\n",
    "        f1 += max(compute_f1(g, PRED) for g in goldans)\n",
    "        exact_match += max(compute_exact(g, PRED) for g in goldans)\n",
    "    num_samples = len(predictions)\n",
    "    return f1 / num_samples, exact_match / num_samples"
   ]
  },
  {
   "cell_type": "code",
   "execution_count": 71,
   "metadata": {
    "id": "VKHYPwgWBB5y",
    "scrolled": false
   },
   "outputs": [
    {
     "data": {
      "application/vnd.jupyter.widget-view+json": {
       "model_id": "6db67017221b44ff88f1c778a887b485",
       "version_major": 2,
       "version_minor": 0
      },
      "text/plain": [
       "HBox(children=(FloatProgress(value=0.0, max=8504.0), HTML(value='')))"
      ]
     },
     "metadata": {},
     "output_type": "display_data"
    },
    {
     "data": {
      "application/vnd.jupyter.widget-view+json": {
       "model_id": "30fe5cbb96924ee898e4c44da54691e0",
       "version_major": 2,
       "version_minor": 0
      },
      "text/plain": [
       "HBox(children=(FloatProgress(value=0.0, max=10.0), HTML(value='')))"
      ]
     },
     "metadata": {},
     "output_type": "display_data"
    },
    {
     "name": "stdout",
     "output_type": "stream",
     "text": [
      "\n",
      "Iter: 99/8504\tAvg Train Loss: 10.5517\tAvg Val Loss: 9.2310\tVal F1: 0 \tVal ExactMatch: 0\n"
     ]
    },
    {
     "data": {
      "application/vnd.jupyter.widget-view+json": {
       "model_id": "1596e797dff84f5fb67b7e2184c06ba9",
       "version_major": 2,
       "version_minor": 0
      },
      "text/plain": [
       "HBox(children=(FloatProgress(value=0.0, max=10.0), HTML(value='')))"
      ]
     },
     "metadata": {},
     "output_type": "display_data"
    },
    {
     "name": "stdout",
     "output_type": "stream",
     "text": [
      "\n",
      "Iter: 199/8504\tAvg Train Loss: 10.6183\tAvg Val Loss: 9.0218\tVal F1: 0 \tVal ExactMatch: 0\n"
     ]
    },
    {
     "data": {
      "application/vnd.jupyter.widget-view+json": {
       "model_id": "9f38254d1e1f426d911f7c199b36917f",
       "version_major": 2,
       "version_minor": 0
      },
      "text/plain": [
       "HBox(children=(FloatProgress(value=0.0, max=10.0), HTML(value='')))"
      ]
     },
     "metadata": {},
     "output_type": "display_data"
    },
    {
     "name": "stdout",
     "output_type": "stream",
     "text": [
      "\n",
      "Iter: 299/8504\tAvg Train Loss: 10.3697\tAvg Val Loss: 8.9682\tVal F1: 0 \tVal ExactMatch: 0\n"
     ]
    },
    {
     "data": {
      "application/vnd.jupyter.widget-view+json": {
       "model_id": "97a3324dc3174be0889e2fd96a2c4f40",
       "version_major": 2,
       "version_minor": 0
      },
      "text/plain": [
       "HBox(children=(FloatProgress(value=0.0, max=10.0), HTML(value='')))"
      ]
     },
     "metadata": {},
     "output_type": "display_data"
    },
    {
     "name": "stdout",
     "output_type": "stream",
     "text": [
      "\n",
      "Iter: 399/8504\tAvg Train Loss: 10.2203\tAvg Val Loss: 9.3847\tVal F1: 0 \tVal ExactMatch: 0\n"
     ]
    },
    {
     "data": {
      "application/vnd.jupyter.widget-view+json": {
       "model_id": "e7ab8d62e4144592bfb5f2d190062179",
       "version_major": 2,
       "version_minor": 0
      },
      "text/plain": [
       "HBox(children=(FloatProgress(value=0.0, max=10.0), HTML(value='')))"
      ]
     },
     "metadata": {},
     "output_type": "display_data"
    },
    {
     "name": "stdout",
     "output_type": "stream",
     "text": [
      "\n",
      "Iter: 499/8504\tAvg Train Loss: 10.1632\tAvg Val Loss: 9.1513\tVal F1: 0 \tVal ExactMatch: 0\n"
     ]
    },
    {
     "data": {
      "application/vnd.jupyter.widget-view+json": {
       "model_id": "b6f1766afa314d8d9d6ee3ab52b91be4",
       "version_major": 2,
       "version_minor": 0
      },
      "text/plain": [
       "HBox(children=(FloatProgress(value=0.0, max=10.0), HTML(value='')))"
      ]
     },
     "metadata": {},
     "output_type": "display_data"
    },
    {
     "name": "stdout",
     "output_type": "stream",
     "text": [
      "\n",
      "Iter: 599/8504\tAvg Train Loss: 10.0834\tAvg Val Loss: 9.0893\tVal F1: 0 \tVal ExactMatch: 0\n"
     ]
    },
    {
     "data": {
      "application/vnd.jupyter.widget-view+json": {
       "model_id": "c836087cfefd43bd978dc7b1374f9737",
       "version_major": 2,
       "version_minor": 0
      },
      "text/plain": [
       "HBox(children=(FloatProgress(value=0.0, max=10.0), HTML(value='')))"
      ]
     },
     "metadata": {},
     "output_type": "display_data"
    },
    {
     "name": "stdout",
     "output_type": "stream",
     "text": [
      "\n",
      "Iter: 699/8504\tAvg Train Loss: 10.0746\tAvg Val Loss: 8.9206\tVal F1: 0 \tVal ExactMatch: 0\n"
     ]
    },
    {
     "data": {
      "application/vnd.jupyter.widget-view+json": {
       "model_id": "76726fe5399641b38ab767274347aaaf",
       "version_major": 2,
       "version_minor": 0
      },
      "text/plain": [
       "HBox(children=(FloatProgress(value=0.0, max=10.0), HTML(value='')))"
      ]
     },
     "metadata": {},
     "output_type": "display_data"
    },
    {
     "name": "stdout",
     "output_type": "stream",
     "text": [
      "\n",
      "Iter: 799/8504\tAvg Train Loss: 10.0609\tAvg Val Loss: 8.6278\tVal F1: 0 \tVal ExactMatch: 0\n"
     ]
    },
    {
     "data": {
      "application/vnd.jupyter.widget-view+json": {
       "model_id": "28902d725dfd419caab9da16ecf87c9b",
       "version_major": 2,
       "version_minor": 0
      },
      "text/plain": [
       "HBox(children=(FloatProgress(value=0.0, max=10.0), HTML(value='')))"
      ]
     },
     "metadata": {},
     "output_type": "display_data"
    },
    {
     "name": "stdout",
     "output_type": "stream",
     "text": [
      "\n",
      "Iter: 899/8504\tAvg Train Loss: 9.9895\tAvg Val Loss: 8.7143\tVal F1: 0 \tVal ExactMatch: 0\n"
     ]
    },
    {
     "data": {
      "application/vnd.jupyter.widget-view+json": {
       "model_id": "01550ce69ddf43ed80e9d24ce48ec975",
       "version_major": 2,
       "version_minor": 0
      },
      "text/plain": [
       "HBox(children=(FloatProgress(value=0.0, max=10.0), HTML(value='')))"
      ]
     },
     "metadata": {},
     "output_type": "display_data"
    },
    {
     "name": "stdout",
     "output_type": "stream",
     "text": [
      "\n",
      "Iter: 999/8504\tAvg Train Loss: 9.9620\tAvg Val Loss: 9.7531\tVal F1: 0 \tVal ExactMatch: 0\n"
     ]
    },
    {
     "data": {
      "application/vnd.jupyter.widget-view+json": {
       "model_id": "abfd63bda81244b6aca13f98f288d8d9",
       "version_major": 2,
       "version_minor": 0
      },
      "text/plain": [
       "HBox(children=(FloatProgress(value=0.0, max=10.0), HTML(value='')))"
      ]
     },
     "metadata": {},
     "output_type": "display_data"
    },
    {
     "name": "stdout",
     "output_type": "stream",
     "text": [
      "\n",
      "Iter: 1099/8504\tAvg Train Loss: 10.0033\tAvg Val Loss: 8.8350\tVal F1: 0 \tVal ExactMatch: 0\n"
     ]
    },
    {
     "data": {
      "application/vnd.jupyter.widget-view+json": {
       "model_id": "0643f4c67477458d91436d2561391f80",
       "version_major": 2,
       "version_minor": 0
      },
      "text/plain": [
       "HBox(children=(FloatProgress(value=0.0, max=10.0), HTML(value='')))"
      ]
     },
     "metadata": {},
     "output_type": "display_data"
    },
    {
     "name": "stdout",
     "output_type": "stream",
     "text": [
      "\n",
      "Iter: 1199/8504\tAvg Train Loss: 9.9142\tAvg Val Loss: 9.2636\tVal F1: 0 \tVal ExactMatch: 0\n"
     ]
    },
    {
     "data": {
      "application/vnd.jupyter.widget-view+json": {
       "model_id": "eab2975db12f4531bcdc3d17731dc3b9",
       "version_major": 2,
       "version_minor": 0
      },
      "text/plain": [
       "HBox(children=(FloatProgress(value=0.0, max=10.0), HTML(value='')))"
      ]
     },
     "metadata": {},
     "output_type": "display_data"
    },
    {
     "name": "stdout",
     "output_type": "stream",
     "text": [
      "\n",
      "Iter: 1299/8504\tAvg Train Loss: 9.8350\tAvg Val Loss: 8.8611\tVal F1: 10 \tVal ExactMatch: 10\n"
     ]
    },
    {
     "data": {
      "application/vnd.jupyter.widget-view+json": {
       "model_id": "017ba002f7fc4e2ca0c1024474dec049",
       "version_major": 2,
       "version_minor": 0
      },
      "text/plain": [
       "HBox(children=(FloatProgress(value=0.0, max=10.0), HTML(value='')))"
      ]
     },
     "metadata": {},
     "output_type": "display_data"
    },
    {
     "name": "stdout",
     "output_type": "stream",
     "text": [
      "\n",
      "Iter: 1399/8504\tAvg Train Loss: 9.8006\tAvg Val Loss: 8.8387\tVal F1: 0 \tVal ExactMatch: 0\n"
     ]
    },
    {
     "data": {
      "application/vnd.jupyter.widget-view+json": {
       "model_id": "dd87ab3f33584d02a5b1af3dd6dfc2b1",
       "version_major": 2,
       "version_minor": 0
      },
      "text/plain": [
       "HBox(children=(FloatProgress(value=0.0, max=10.0), HTML(value='')))"
      ]
     },
     "metadata": {},
     "output_type": "display_data"
    },
    {
     "name": "stdout",
     "output_type": "stream",
     "text": [
      "\n",
      "Iter: 1499/8504\tAvg Train Loss: 9.7771\tAvg Val Loss: 8.8880\tVal F1: 0 \tVal ExactMatch: 0\n"
     ]
    },
    {
     "data": {
      "application/vnd.jupyter.widget-view+json": {
       "model_id": "febbc5b522e6469a9873e6915175af63",
       "version_major": 2,
       "version_minor": 0
      },
      "text/plain": [
       "HBox(children=(FloatProgress(value=0.0, max=10.0), HTML(value='')))"
      ]
     },
     "metadata": {},
     "output_type": "display_data"
    },
    {
     "name": "stdout",
     "output_type": "stream",
     "text": [
      "\n",
      "Iter: 1599/8504\tAvg Train Loss: 9.7464\tAvg Val Loss: 9.6214\tVal F1: 0 \tVal ExactMatch: 0\n"
     ]
    },
    {
     "data": {
      "application/vnd.jupyter.widget-view+json": {
       "model_id": "58cbcf4dd2a744d9961e6af401e50008",
       "version_major": 2,
       "version_minor": 0
      },
      "text/plain": [
       "HBox(children=(FloatProgress(value=0.0, max=10.0), HTML(value='')))"
      ]
     },
     "metadata": {},
     "output_type": "display_data"
    },
    {
     "name": "stdout",
     "output_type": "stream",
     "text": [
      "\n",
      "Iter: 1699/8504\tAvg Train Loss: 9.7665\tAvg Val Loss: 8.7381\tVal F1: 0 \tVal ExactMatch: 0\n"
     ]
    },
    {
     "data": {
      "application/vnd.jupyter.widget-view+json": {
       "model_id": "946a9268be5d46619cf353ef3a496ffe",
       "version_major": 2,
       "version_minor": 0
      },
      "text/plain": [
       "HBox(children=(FloatProgress(value=0.0, max=10.0), HTML(value='')))"
      ]
     },
     "metadata": {},
     "output_type": "display_data"
    },
    {
     "name": "stdout",
     "output_type": "stream",
     "text": [
      "\n",
      "Iter: 1799/8504\tAvg Train Loss: 9.7382\tAvg Val Loss: 9.5916\tVal F1: 0 \tVal ExactMatch: 0\n"
     ]
    },
    {
     "data": {
      "application/vnd.jupyter.widget-view+json": {
       "model_id": "6b92cf4889264abcb0530964fdb56fec",
       "version_major": 2,
       "version_minor": 0
      },
      "text/plain": [
       "HBox(children=(FloatProgress(value=0.0, max=10.0), HTML(value='')))"
      ]
     },
     "metadata": {},
     "output_type": "display_data"
    },
    {
     "name": "stdout",
     "output_type": "stream",
     "text": [
      "\n",
      "Iter: 1899/8504\tAvg Train Loss: 9.7069\tAvg Val Loss: 9.0205\tVal F1: 0 \tVal ExactMatch: 0\n"
     ]
    },
    {
     "data": {
      "application/vnd.jupyter.widget-view+json": {
       "model_id": "765af7473977427fb0eae1cff56fa84b",
       "version_major": 2,
       "version_minor": 0
      },
      "text/plain": [
       "HBox(children=(FloatProgress(value=0.0, max=10.0), HTML(value='')))"
      ]
     },
     "metadata": {},
     "output_type": "display_data"
    },
    {
     "name": "stdout",
     "output_type": "stream",
     "text": [
      "\n",
      "Iter: 1999/8504\tAvg Train Loss: 9.6607\tAvg Val Loss: 9.4314\tVal F1: 10 \tVal ExactMatch: 10\n"
     ]
    },
    {
     "data": {
      "application/vnd.jupyter.widget-view+json": {
       "model_id": "74d3f58bd3544f2d9e81d61ef5ba7643",
       "version_major": 2,
       "version_minor": 0
      },
      "text/plain": [
       "HBox(children=(FloatProgress(value=0.0, max=10.0), HTML(value='')))"
      ]
     },
     "metadata": {},
     "output_type": "display_data"
    },
    {
     "name": "stdout",
     "output_type": "stream",
     "text": [
      "\n",
      "Iter: 2099/8504\tAvg Train Loss: 9.6409\tAvg Val Loss: 8.4356\tVal F1: 0 \tVal ExactMatch: 0\n"
     ]
    },
    {
     "data": {
      "application/vnd.jupyter.widget-view+json": {
       "model_id": "3a672bba65684e9d8bc9ffa28cead738",
       "version_major": 2,
       "version_minor": 0
      },
      "text/plain": [
       "HBox(children=(FloatProgress(value=0.0, max=10.0), HTML(value='')))"
      ]
     },
     "metadata": {},
     "output_type": "display_data"
    },
    {
     "name": "stdout",
     "output_type": "stream",
     "text": [
      "\n",
      "Iter: 2199/8504\tAvg Train Loss: 9.6288\tAvg Val Loss: 8.8209\tVal F1: 7 \tVal ExactMatch: 0\n"
     ]
    },
    {
     "data": {
      "application/vnd.jupyter.widget-view+json": {
       "model_id": "eaf086f3521047d4a9c09a7c3bb7a4d1",
       "version_major": 2,
       "version_minor": 0
      },
      "text/plain": [
       "HBox(children=(FloatProgress(value=0.0, max=10.0), HTML(value='')))"
      ]
     },
     "metadata": {},
     "output_type": "display_data"
    },
    {
     "name": "stdout",
     "output_type": "stream",
     "text": [
      "\n",
      "Iter: 2299/8504\tAvg Train Loss: 9.6212\tAvg Val Loss: 8.6899\tVal F1: 0 \tVal ExactMatch: 0\n"
     ]
    },
    {
     "data": {
      "application/vnd.jupyter.widget-view+json": {
       "model_id": "af970d4fe8b8453fbc3bf76a63da2837",
       "version_major": 2,
       "version_minor": 0
      },
      "text/plain": [
       "HBox(children=(FloatProgress(value=0.0, max=10.0), HTML(value='')))"
      ]
     },
     "metadata": {},
     "output_type": "display_data"
    },
    {
     "name": "stdout",
     "output_type": "stream",
     "text": [
      "\n",
      "Iter: 2399/8504\tAvg Train Loss: 9.6046\tAvg Val Loss: 9.5524\tVal F1: 0 \tVal ExactMatch: 0\n"
     ]
    },
    {
     "data": {
      "application/vnd.jupyter.widget-view+json": {
       "model_id": "a9a459661e3d48d4a1bfbd6739f605cf",
       "version_major": 2,
       "version_minor": 0
      },
      "text/plain": [
       "HBox(children=(FloatProgress(value=0.0, max=10.0), HTML(value='')))"
      ]
     },
     "metadata": {},
     "output_type": "display_data"
    },
    {
     "name": "stdout",
     "output_type": "stream",
     "text": [
      "\n",
      "Iter: 2499/8504\tAvg Train Loss: 9.5841\tAvg Val Loss: 8.8215\tVal F1: 0 \tVal ExactMatch: 0\n"
     ]
    },
    {
     "data": {
      "application/vnd.jupyter.widget-view+json": {
       "model_id": "3e6bdc6896874c9bb0c99140827febf1",
       "version_major": 2,
       "version_minor": 0
      },
      "text/plain": [
       "HBox(children=(FloatProgress(value=0.0, max=10.0), HTML(value='')))"
      ]
     },
     "metadata": {},
     "output_type": "display_data"
    },
    {
     "name": "stdout",
     "output_type": "stream",
     "text": [
      "\n",
      "Iter: 2599/8504\tAvg Train Loss: 9.5735\tAvg Val Loss: 8.9406\tVal F1: 0 \tVal ExactMatch: 0\n"
     ]
    },
    {
     "data": {
      "application/vnd.jupyter.widget-view+json": {
       "model_id": "d748be089b444156be6c6b4f9c78fb4e",
       "version_major": 2,
       "version_minor": 0
      },
      "text/plain": [
       "HBox(children=(FloatProgress(value=0.0, max=10.0), HTML(value='')))"
      ]
     },
     "metadata": {},
     "output_type": "display_data"
    },
    {
     "name": "stdout",
     "output_type": "stream",
     "text": [
      "\n",
      "Iter: 2699/8504\tAvg Train Loss: 9.5413\tAvg Val Loss: 9.5628\tVal F1: 0 \tVal ExactMatch: 0\n"
     ]
    },
    {
     "data": {
      "application/vnd.jupyter.widget-view+json": {
       "model_id": "1a710f1f589c4187b129851f7ad5013d",
       "version_major": 2,
       "version_minor": 0
      },
      "text/plain": [
       "HBox(children=(FloatProgress(value=0.0, max=10.0), HTML(value='')))"
      ]
     },
     "metadata": {},
     "output_type": "display_data"
    },
    {
     "name": "stdout",
     "output_type": "stream",
     "text": [
      "\n",
      "Iter: 2799/8504\tAvg Train Loss: 9.4964\tAvg Val Loss: 9.0848\tVal F1: 0 \tVal ExactMatch: 0\n"
     ]
    },
    {
     "data": {
      "application/vnd.jupyter.widget-view+json": {
       "model_id": "554b79ae212d40acad8c7d6489942563",
       "version_major": 2,
       "version_minor": 0
      },
      "text/plain": [
       "HBox(children=(FloatProgress(value=0.0, max=10.0), HTML(value='')))"
      ]
     },
     "metadata": {},
     "output_type": "display_data"
    },
    {
     "name": "stdout",
     "output_type": "stream",
     "text": [
      "\n",
      "Iter: 2899/8504\tAvg Train Loss: 9.4771\tAvg Val Loss: 8.7419\tVal F1: 0 \tVal ExactMatch: 0\n"
     ]
    },
    {
     "data": {
      "application/vnd.jupyter.widget-view+json": {
       "model_id": "30ccad28b88a417ebb0dbf45d6af7494",
       "version_major": 2,
       "version_minor": 0
      },
      "text/plain": [
       "HBox(children=(FloatProgress(value=0.0, max=10.0), HTML(value='')))"
      ]
     },
     "metadata": {},
     "output_type": "display_data"
    },
    {
     "name": "stdout",
     "output_type": "stream",
     "text": [
      "\n",
      "Iter: 2999/8504\tAvg Train Loss: 9.4544\tAvg Val Loss: 8.9423\tVal F1: 7 \tVal ExactMatch: 0\n"
     ]
    },
    {
     "data": {
      "application/vnd.jupyter.widget-view+json": {
       "model_id": "0a78364bfe2a43fa81f1c2eca636352e",
       "version_major": 2,
       "version_minor": 0
      },
      "text/plain": [
       "HBox(children=(FloatProgress(value=0.0, max=10.0), HTML(value='')))"
      ]
     },
     "metadata": {},
     "output_type": "display_data"
    },
    {
     "name": "stdout",
     "output_type": "stream",
     "text": [
      "\n",
      "Iter: 3099/8504\tAvg Train Loss: 9.4264\tAvg Val Loss: 8.6001\tVal F1: 0 \tVal ExactMatch: 0\n"
     ]
    },
    {
     "data": {
      "application/vnd.jupyter.widget-view+json": {
       "model_id": "0e8935ac706447c2a61adfcc62bbd7eb",
       "version_major": 2,
       "version_minor": 0
      },
      "text/plain": [
       "HBox(children=(FloatProgress(value=0.0, max=10.0), HTML(value='')))"
      ]
     },
     "metadata": {},
     "output_type": "display_data"
    },
    {
     "name": "stdout",
     "output_type": "stream",
     "text": [
      "\n",
      "Iter: 3199/8504\tAvg Train Loss: 9.3971\tAvg Val Loss: 8.5990\tVal F1: 7 \tVal ExactMatch: 0\n"
     ]
    },
    {
     "data": {
      "application/vnd.jupyter.widget-view+json": {
       "model_id": "9ac221caeadb4a85ad24b4d07c6bfcec",
       "version_major": 2,
       "version_minor": 0
      },
      "text/plain": [
       "HBox(children=(FloatProgress(value=0.0, max=10.0), HTML(value='')))"
      ]
     },
     "metadata": {},
     "output_type": "display_data"
    },
    {
     "name": "stdout",
     "output_type": "stream",
     "text": [
      "\n",
      "Iter: 3299/8504\tAvg Train Loss: 9.3749\tAvg Val Loss: 9.6370\tVal F1: 0 \tVal ExactMatch: 0\n"
     ]
    },
    {
     "data": {
      "application/vnd.jupyter.widget-view+json": {
       "model_id": "3e91876197bd4d9cae69735c01568493",
       "version_major": 2,
       "version_minor": 0
      },
      "text/plain": [
       "HBox(children=(FloatProgress(value=0.0, max=10.0), HTML(value='')))"
      ]
     },
     "metadata": {},
     "output_type": "display_data"
    },
    {
     "name": "stdout",
     "output_type": "stream",
     "text": [
      "\n",
      "Iter: 3399/8504\tAvg Train Loss: 9.3484\tAvg Val Loss: 7.7346\tVal F1: 0 \tVal ExactMatch: 0\n"
     ]
    },
    {
     "data": {
      "application/vnd.jupyter.widget-view+json": {
       "model_id": "c13d05ab505347179f8ed5a66c86ebf5",
       "version_major": 2,
       "version_minor": 0
      },
      "text/plain": [
       "HBox(children=(FloatProgress(value=0.0, max=10.0), HTML(value='')))"
      ]
     },
     "metadata": {},
     "output_type": "display_data"
    },
    {
     "name": "stdout",
     "output_type": "stream",
     "text": [
      "\n",
      "Iter: 3499/8504\tAvg Train Loss: 9.3238\tAvg Val Loss: 8.9533\tVal F1: 5 \tVal ExactMatch: 0\n"
     ]
    },
    {
     "data": {
      "application/vnd.jupyter.widget-view+json": {
       "model_id": "7d2f343be8f043d3ba8bb4f7ec8401aa",
       "version_major": 2,
       "version_minor": 0
      },
      "text/plain": [
       "HBox(children=(FloatProgress(value=0.0, max=10.0), HTML(value='')))"
      ]
     },
     "metadata": {},
     "output_type": "display_data"
    },
    {
     "name": "stdout",
     "output_type": "stream",
     "text": [
      "\n",
      "Iter: 3599/8504\tAvg Train Loss: 9.2916\tAvg Val Loss: 9.0662\tVal F1: 3 \tVal ExactMatch: 0\n"
     ]
    },
    {
     "data": {
      "application/vnd.jupyter.widget-view+json": {
       "model_id": "b9797cf81dc84a948de3a25e132fb111",
       "version_major": 2,
       "version_minor": 0
      },
      "text/plain": [
       "HBox(children=(FloatProgress(value=0.0, max=10.0), HTML(value='')))"
      ]
     },
     "metadata": {},
     "output_type": "display_data"
    },
    {
     "name": "stdout",
     "output_type": "stream",
     "text": [
      "\n",
      "Iter: 3699/8504\tAvg Train Loss: 9.2653\tAvg Val Loss: 8.4618\tVal F1: 0 \tVal ExactMatch: 0\n"
     ]
    },
    {
     "data": {
      "application/vnd.jupyter.widget-view+json": {
       "model_id": "12fb3b188d774cc585af89e8f3b612cb",
       "version_major": 2,
       "version_minor": 0
      },
      "text/plain": [
       "HBox(children=(FloatProgress(value=0.0, max=10.0), HTML(value='')))"
      ]
     },
     "metadata": {},
     "output_type": "display_data"
    },
    {
     "name": "stdout",
     "output_type": "stream",
     "text": [
      "\n",
      "Iter: 3799/8504\tAvg Train Loss: 9.2443\tAvg Val Loss: 9.1021\tVal F1: 0 \tVal ExactMatch: 0\n"
     ]
    },
    {
     "data": {
      "application/vnd.jupyter.widget-view+json": {
       "model_id": "c928cc4cf20549558120d49ebdd9eea2",
       "version_major": 2,
       "version_minor": 0
      },
      "text/plain": [
       "HBox(children=(FloatProgress(value=0.0, max=10.0), HTML(value='')))"
      ]
     },
     "metadata": {},
     "output_type": "display_data"
    },
    {
     "name": "stdout",
     "output_type": "stream",
     "text": [
      "\n",
      "Iter: 3899/8504\tAvg Train Loss: 9.2316\tAvg Val Loss: 7.3838\tVal F1: 10 \tVal ExactMatch: 10\n"
     ]
    },
    {
     "data": {
      "application/vnd.jupyter.widget-view+json": {
       "model_id": "bbdb46e3c6ce4ce6b3f537aecb8973a7",
       "version_major": 2,
       "version_minor": 0
      },
      "text/plain": [
       "HBox(children=(FloatProgress(value=0.0, max=10.0), HTML(value='')))"
      ]
     },
     "metadata": {},
     "output_type": "display_data"
    },
    {
     "name": "stdout",
     "output_type": "stream",
     "text": [
      "\n",
      "Iter: 3999/8504\tAvg Train Loss: 9.2344\tAvg Val Loss: 8.7836\tVal F1: 0 \tVal ExactMatch: 0\n"
     ]
    },
    {
     "data": {
      "application/vnd.jupyter.widget-view+json": {
       "model_id": "2a68eebea3834febbb866239a8f484be",
       "version_major": 2,
       "version_minor": 0
      },
      "text/plain": [
       "HBox(children=(FloatProgress(value=0.0, max=10.0), HTML(value='')))"
      ]
     },
     "metadata": {},
     "output_type": "display_data"
    },
    {
     "name": "stdout",
     "output_type": "stream",
     "text": [
      "\n",
      "Iter: 4099/8504\tAvg Train Loss: 9.2250\tAvg Val Loss: 8.5577\tVal F1: 0 \tVal ExactMatch: 0\n"
     ]
    },
    {
     "data": {
      "application/vnd.jupyter.widget-view+json": {
       "model_id": "987658fb760b45958531b01914e24dce",
       "version_major": 2,
       "version_minor": 0
      },
      "text/plain": [
       "HBox(children=(FloatProgress(value=0.0, max=10.0), HTML(value='')))"
      ]
     },
     "metadata": {},
     "output_type": "display_data"
    },
    {
     "name": "stdout",
     "output_type": "stream",
     "text": [
      "\n",
      "Iter: 4199/8504\tAvg Train Loss: 9.2270\tAvg Val Loss: 8.0411\tVal F1: 10 \tVal ExactMatch: 10\n"
     ]
    },
    {
     "data": {
      "application/vnd.jupyter.widget-view+json": {
       "model_id": "d91fb8dcc734403381c8e0b067b3626d",
       "version_major": 2,
       "version_minor": 0
      },
      "text/plain": [
       "HBox(children=(FloatProgress(value=0.0, max=10.0), HTML(value='')))"
      ]
     },
     "metadata": {},
     "output_type": "display_data"
    },
    {
     "name": "stdout",
     "output_type": "stream",
     "text": [
      "\n",
      "Iter: 4299/8504\tAvg Train Loss: 9.2058\tAvg Val Loss: 8.2953\tVal F1: 0 \tVal ExactMatch: 0\n"
     ]
    },
    {
     "data": {
      "application/vnd.jupyter.widget-view+json": {
       "model_id": "2343f63e8ad54e31bd40f240fd3edc5d",
       "version_major": 2,
       "version_minor": 0
      },
      "text/plain": [
       "HBox(children=(FloatProgress(value=0.0, max=10.0), HTML(value='')))"
      ]
     },
     "metadata": {},
     "output_type": "display_data"
    },
    {
     "name": "stdout",
     "output_type": "stream",
     "text": [
      "\n",
      "Iter: 4399/8504\tAvg Train Loss: 9.1995\tAvg Val Loss: 8.1728\tVal F1: 10 \tVal ExactMatch: 10\n"
     ]
    },
    {
     "data": {
      "application/vnd.jupyter.widget-view+json": {
       "model_id": "0d973701bf8e44c0b161dffa1e05f2d9",
       "version_major": 2,
       "version_minor": 0
      },
      "text/plain": [
       "HBox(children=(FloatProgress(value=0.0, max=10.0), HTML(value='')))"
      ]
     },
     "metadata": {},
     "output_type": "display_data"
    },
    {
     "name": "stdout",
     "output_type": "stream",
     "text": [
      "\n",
      "Iter: 4499/8504\tAvg Train Loss: 9.2079\tAvg Val Loss: 8.1139\tVal F1: 0 \tVal ExactMatch: 0\n"
     ]
    },
    {
     "data": {
      "application/vnd.jupyter.widget-view+json": {
       "model_id": "481f9f66623d4d19a880af071e7f6234",
       "version_major": 2,
       "version_minor": 0
      },
      "text/plain": [
       "HBox(children=(FloatProgress(value=0.0, max=10.0), HTML(value='')))"
      ]
     },
     "metadata": {},
     "output_type": "display_data"
    },
    {
     "name": "stdout",
     "output_type": "stream",
     "text": [
      "\n",
      "Iter: 4599/8504\tAvg Train Loss: 9.2004\tAvg Val Loss: 8.9907\tVal F1: 10 \tVal ExactMatch: 10\n"
     ]
    },
    {
     "data": {
      "application/vnd.jupyter.widget-view+json": {
       "model_id": "44db01dec6f74f289f0ad2cf27d5c85f",
       "version_major": 2,
       "version_minor": 0
      },
      "text/plain": [
       "HBox(children=(FloatProgress(value=0.0, max=10.0), HTML(value='')))"
      ]
     },
     "metadata": {},
     "output_type": "display_data"
    },
    {
     "name": "stdout",
     "output_type": "stream",
     "text": [
      "\n",
      "Iter: 4699/8504\tAvg Train Loss: 9.1931\tAvg Val Loss: 7.9327\tVal F1: 10 \tVal ExactMatch: 10\n"
     ]
    },
    {
     "data": {
      "application/vnd.jupyter.widget-view+json": {
       "model_id": "2d8e5e875472457687ea3400e5bc38f6",
       "version_major": 2,
       "version_minor": 0
      },
      "text/plain": [
       "HBox(children=(FloatProgress(value=0.0, max=10.0), HTML(value='')))"
      ]
     },
     "metadata": {},
     "output_type": "display_data"
    },
    {
     "name": "stdout",
     "output_type": "stream",
     "text": [
      "\n",
      "Iter: 4799/8504\tAvg Train Loss: 9.1803\tAvg Val Loss: 8.0523\tVal F1: 7 \tVal ExactMatch: 0\n"
     ]
    },
    {
     "data": {
      "application/vnd.jupyter.widget-view+json": {
       "model_id": "988a019dcd5942d8b9443a0f5522b686",
       "version_major": 2,
       "version_minor": 0
      },
      "text/plain": [
       "HBox(children=(FloatProgress(value=0.0, max=10.0), HTML(value='')))"
      ]
     },
     "metadata": {},
     "output_type": "display_data"
    },
    {
     "name": "stdout",
     "output_type": "stream",
     "text": [
      "\n",
      "Iter: 4899/8504\tAvg Train Loss: 9.1652\tAvg Val Loss: 9.0543\tVal F1: 0 \tVal ExactMatch: 0\n"
     ]
    },
    {
     "data": {
      "application/vnd.jupyter.widget-view+json": {
       "model_id": "31f7cf3d1c6a4448b9ee896f15c8623a",
       "version_major": 2,
       "version_minor": 0
      },
      "text/plain": [
       "HBox(children=(FloatProgress(value=0.0, max=10.0), HTML(value='')))"
      ]
     },
     "metadata": {},
     "output_type": "display_data"
    },
    {
     "name": "stdout",
     "output_type": "stream",
     "text": [
      "\n",
      "Iter: 4999/8504\tAvg Train Loss: 9.1470\tAvg Val Loss: 9.1354\tVal F1: 0 \tVal ExactMatch: 0\n"
     ]
    },
    {
     "data": {
      "application/vnd.jupyter.widget-view+json": {
       "model_id": "faa95180dc964c5097419e5747531cab",
       "version_major": 2,
       "version_minor": 0
      },
      "text/plain": [
       "HBox(children=(FloatProgress(value=0.0, max=10.0), HTML(value='')))"
      ]
     },
     "metadata": {},
     "output_type": "display_data"
    },
    {
     "name": "stdout",
     "output_type": "stream",
     "text": [
      "\n",
      "Iter: 5099/8504\tAvg Train Loss: 9.1260\tAvg Val Loss: 7.5989\tVal F1: 0 \tVal ExactMatch: 0\n"
     ]
    },
    {
     "data": {
      "application/vnd.jupyter.widget-view+json": {
       "model_id": "e502da4fdc914108ace633d40249c16d",
       "version_major": 2,
       "version_minor": 0
      },
      "text/plain": [
       "HBox(children=(FloatProgress(value=0.0, max=10.0), HTML(value='')))"
      ]
     },
     "metadata": {},
     "output_type": "display_data"
    },
    {
     "name": "stdout",
     "output_type": "stream",
     "text": [
      "\n",
      "Iter: 5199/8504\tAvg Train Loss: 9.1116\tAvg Val Loss: 8.2519\tVal F1: 10 \tVal ExactMatch: 10\n"
     ]
    },
    {
     "data": {
      "application/vnd.jupyter.widget-view+json": {
       "model_id": "c6a71cd6d63348aeaf15833aa79b9017",
       "version_major": 2,
       "version_minor": 0
      },
      "text/plain": [
       "HBox(children=(FloatProgress(value=0.0, max=10.0), HTML(value='')))"
      ]
     },
     "metadata": {},
     "output_type": "display_data"
    },
    {
     "name": "stdout",
     "output_type": "stream",
     "text": [
      "\n",
      "Iter: 5299/8504\tAvg Train Loss: 9.0809\tAvg Val Loss: 8.4289\tVal F1: 0 \tVal ExactMatch: 0\n"
     ]
    },
    {
     "data": {
      "application/vnd.jupyter.widget-view+json": {
       "model_id": "e51018116c764a26828b4b43b381f6ab",
       "version_major": 2,
       "version_minor": 0
      },
      "text/plain": [
       "HBox(children=(FloatProgress(value=0.0, max=10.0), HTML(value='')))"
      ]
     },
     "metadata": {},
     "output_type": "display_data"
    },
    {
     "name": "stdout",
     "output_type": "stream",
     "text": [
      "\n",
      "Iter: 5399/8504\tAvg Train Loss: 9.0680\tAvg Val Loss: 9.1075\tVal F1: 10 \tVal ExactMatch: 10\n"
     ]
    },
    {
     "data": {
      "application/vnd.jupyter.widget-view+json": {
       "model_id": "5f05a0bf5458493ebc89d9ff05d248ce",
       "version_major": 2,
       "version_minor": 0
      },
      "text/plain": [
       "HBox(children=(FloatProgress(value=0.0, max=10.0), HTML(value='')))"
      ]
     },
     "metadata": {},
     "output_type": "display_data"
    },
    {
     "name": "stdout",
     "output_type": "stream",
     "text": [
      "\n",
      "Iter: 5499/8504\tAvg Train Loss: 9.0494\tAvg Val Loss: 9.2547\tVal F1: 0 \tVal ExactMatch: 0\n"
     ]
    },
    {
     "data": {
      "application/vnd.jupyter.widget-view+json": {
       "model_id": "049890f8d38d429da44eee3ac3937578",
       "version_major": 2,
       "version_minor": 0
      },
      "text/plain": [
       "HBox(children=(FloatProgress(value=0.0, max=10.0), HTML(value='')))"
      ]
     },
     "metadata": {},
     "output_type": "display_data"
    },
    {
     "name": "stdout",
     "output_type": "stream",
     "text": [
      "\n",
      "Iter: 5599/8504\tAvg Train Loss: 9.0118\tAvg Val Loss: 7.6234\tVal F1: 10 \tVal ExactMatch: 10\n"
     ]
    },
    {
     "data": {
      "application/vnd.jupyter.widget-view+json": {
       "model_id": "8bae2d2201be489f89888e9677ce6f35",
       "version_major": 2,
       "version_minor": 0
      },
      "text/plain": [
       "HBox(children=(FloatProgress(value=0.0, max=10.0), HTML(value='')))"
      ]
     },
     "metadata": {},
     "output_type": "display_data"
    },
    {
     "name": "stdout",
     "output_type": "stream",
     "text": [
      "\n",
      "Iter: 5699/8504\tAvg Train Loss: 8.9791\tAvg Val Loss: 8.4357\tVal F1: 0 \tVal ExactMatch: 0\n"
     ]
    },
    {
     "data": {
      "application/vnd.jupyter.widget-view+json": {
       "model_id": "6f02100fbe0a4f3fb6ba0f83581f9491",
       "version_major": 2,
       "version_minor": 0
      },
      "text/plain": [
       "HBox(children=(FloatProgress(value=0.0, max=10.0), HTML(value='')))"
      ]
     },
     "metadata": {},
     "output_type": "display_data"
    },
    {
     "name": "stdout",
     "output_type": "stream",
     "text": [
      "\n",
      "Iter: 5799/8504\tAvg Train Loss: 8.9490\tAvg Val Loss: 9.1461\tVal F1: 0 \tVal ExactMatch: 0\n"
     ]
    },
    {
     "data": {
      "application/vnd.jupyter.widget-view+json": {
       "model_id": "771886e2ebbd4db594029216e7d1ee76",
       "version_major": 2,
       "version_minor": 0
      },
      "text/plain": [
       "HBox(children=(FloatProgress(value=0.0, max=10.0), HTML(value='')))"
      ]
     },
     "metadata": {},
     "output_type": "display_data"
    },
    {
     "name": "stdout",
     "output_type": "stream",
     "text": [
      "\n",
      "Iter: 5899/8504\tAvg Train Loss: 8.9165\tAvg Val Loss: 8.8867\tVal F1: 0 \tVal ExactMatch: 0\n"
     ]
    },
    {
     "data": {
      "application/vnd.jupyter.widget-view+json": {
       "model_id": "e2cccf622432400380c18942fddda777",
       "version_major": 2,
       "version_minor": 0
      },
      "text/plain": [
       "HBox(children=(FloatProgress(value=0.0, max=10.0), HTML(value='')))"
      ]
     },
     "metadata": {},
     "output_type": "display_data"
    },
    {
     "name": "stdout",
     "output_type": "stream",
     "text": [
      "\n",
      "Iter: 5999/8504\tAvg Train Loss: 8.9075\tAvg Val Loss: 9.2342\tVal F1: 10 \tVal ExactMatch: 10\n"
     ]
    },
    {
     "data": {
      "application/vnd.jupyter.widget-view+json": {
       "model_id": "8fdc51a01a57405c8d779eb3fb670299",
       "version_major": 2,
       "version_minor": 0
      },
      "text/plain": [
       "HBox(children=(FloatProgress(value=0.0, max=10.0), HTML(value='')))"
      ]
     },
     "metadata": {},
     "output_type": "display_data"
    },
    {
     "name": "stdout",
     "output_type": "stream",
     "text": [
      "\n",
      "Iter: 6099/8504\tAvg Train Loss: 8.8970\tAvg Val Loss: 8.5831\tVal F1: 0 \tVal ExactMatch: 0\n"
     ]
    },
    {
     "data": {
      "application/vnd.jupyter.widget-view+json": {
       "model_id": "bc0ddafd8bf942ca89a50007ad5aac3f",
       "version_major": 2,
       "version_minor": 0
      },
      "text/plain": [
       "HBox(children=(FloatProgress(value=0.0, max=10.0), HTML(value='')))"
      ]
     },
     "metadata": {},
     "output_type": "display_data"
    },
    {
     "name": "stdout",
     "output_type": "stream",
     "text": [
      "\n",
      "Iter: 6199/8504\tAvg Train Loss: 8.8875\tAvg Val Loss: 8.5495\tVal F1: 10 \tVal ExactMatch: 10\n"
     ]
    },
    {
     "data": {
      "application/vnd.jupyter.widget-view+json": {
       "model_id": "d15be421c20749cba60b3d61675574cd",
       "version_major": 2,
       "version_minor": 0
      },
      "text/plain": [
       "HBox(children=(FloatProgress(value=0.0, max=10.0), HTML(value='')))"
      ]
     },
     "metadata": {},
     "output_type": "display_data"
    },
    {
     "name": "stdout",
     "output_type": "stream",
     "text": [
      "\n",
      "Iter: 6299/8504\tAvg Train Loss: 8.8877\tAvg Val Loss: 7.9889\tVal F1: 0 \tVal ExactMatch: 0\n"
     ]
    },
    {
     "data": {
      "application/vnd.jupyter.widget-view+json": {
       "model_id": "6e26cb866b334c539fce9560f1e9f444",
       "version_major": 2,
       "version_minor": 0
      },
      "text/plain": [
       "HBox(children=(FloatProgress(value=0.0, max=10.0), HTML(value='')))"
      ]
     },
     "metadata": {},
     "output_type": "display_data"
    },
    {
     "name": "stdout",
     "output_type": "stream",
     "text": [
      "\n",
      "Iter: 6399/8504\tAvg Train Loss: 8.8810\tAvg Val Loss: 8.3196\tVal F1: 0 \tVal ExactMatch: 0\n"
     ]
    },
    {
     "data": {
      "application/vnd.jupyter.widget-view+json": {
       "model_id": "e7600dad26ce41a388671515de592a47",
       "version_major": 2,
       "version_minor": 0
      },
      "text/plain": [
       "HBox(children=(FloatProgress(value=0.0, max=10.0), HTML(value='')))"
      ]
     },
     "metadata": {},
     "output_type": "display_data"
    },
    {
     "name": "stdout",
     "output_type": "stream",
     "text": [
      "\n",
      "Iter: 6499/8504\tAvg Train Loss: 8.8715\tAvg Val Loss: 8.9264\tVal F1: 7 \tVal ExactMatch: 0\n"
     ]
    },
    {
     "data": {
      "application/vnd.jupyter.widget-view+json": {
       "model_id": "25a6f4a4ba574a6c8f790f13ae44f7a9",
       "version_major": 2,
       "version_minor": 0
      },
      "text/plain": [
       "HBox(children=(FloatProgress(value=0.0, max=10.0), HTML(value='')))"
      ]
     },
     "metadata": {},
     "output_type": "display_data"
    },
    {
     "name": "stdout",
     "output_type": "stream",
     "text": [
      "\n",
      "Iter: 6599/8504\tAvg Train Loss: 8.8663\tAvg Val Loss: 7.4644\tVal F1: 0 \tVal ExactMatch: 0\n"
     ]
    },
    {
     "data": {
      "application/vnd.jupyter.widget-view+json": {
       "model_id": "26182c71d0fb4b9cbb76f1687445fd48",
       "version_major": 2,
       "version_minor": 0
      },
      "text/plain": [
       "HBox(children=(FloatProgress(value=0.0, max=10.0), HTML(value='')))"
      ]
     },
     "metadata": {},
     "output_type": "display_data"
    },
    {
     "name": "stdout",
     "output_type": "stream",
     "text": [
      "\n",
      "Iter: 6699/8504\tAvg Train Loss: 8.8646\tAvg Val Loss: 7.9143\tVal F1: 7 \tVal ExactMatch: 0\n"
     ]
    },
    {
     "data": {
      "application/vnd.jupyter.widget-view+json": {
       "model_id": "8de077b9660744af96e7eb1d74026e6d",
       "version_major": 2,
       "version_minor": 0
      },
      "text/plain": [
       "HBox(children=(FloatProgress(value=0.0, max=10.0), HTML(value='')))"
      ]
     },
     "metadata": {},
     "output_type": "display_data"
    },
    {
     "name": "stdout",
     "output_type": "stream",
     "text": [
      "\n",
      "Iter: 6799/8504\tAvg Train Loss: 8.8603\tAvg Val Loss: 9.6422\tVal F1: 0 \tVal ExactMatch: 0\n"
     ]
    },
    {
     "data": {
      "application/vnd.jupyter.widget-view+json": {
       "model_id": "5037563a24cd4c3b977f7002c2644caf",
       "version_major": 2,
       "version_minor": 0
      },
      "text/plain": [
       "HBox(children=(FloatProgress(value=0.0, max=10.0), HTML(value='')))"
      ]
     },
     "metadata": {},
     "output_type": "display_data"
    },
    {
     "name": "stdout",
     "output_type": "stream",
     "text": [
      "\n",
      "Iter: 6899/8504\tAvg Train Loss: 8.8638\tAvg Val Loss: 8.1678\tVal F1: 0 \tVal ExactMatch: 0\n"
     ]
    },
    {
     "data": {
      "application/vnd.jupyter.widget-view+json": {
       "model_id": "df386f403ece4fb595c500f453c5b9a0",
       "version_major": 2,
       "version_minor": 0
      },
      "text/plain": [
       "HBox(children=(FloatProgress(value=0.0, max=10.0), HTML(value='')))"
      ]
     },
     "metadata": {},
     "output_type": "display_data"
    },
    {
     "name": "stdout",
     "output_type": "stream",
     "text": [
      "\n",
      "Iter: 6999/8504\tAvg Train Loss: 8.8516\tAvg Val Loss: 7.4809\tVal F1: 0 \tVal ExactMatch: 0\n"
     ]
    },
    {
     "data": {
      "application/vnd.jupyter.widget-view+json": {
       "model_id": "30ebbff0cbeb4425a106956779d0dbb6",
       "version_major": 2,
       "version_minor": 0
      },
      "text/plain": [
       "HBox(children=(FloatProgress(value=0.0, max=10.0), HTML(value='')))"
      ]
     },
     "metadata": {},
     "output_type": "display_data"
    },
    {
     "name": "stdout",
     "output_type": "stream",
     "text": [
      "\n",
      "Iter: 7099/8504\tAvg Train Loss: 8.8373\tAvg Val Loss: 7.9319\tVal F1: 0 \tVal ExactMatch: 0\n"
     ]
    },
    {
     "data": {
      "application/vnd.jupyter.widget-view+json": {
       "model_id": "8e033ace1381442db76ed97e0b0cb9bd",
       "version_major": 2,
       "version_minor": 0
      },
      "text/plain": [
       "HBox(children=(FloatProgress(value=0.0, max=10.0), HTML(value='')))"
      ]
     },
     "metadata": {},
     "output_type": "display_data"
    },
    {
     "name": "stdout",
     "output_type": "stream",
     "text": [
      "\n",
      "Iter: 7199/8504\tAvg Train Loss: 8.8185\tAvg Val Loss: 9.1129\tVal F1: 0 \tVal ExactMatch: 0\n"
     ]
    },
    {
     "data": {
      "application/vnd.jupyter.widget-view+json": {
       "model_id": "4a371edd711f425793c9fa80a2448dab",
       "version_major": 2,
       "version_minor": 0
      },
      "text/plain": [
       "HBox(children=(FloatProgress(value=0.0, max=10.0), HTML(value='')))"
      ]
     },
     "metadata": {},
     "output_type": "display_data"
    },
    {
     "name": "stdout",
     "output_type": "stream",
     "text": [
      "\n",
      "Iter: 7299/8504\tAvg Train Loss: 8.7995\tAvg Val Loss: 8.1023\tVal F1: 0 \tVal ExactMatch: 0\n"
     ]
    },
    {
     "data": {
      "application/vnd.jupyter.widget-view+json": {
       "model_id": "27445da49d9a4cd9bfc9b1e2ee6a6681",
       "version_major": 2,
       "version_minor": 0
      },
      "text/plain": [
       "HBox(children=(FloatProgress(value=0.0, max=10.0), HTML(value='')))"
      ]
     },
     "metadata": {},
     "output_type": "display_data"
    },
    {
     "name": "stdout",
     "output_type": "stream",
     "text": [
      "\n",
      "Iter: 7399/8504\tAvg Train Loss: 8.7791\tAvg Val Loss: 7.3643\tVal F1: 0 \tVal ExactMatch: 0\n"
     ]
    },
    {
     "data": {
      "application/vnd.jupyter.widget-view+json": {
       "model_id": "82737a216557447fa26a8cb79fd683e0",
       "version_major": 2,
       "version_minor": 0
      },
      "text/plain": [
       "HBox(children=(FloatProgress(value=0.0, max=10.0), HTML(value='')))"
      ]
     },
     "metadata": {},
     "output_type": "display_data"
    },
    {
     "name": "stdout",
     "output_type": "stream",
     "text": [
      "\n",
      "Iter: 7499/8504\tAvg Train Loss: 8.7578\tAvg Val Loss: 8.3251\tVal F1: 0 \tVal ExactMatch: 0\n"
     ]
    },
    {
     "data": {
      "application/vnd.jupyter.widget-view+json": {
       "model_id": "a487fc6c98704a38a8d783e92715412b",
       "version_major": 2,
       "version_minor": 0
      },
      "text/plain": [
       "HBox(children=(FloatProgress(value=0.0, max=10.0), HTML(value='')))"
      ]
     },
     "metadata": {},
     "output_type": "display_data"
    },
    {
     "name": "stdout",
     "output_type": "stream",
     "text": [
      "\n",
      "Iter: 7599/8504\tAvg Train Loss: 8.7439\tAvg Val Loss: 8.2591\tVal F1: 0 \tVal ExactMatch: 0\n"
     ]
    },
    {
     "data": {
      "application/vnd.jupyter.widget-view+json": {
       "model_id": "7e14992578ed46c0ba73958579742a4e",
       "version_major": 2,
       "version_minor": 0
      },
      "text/plain": [
       "HBox(children=(FloatProgress(value=0.0, max=10.0), HTML(value='')))"
      ]
     },
     "metadata": {},
     "output_type": "display_data"
    },
    {
     "name": "stdout",
     "output_type": "stream",
     "text": [
      "\n",
      "Iter: 7699/8504\tAvg Train Loss: 8.7346\tAvg Val Loss: 8.4338\tVal F1: 0 \tVal ExactMatch: 0\n"
     ]
    },
    {
     "data": {
      "application/vnd.jupyter.widget-view+json": {
       "model_id": "2bff4ffd0d5647baa949f8a2c8d689ee",
       "version_major": 2,
       "version_minor": 0
      },
      "text/plain": [
       "HBox(children=(FloatProgress(value=0.0, max=10.0), HTML(value='')))"
      ]
     },
     "metadata": {},
     "output_type": "display_data"
    },
    {
     "name": "stdout",
     "output_type": "stream",
     "text": [
      "\n",
      "Iter: 7799/8504\tAvg Train Loss: 8.7250\tAvg Val Loss: 8.2312\tVal F1: 0 \tVal ExactMatch: 0\n"
     ]
    },
    {
     "data": {
      "application/vnd.jupyter.widget-view+json": {
       "model_id": "94300895d9504ae885ebf4a5b0465abc",
       "version_major": 2,
       "version_minor": 0
      },
      "text/plain": [
       "HBox(children=(FloatProgress(value=0.0, max=10.0), HTML(value='')))"
      ]
     },
     "metadata": {},
     "output_type": "display_data"
    },
    {
     "name": "stdout",
     "output_type": "stream",
     "text": [
      "\n",
      "Iter: 7899/8504\tAvg Train Loss: 8.7195\tAvg Val Loss: 7.8782\tVal F1: 0 \tVal ExactMatch: 0\n"
     ]
    },
    {
     "data": {
      "application/vnd.jupyter.widget-view+json": {
       "model_id": "449f6a2e805745d4a5db5eae717b837a",
       "version_major": 2,
       "version_minor": 0
      },
      "text/plain": [
       "HBox(children=(FloatProgress(value=0.0, max=10.0), HTML(value='')))"
      ]
     },
     "metadata": {},
     "output_type": "display_data"
    },
    {
     "name": "stdout",
     "output_type": "stream",
     "text": [
      "\n",
      "Iter: 7999/8504\tAvg Train Loss: 8.7011\tAvg Val Loss: 9.3012\tVal F1: 0 \tVal ExactMatch: 0\n"
     ]
    },
    {
     "data": {
      "application/vnd.jupyter.widget-view+json": {
       "model_id": "770a2a6094dd48ebade9bc2e8dcd4b30",
       "version_major": 2,
       "version_minor": 0
      },
      "text/plain": [
       "HBox(children=(FloatProgress(value=0.0, max=10.0), HTML(value='')))"
      ]
     },
     "metadata": {},
     "output_type": "display_data"
    },
    {
     "name": "stdout",
     "output_type": "stream",
     "text": [
      "\n",
      "Iter: 8099/8504\tAvg Train Loss: 8.6914\tAvg Val Loss: 8.3324\tVal F1: 0 \tVal ExactMatch: 0\n"
     ]
    },
    {
     "data": {
      "application/vnd.jupyter.widget-view+json": {
       "model_id": "170866be0bd94edfa746bdb9261bac82",
       "version_major": 2,
       "version_minor": 0
      },
      "text/plain": [
       "HBox(children=(FloatProgress(value=0.0, max=10.0), HTML(value='')))"
      ]
     },
     "metadata": {},
     "output_type": "display_data"
    },
    {
     "name": "stdout",
     "output_type": "stream",
     "text": [
      "\n",
      "Iter: 8199/8504\tAvg Train Loss: 8.6772\tAvg Val Loss: 7.7303\tVal F1: 0 \tVal ExactMatch: 0\n"
     ]
    },
    {
     "data": {
      "application/vnd.jupyter.widget-view+json": {
       "model_id": "40ae0b43c9b84302a139804dd746f071",
       "version_major": 2,
       "version_minor": 0
      },
      "text/plain": [
       "HBox(children=(FloatProgress(value=0.0, max=10.0), HTML(value='')))"
      ]
     },
     "metadata": {},
     "output_type": "display_data"
    },
    {
     "name": "stdout",
     "output_type": "stream",
     "text": [
      "\n",
      "Iter: 8299/8504\tAvg Train Loss: 8.6657\tAvg Val Loss: 8.5995\tVal F1: 0 \tVal ExactMatch: 0\n"
     ]
    },
    {
     "data": {
      "application/vnd.jupyter.widget-view+json": {
       "model_id": "b792553d65274e6b8dafcdf7080ecbad",
       "version_major": 2,
       "version_minor": 0
      },
      "text/plain": [
       "HBox(children=(FloatProgress(value=0.0, max=10.0), HTML(value='')))"
      ]
     },
     "metadata": {},
     "output_type": "display_data"
    },
    {
     "name": "stdout",
     "output_type": "stream",
     "text": [
      "\n",
      "Iter: 8399/8504\tAvg Train Loss: 8.6535\tAvg Val Loss: 8.1370\tVal F1: 0 \tVal ExactMatch: 0\n"
     ]
    },
    {
     "data": {
      "application/vnd.jupyter.widget-view+json": {
       "model_id": "872dcdce92ca4db19f6f8547365fd898",
       "version_major": 2,
       "version_minor": 0
      },
      "text/plain": [
       "HBox(children=(FloatProgress(value=0.0, max=10.0), HTML(value='')))"
      ]
     },
     "metadata": {},
     "output_type": "display_data"
    },
    {
     "name": "stdout",
     "output_type": "stream",
     "text": [
      "\n",
      "Iter: 8499/8504\tAvg Train Loss: 8.6388\tAvg Val Loss: 7.5894\tVal F1: 20 \tVal ExactMatch: 20\n",
      "\n"
     ]
    },
    {
     "data": {
      "application/vnd.jupyter.widget-view+json": {
       "model_id": "90a6d1c252774a0d97c00d6e328f379b",
       "version_major": 2,
       "version_minor": 0
      },
      "text/plain": [
       "HBox(children=(FloatProgress(value=0.0, max=1000.0), HTML(value='')))"
      ]
     },
     "metadata": {},
     "output_type": "display_data"
    },
    {
     "name": "stdout",
     "output_type": "stream",
     "text": [
      "\n",
      "Iter: 8503/8504\tAvg Train Loss: 8.6370\tAvg Val Loss: 8.0690\tVal F1: 1 \tVal ExactMatch: 1\n"
     ]
    },
    {
     "data": {
      "application/vnd.jupyter.widget-view+json": {
       "model_id": "53428c8752d74225addea8da1392f1ad",
       "version_major": 2,
       "version_minor": 0
      },
      "text/plain": [
       "HBox(children=(FloatProgress(value=0.0, max=8504.0), HTML(value='')))"
      ]
     },
     "metadata": {},
     "output_type": "display_data"
    },
    {
     "data": {
      "application/vnd.jupyter.widget-view+json": {
       "model_id": "c1b7298207e64963bde2b3a3dc29cc7c",
       "version_major": 2,
       "version_minor": 0
      },
      "text/plain": [
       "HBox(children=(FloatProgress(value=0.0, max=10.0), HTML(value='')))"
      ]
     },
     "metadata": {},
     "output_type": "display_data"
    },
    {
     "name": "stdout",
     "output_type": "stream",
     "text": [
      "\n",
      "Iter: 99/8504\tAvg Train Loss: 8.9243\tAvg Val Loss: 7.8045\tVal F1: 0 \tVal ExactMatch: 0\n"
     ]
    },
    {
     "data": {
      "application/vnd.jupyter.widget-view+json": {
       "model_id": "b41284d6da094a6ab785cf90b65c3243",
       "version_major": 2,
       "version_minor": 0
      },
      "text/plain": [
       "HBox(children=(FloatProgress(value=0.0, max=10.0), HTML(value='')))"
      ]
     },
     "metadata": {},
     "output_type": "display_data"
    },
    {
     "name": "stdout",
     "output_type": "stream",
     "text": [
      "\n",
      "Iter: 199/8504\tAvg Train Loss: 9.0872\tAvg Val Loss: 7.6557\tVal F1: 0 \tVal ExactMatch: 0\n"
     ]
    },
    {
     "data": {
      "application/vnd.jupyter.widget-view+json": {
       "model_id": "ce8c4a80c3c349d0a03eab7e7b7b69f2",
       "version_major": 2,
       "version_minor": 0
      },
      "text/plain": [
       "HBox(children=(FloatProgress(value=0.0, max=10.0), HTML(value='')))"
      ]
     },
     "metadata": {},
     "output_type": "display_data"
    },
    {
     "name": "stdout",
     "output_type": "stream",
     "text": [
      "\n",
      "Iter: 299/8504\tAvg Train Loss: 8.8741\tAvg Val Loss: 7.8198\tVal F1: 0 \tVal ExactMatch: 0\n"
     ]
    },
    {
     "data": {
      "application/vnd.jupyter.widget-view+json": {
       "model_id": "190b68bc0138473783eb80a0e5a6a692",
       "version_major": 2,
       "version_minor": 0
      },
      "text/plain": [
       "HBox(children=(FloatProgress(value=0.0, max=10.0), HTML(value='')))"
      ]
     },
     "metadata": {},
     "output_type": "display_data"
    },
    {
     "name": "stdout",
     "output_type": "stream",
     "text": [
      "\n",
      "Iter: 399/8504\tAvg Train Loss: 8.7081\tAvg Val Loss: 7.9156\tVal F1: 0 \tVal ExactMatch: 0\n"
     ]
    },
    {
     "data": {
      "application/vnd.jupyter.widget-view+json": {
       "model_id": "d4f73dfc3f734ff99aaa5122627250ca",
       "version_major": 2,
       "version_minor": 0
      },
      "text/plain": [
       "HBox(children=(FloatProgress(value=0.0, max=10.0), HTML(value='')))"
      ]
     },
     "metadata": {},
     "output_type": "display_data"
    },
    {
     "name": "stdout",
     "output_type": "stream",
     "text": [
      "\n",
      "Iter: 499/8504\tAvg Train Loss: 8.6598\tAvg Val Loss: 8.9914\tVal F1: 0 \tVal ExactMatch: 0\n"
     ]
    },
    {
     "data": {
      "application/vnd.jupyter.widget-view+json": {
       "model_id": "c1c6df50924c478583c97e76a7e246e0",
       "version_major": 2,
       "version_minor": 0
      },
      "text/plain": [
       "HBox(children=(FloatProgress(value=0.0, max=10.0), HTML(value='')))"
      ]
     },
     "metadata": {},
     "output_type": "display_data"
    },
    {
     "name": "stdout",
     "output_type": "stream",
     "text": [
      "\n",
      "Iter: 599/8504\tAvg Train Loss: 8.5495\tAvg Val Loss: 8.3991\tVal F1: 0 \tVal ExactMatch: 0\n"
     ]
    },
    {
     "data": {
      "application/vnd.jupyter.widget-view+json": {
       "model_id": "3294e9719ade4b39bbc9e9f15191d866",
       "version_major": 2,
       "version_minor": 0
      },
      "text/plain": [
       "HBox(children=(FloatProgress(value=0.0, max=10.0), HTML(value='')))"
      ]
     },
     "metadata": {},
     "output_type": "display_data"
    },
    {
     "name": "stdout",
     "output_type": "stream",
     "text": [
      "\n",
      "Iter: 699/8504\tAvg Train Loss: 8.5541\tAvg Val Loss: 8.3606\tVal F1: 0 \tVal ExactMatch: 0\n"
     ]
    },
    {
     "data": {
      "application/vnd.jupyter.widget-view+json": {
       "model_id": "4f4e6413a834425d9f870f4beaaf2270",
       "version_major": 2,
       "version_minor": 0
      },
      "text/plain": [
       "HBox(children=(FloatProgress(value=0.0, max=10.0), HTML(value='')))"
      ]
     },
     "metadata": {},
     "output_type": "display_data"
    },
    {
     "name": "stdout",
     "output_type": "stream",
     "text": [
      "\n",
      "Iter: 799/8504\tAvg Train Loss: 8.4733\tAvg Val Loss: 8.2148\tVal F1: 0 \tVal ExactMatch: 0\n"
     ]
    },
    {
     "data": {
      "application/vnd.jupyter.widget-view+json": {
       "model_id": "9510bd034e2d4ed6ba3d60add88f80f4",
       "version_major": 2,
       "version_minor": 0
      },
      "text/plain": [
       "HBox(children=(FloatProgress(value=0.0, max=10.0), HTML(value='')))"
      ]
     },
     "metadata": {},
     "output_type": "display_data"
    },
    {
     "name": "stdout",
     "output_type": "stream",
     "text": [
      "\n",
      "Iter: 899/8504\tAvg Train Loss: 8.3473\tAvg Val Loss: 7.2722\tVal F1: 0 \tVal ExactMatch: 0\n"
     ]
    },
    {
     "data": {
      "application/vnd.jupyter.widget-view+json": {
       "model_id": "0b456758e5c54004a349f1f2243c928c",
       "version_major": 2,
       "version_minor": 0
      },
      "text/plain": [
       "HBox(children=(FloatProgress(value=0.0, max=10.0), HTML(value='')))"
      ]
     },
     "metadata": {},
     "output_type": "display_data"
    },
    {
     "name": "stdout",
     "output_type": "stream",
     "text": [
      "\n",
      "Iter: 999/8504\tAvg Train Loss: 8.2623\tAvg Val Loss: 8.9138\tVal F1: 0 \tVal ExactMatch: 0\n"
     ]
    },
    {
     "data": {
      "application/vnd.jupyter.widget-view+json": {
       "model_id": "3b111c3a195f452aaa269dfcf25df351",
       "version_major": 2,
       "version_minor": 0
      },
      "text/plain": [
       "HBox(children=(FloatProgress(value=0.0, max=10.0), HTML(value='')))"
      ]
     },
     "metadata": {},
     "output_type": "display_data"
    },
    {
     "name": "stdout",
     "output_type": "stream",
     "text": [
      "\n",
      "Iter: 1099/8504\tAvg Train Loss: 8.3073\tAvg Val Loss: 8.5810\tVal F1: 0 \tVal ExactMatch: 0\n"
     ]
    },
    {
     "data": {
      "application/vnd.jupyter.widget-view+json": {
       "model_id": "42aa6387626a4d0187e925f2c5b74aed",
       "version_major": 2,
       "version_minor": 0
      },
      "text/plain": [
       "HBox(children=(FloatProgress(value=0.0, max=10.0), HTML(value='')))"
      ]
     },
     "metadata": {},
     "output_type": "display_data"
    },
    {
     "name": "stdout",
     "output_type": "stream",
     "text": [
      "\n",
      "Iter: 1199/8504\tAvg Train Loss: 8.2254\tAvg Val Loss: 8.0908\tVal F1: 0 \tVal ExactMatch: 0\n"
     ]
    },
    {
     "data": {
      "application/vnd.jupyter.widget-view+json": {
       "model_id": "b6b23a155c05477aa7d380c3ad78f0cc",
       "version_major": 2,
       "version_minor": 0
      },
      "text/plain": [
       "HBox(children=(FloatProgress(value=0.0, max=10.0), HTML(value='')))"
      ]
     },
     "metadata": {},
     "output_type": "display_data"
    },
    {
     "name": "stdout",
     "output_type": "stream",
     "text": [
      "\n",
      "Iter: 1299/8504\tAvg Train Loss: 8.1501\tAvg Val Loss: 7.9142\tVal F1: 0 \tVal ExactMatch: 0\n"
     ]
    },
    {
     "data": {
      "application/vnd.jupyter.widget-view+json": {
       "model_id": "2d8fd44fe04340d4a3babe568a0b201f",
       "version_major": 2,
       "version_minor": 0
      },
      "text/plain": [
       "HBox(children=(FloatProgress(value=0.0, max=10.0), HTML(value='')))"
      ]
     },
     "metadata": {},
     "output_type": "display_data"
    },
    {
     "name": "stdout",
     "output_type": "stream",
     "text": [
      "\n",
      "Iter: 1399/8504\tAvg Train Loss: 8.1377\tAvg Val Loss: 7.7923\tVal F1: 0 \tVal ExactMatch: 0\n"
     ]
    },
    {
     "data": {
      "application/vnd.jupyter.widget-view+json": {
       "model_id": "ed7db36c761c4932a22fdbea26c8f167",
       "version_major": 2,
       "version_minor": 0
      },
      "text/plain": [
       "HBox(children=(FloatProgress(value=0.0, max=10.0), HTML(value='')))"
      ]
     },
     "metadata": {},
     "output_type": "display_data"
    },
    {
     "name": "stdout",
     "output_type": "stream",
     "text": [
      "\n",
      "Iter: 1499/8504\tAvg Train Loss: 8.1349\tAvg Val Loss: 8.7703\tVal F1: 0 \tVal ExactMatch: 0\n"
     ]
    },
    {
     "data": {
      "application/vnd.jupyter.widget-view+json": {
       "model_id": "cd8fd62475bb42c5bce1b0ed74e31fc7",
       "version_major": 2,
       "version_minor": 0
      },
      "text/plain": [
       "HBox(children=(FloatProgress(value=0.0, max=10.0), HTML(value='')))"
      ]
     },
     "metadata": {},
     "output_type": "display_data"
    },
    {
     "name": "stdout",
     "output_type": "stream",
     "text": [
      "\n",
      "Iter: 1599/8504\tAvg Train Loss: 8.1213\tAvg Val Loss: 8.7080\tVal F1: 0 \tVal ExactMatch: 0\n"
     ]
    },
    {
     "data": {
      "application/vnd.jupyter.widget-view+json": {
       "model_id": "ab64df329ac34cae94fb24df1444c86f",
       "version_major": 2,
       "version_minor": 0
      },
      "text/plain": [
       "HBox(children=(FloatProgress(value=0.0, max=10.0), HTML(value='')))"
      ]
     },
     "metadata": {},
     "output_type": "display_data"
    },
    {
     "name": "stdout",
     "output_type": "stream",
     "text": [
      "\n",
      "Iter: 1699/8504\tAvg Train Loss: 8.1366\tAvg Val Loss: 8.5209\tVal F1: 0 \tVal ExactMatch: 0\n"
     ]
    },
    {
     "data": {
      "application/vnd.jupyter.widget-view+json": {
       "model_id": "c488f66b675f4720a4a9241abedd0fb6",
       "version_major": 2,
       "version_minor": 0
      },
      "text/plain": [
       "HBox(children=(FloatProgress(value=0.0, max=10.0), HTML(value='')))"
      ]
     },
     "metadata": {},
     "output_type": "display_data"
    },
    {
     "name": "stdout",
     "output_type": "stream",
     "text": [
      "\n",
      "Iter: 1799/8504\tAvg Train Loss: 8.1030\tAvg Val Loss: 9.1756\tVal F1: 10 \tVal ExactMatch: 10\n"
     ]
    },
    {
     "data": {
      "application/vnd.jupyter.widget-view+json": {
       "model_id": "e78114f1deff48c8bd9171f571566b3f",
       "version_major": 2,
       "version_minor": 0
      },
      "text/plain": [
       "HBox(children=(FloatProgress(value=0.0, max=10.0), HTML(value='')))"
      ]
     },
     "metadata": {},
     "output_type": "display_data"
    },
    {
     "name": "stdout",
     "output_type": "stream",
     "text": [
      "\n",
      "Iter: 1899/8504\tAvg Train Loss: 8.0698\tAvg Val Loss: 7.6496\tVal F1: 20 \tVal ExactMatch: 20\n"
     ]
    },
    {
     "data": {
      "application/vnd.jupyter.widget-view+json": {
       "model_id": "d3ba2f2531374fd297c782c1b6d1589f",
       "version_major": 2,
       "version_minor": 0
      },
      "text/plain": [
       "HBox(children=(FloatProgress(value=0.0, max=10.0), HTML(value='')))"
      ]
     },
     "metadata": {},
     "output_type": "display_data"
    },
    {
     "name": "stdout",
     "output_type": "stream",
     "text": [
      "\n",
      "Iter: 1999/8504\tAvg Train Loss: 8.0352\tAvg Val Loss: 8.3879\tVal F1: 0 \tVal ExactMatch: 0\n"
     ]
    },
    {
     "data": {
      "application/vnd.jupyter.widget-view+json": {
       "model_id": "bb43f7e49e03492c8ae8ff4026652449",
       "version_major": 2,
       "version_minor": 0
      },
      "text/plain": [
       "HBox(children=(FloatProgress(value=0.0, max=10.0), HTML(value='')))"
      ]
     },
     "metadata": {},
     "output_type": "display_data"
    },
    {
     "name": "stdout",
     "output_type": "stream",
     "text": [
      "\n",
      "Iter: 2099/8504\tAvg Train Loss: 8.0280\tAvg Val Loss: 9.6482\tVal F1: 0 \tVal ExactMatch: 0\n"
     ]
    },
    {
     "data": {
      "application/vnd.jupyter.widget-view+json": {
       "model_id": "8c68040c4ca54fc6978f8f0e6d11e6fb",
       "version_major": 2,
       "version_minor": 0
      },
      "text/plain": [
       "HBox(children=(FloatProgress(value=0.0, max=10.0), HTML(value='')))"
      ]
     },
     "metadata": {},
     "output_type": "display_data"
    },
    {
     "name": "stdout",
     "output_type": "stream",
     "text": [
      "\n",
      "Iter: 2199/8504\tAvg Train Loss: 8.0143\tAvg Val Loss: 7.7835\tVal F1: 0 \tVal ExactMatch: 0\n"
     ]
    },
    {
     "data": {
      "application/vnd.jupyter.widget-view+json": {
       "model_id": "339f2e070831419aa8a25ab0f260379f",
       "version_major": 2,
       "version_minor": 0
      },
      "text/plain": [
       "HBox(children=(FloatProgress(value=0.0, max=10.0), HTML(value='')))"
      ]
     },
     "metadata": {},
     "output_type": "display_data"
    },
    {
     "name": "stdout",
     "output_type": "stream",
     "text": [
      "\n",
      "Iter: 2299/8504\tAvg Train Loss: 8.0124\tAvg Val Loss: 8.5985\tVal F1: 0 \tVal ExactMatch: 0\n"
     ]
    },
    {
     "data": {
      "application/vnd.jupyter.widget-view+json": {
       "model_id": "259f365ba5154fb791e680bb7188afa7",
       "version_major": 2,
       "version_minor": 0
      },
      "text/plain": [
       "HBox(children=(FloatProgress(value=0.0, max=10.0), HTML(value='')))"
      ]
     },
     "metadata": {},
     "output_type": "display_data"
    },
    {
     "name": "stdout",
     "output_type": "stream",
     "text": [
      "\n",
      "Iter: 2399/8504\tAvg Train Loss: 8.0030\tAvg Val Loss: 7.1830\tVal F1: 10 \tVal ExactMatch: 10\n"
     ]
    },
    {
     "data": {
      "application/vnd.jupyter.widget-view+json": {
       "model_id": "a27fdd7062ba4770bb256d5300e1a61e",
       "version_major": 2,
       "version_minor": 0
      },
      "text/plain": [
       "HBox(children=(FloatProgress(value=0.0, max=10.0), HTML(value='')))"
      ]
     },
     "metadata": {},
     "output_type": "display_data"
    },
    {
     "name": "stdout",
     "output_type": "stream",
     "text": [
      "\n",
      "Iter: 2499/8504\tAvg Train Loss: 7.9870\tAvg Val Loss: 6.8910\tVal F1: 20 \tVal ExactMatch: 20\n"
     ]
    },
    {
     "data": {
      "application/vnd.jupyter.widget-view+json": {
       "model_id": "b7752ffa217b448ab759865a74944e7f",
       "version_major": 2,
       "version_minor": 0
      },
      "text/plain": [
       "HBox(children=(FloatProgress(value=0.0, max=10.0), HTML(value='')))"
      ]
     },
     "metadata": {},
     "output_type": "display_data"
    },
    {
     "name": "stdout",
     "output_type": "stream",
     "text": [
      "\n",
      "Iter: 2599/8504\tAvg Train Loss: 7.9937\tAvg Val Loss: 7.4313\tVal F1: 0 \tVal ExactMatch: 0\n"
     ]
    },
    {
     "data": {
      "application/vnd.jupyter.widget-view+json": {
       "model_id": "1fd8254e523a45c79486e170a9aaa55c",
       "version_major": 2,
       "version_minor": 0
      },
      "text/plain": [
       "HBox(children=(FloatProgress(value=0.0, max=10.0), HTML(value='')))"
      ]
     },
     "metadata": {},
     "output_type": "display_data"
    },
    {
     "name": "stdout",
     "output_type": "stream",
     "text": [
      "\n",
      "Iter: 2699/8504\tAvg Train Loss: 7.9667\tAvg Val Loss: 7.5607\tVal F1: 10 \tVal ExactMatch: 10\n"
     ]
    },
    {
     "data": {
      "application/vnd.jupyter.widget-view+json": {
       "model_id": "1feadf34bb1d416d9616010fd2789141",
       "version_major": 2,
       "version_minor": 0
      },
      "text/plain": [
       "HBox(children=(FloatProgress(value=0.0, max=10.0), HTML(value='')))"
      ]
     },
     "metadata": {},
     "output_type": "display_data"
    },
    {
     "name": "stdout",
     "output_type": "stream",
     "text": [
      "\n",
      "Iter: 2799/8504\tAvg Train Loss: 7.9469\tAvg Val Loss: 8.6725\tVal F1: 0 \tVal ExactMatch: 0\n"
     ]
    },
    {
     "data": {
      "application/vnd.jupyter.widget-view+json": {
       "model_id": "60af5fd661ea48299b0c709f5f596e67",
       "version_major": 2,
       "version_minor": 0
      },
      "text/plain": [
       "HBox(children=(FloatProgress(value=0.0, max=10.0), HTML(value='')))"
      ]
     },
     "metadata": {},
     "output_type": "display_data"
    },
    {
     "name": "stdout",
     "output_type": "stream",
     "text": [
      "\n",
      "Iter: 2899/8504\tAvg Train Loss: 7.9373\tAvg Val Loss: 7.7464\tVal F1: 0 \tVal ExactMatch: 0\n"
     ]
    },
    {
     "data": {
      "application/vnd.jupyter.widget-view+json": {
       "model_id": "33328dc22b204cc58301a431539d4fb3",
       "version_major": 2,
       "version_minor": 0
      },
      "text/plain": [
       "HBox(children=(FloatProgress(value=0.0, max=10.0), HTML(value='')))"
      ]
     },
     "metadata": {},
     "output_type": "display_data"
    },
    {
     "name": "stdout",
     "output_type": "stream",
     "text": [
      "\n",
      "Iter: 2999/8504\tAvg Train Loss: 7.9333\tAvg Val Loss: 8.1197\tVal F1: 0 \tVal ExactMatch: 0\n"
     ]
    },
    {
     "data": {
      "application/vnd.jupyter.widget-view+json": {
       "model_id": "bd17500c90654b5aa889763f96be82ed",
       "version_major": 2,
       "version_minor": 0
      },
      "text/plain": [
       "HBox(children=(FloatProgress(value=0.0, max=10.0), HTML(value='')))"
      ]
     },
     "metadata": {},
     "output_type": "display_data"
    },
    {
     "name": "stdout",
     "output_type": "stream",
     "text": [
      "\n",
      "Iter: 3099/8504\tAvg Train Loss: 7.9038\tAvg Val Loss: 8.9863\tVal F1: 0 \tVal ExactMatch: 0\n"
     ]
    },
    {
     "data": {
      "application/vnd.jupyter.widget-view+json": {
       "model_id": "e465d3f1951445e48db4ed951cc6c833",
       "version_major": 2,
       "version_minor": 0
      },
      "text/plain": [
       "HBox(children=(FloatProgress(value=0.0, max=10.0), HTML(value='')))"
      ]
     },
     "metadata": {},
     "output_type": "display_data"
    },
    {
     "name": "stdout",
     "output_type": "stream",
     "text": [
      "\n",
      "Iter: 3199/8504\tAvg Train Loss: 7.8699\tAvg Val Loss: 9.4811\tVal F1: 0 \tVal ExactMatch: 0\n"
     ]
    },
    {
     "data": {
      "application/vnd.jupyter.widget-view+json": {
       "model_id": "5b13e0bcfaa145268869ffb10926ecde",
       "version_major": 2,
       "version_minor": 0
      },
      "text/plain": [
       "HBox(children=(FloatProgress(value=0.0, max=10.0), HTML(value='')))"
      ]
     },
     "metadata": {},
     "output_type": "display_data"
    },
    {
     "name": "stdout",
     "output_type": "stream",
     "text": [
      "\n",
      "Iter: 3299/8504\tAvg Train Loss: 7.8486\tAvg Val Loss: 8.6827\tVal F1: 0 \tVal ExactMatch: 0\n"
     ]
    },
    {
     "data": {
      "application/vnd.jupyter.widget-view+json": {
       "model_id": "49971b3627ee4106b71af316880b1bcd",
       "version_major": 2,
       "version_minor": 0
      },
      "text/plain": [
       "HBox(children=(FloatProgress(value=0.0, max=10.0), HTML(value='')))"
      ]
     },
     "metadata": {},
     "output_type": "display_data"
    },
    {
     "name": "stdout",
     "output_type": "stream",
     "text": [
      "\n",
      "Iter: 3399/8504\tAvg Train Loss: 7.8179\tAvg Val Loss: 7.5281\tVal F1: 0 \tVal ExactMatch: 0\n"
     ]
    },
    {
     "data": {
      "application/vnd.jupyter.widget-view+json": {
       "model_id": "3d39d09435ea47a1b758a46ec5fd0ac2",
       "version_major": 2,
       "version_minor": 0
      },
      "text/plain": [
       "HBox(children=(FloatProgress(value=0.0, max=10.0), HTML(value='')))"
      ]
     },
     "metadata": {},
     "output_type": "display_data"
    },
    {
     "name": "stdout",
     "output_type": "stream",
     "text": [
      "\n",
      "Iter: 3499/8504\tAvg Train Loss: 7.7812\tAvg Val Loss: 9.1783\tVal F1: 0 \tVal ExactMatch: 0\n"
     ]
    },
    {
     "data": {
      "application/vnd.jupyter.widget-view+json": {
       "model_id": "0dd4adbee37c42c3b0ad170560624d18",
       "version_major": 2,
       "version_minor": 0
      },
      "text/plain": [
       "HBox(children=(FloatProgress(value=0.0, max=10.0), HTML(value='')))"
      ]
     },
     "metadata": {},
     "output_type": "display_data"
    },
    {
     "name": "stdout",
     "output_type": "stream",
     "text": [
      "\n",
      "Iter: 3599/8504\tAvg Train Loss: 7.7422\tAvg Val Loss: 7.2604\tVal F1: 0 \tVal ExactMatch: 0\n"
     ]
    },
    {
     "data": {
      "application/vnd.jupyter.widget-view+json": {
       "model_id": "0d495d32818b437b808ca0379f894512",
       "version_major": 2,
       "version_minor": 0
      },
      "text/plain": [
       "HBox(children=(FloatProgress(value=0.0, max=10.0), HTML(value='')))"
      ]
     },
     "metadata": {},
     "output_type": "display_data"
    },
    {
     "name": "stdout",
     "output_type": "stream",
     "text": [
      "\n",
      "Iter: 3699/8504\tAvg Train Loss: 7.7103\tAvg Val Loss: 10.0745\tVal F1: 0 \tVal ExactMatch: 0\n"
     ]
    },
    {
     "data": {
      "application/vnd.jupyter.widget-view+json": {
       "model_id": "14516aa7eb28410192d1e596aca999af",
       "version_major": 2,
       "version_minor": 0
      },
      "text/plain": [
       "HBox(children=(FloatProgress(value=0.0, max=10.0), HTML(value='')))"
      ]
     },
     "metadata": {},
     "output_type": "display_data"
    },
    {
     "name": "stdout",
     "output_type": "stream",
     "text": [
      "\n",
      "Iter: 3799/8504\tAvg Train Loss: 7.6954\tAvg Val Loss: 9.5206\tVal F1: 0 \tVal ExactMatch: 0\n"
     ]
    },
    {
     "data": {
      "application/vnd.jupyter.widget-view+json": {
       "model_id": "19ba9fce13234b898474ebcf8d9e27cf",
       "version_major": 2,
       "version_minor": 0
      },
      "text/plain": [
       "HBox(children=(FloatProgress(value=0.0, max=10.0), HTML(value='')))"
      ]
     },
     "metadata": {},
     "output_type": "display_data"
    },
    {
     "name": "stdout",
     "output_type": "stream",
     "text": [
      "\n",
      "Iter: 3899/8504\tAvg Train Loss: 7.6913\tAvg Val Loss: 8.2574\tVal F1: 0 \tVal ExactMatch: 0\n"
     ]
    },
    {
     "data": {
      "application/vnd.jupyter.widget-view+json": {
       "model_id": "55dd54a3c94444629d6945589ea7b000",
       "version_major": 2,
       "version_minor": 0
      },
      "text/plain": [
       "HBox(children=(FloatProgress(value=0.0, max=10.0), HTML(value='')))"
      ]
     },
     "metadata": {},
     "output_type": "display_data"
    },
    {
     "name": "stdout",
     "output_type": "stream",
     "text": [
      "\n",
      "Iter: 3999/8504\tAvg Train Loss: 7.7029\tAvg Val Loss: 7.7940\tVal F1: 0 \tVal ExactMatch: 0\n"
     ]
    },
    {
     "data": {
      "application/vnd.jupyter.widget-view+json": {
       "model_id": "8b42631c27e44f8ba510b9608607fae0",
       "version_major": 2,
       "version_minor": 0
      },
      "text/plain": [
       "HBox(children=(FloatProgress(value=0.0, max=10.0), HTML(value='')))"
      ]
     },
     "metadata": {},
     "output_type": "display_data"
    },
    {
     "name": "stdout",
     "output_type": "stream",
     "text": [
      "\n",
      "Iter: 4099/8504\tAvg Train Loss: 7.6990\tAvg Val Loss: 7.8519\tVal F1: 0 \tVal ExactMatch: 0\n"
     ]
    },
    {
     "data": {
      "application/vnd.jupyter.widget-view+json": {
       "model_id": "31f601a5564d4aff90556708a95d0629",
       "version_major": 2,
       "version_minor": 0
      },
      "text/plain": [
       "HBox(children=(FloatProgress(value=0.0, max=10.0), HTML(value='')))"
      ]
     },
     "metadata": {},
     "output_type": "display_data"
    },
    {
     "name": "stdout",
     "output_type": "stream",
     "text": [
      "\n",
      "Iter: 4199/8504\tAvg Train Loss: 7.7125\tAvg Val Loss: 8.3942\tVal F1: 0 \tVal ExactMatch: 0\n"
     ]
    },
    {
     "data": {
      "application/vnd.jupyter.widget-view+json": {
       "model_id": "1d68de8f27aa490b95e4cc3d9c72e4c1",
       "version_major": 2,
       "version_minor": 0
      },
      "text/plain": [
       "HBox(children=(FloatProgress(value=0.0, max=10.0), HTML(value='')))"
      ]
     },
     "metadata": {},
     "output_type": "display_data"
    },
    {
     "name": "stdout",
     "output_type": "stream",
     "text": [
      "\n",
      "Iter: 4299/8504\tAvg Train Loss: 7.7055\tAvg Val Loss: 7.7486\tVal F1: 0 \tVal ExactMatch: 0\n"
     ]
    },
    {
     "data": {
      "application/vnd.jupyter.widget-view+json": {
       "model_id": "252b541a878d44958720d361e511033f",
       "version_major": 2,
       "version_minor": 0
      },
      "text/plain": [
       "HBox(children=(FloatProgress(value=0.0, max=10.0), HTML(value='')))"
      ]
     },
     "metadata": {},
     "output_type": "display_data"
    },
    {
     "name": "stdout",
     "output_type": "stream",
     "text": [
      "\n",
      "Iter: 4399/8504\tAvg Train Loss: 7.7041\tAvg Val Loss: 8.1656\tVal F1: 0 \tVal ExactMatch: 0\n"
     ]
    },
    {
     "data": {
      "application/vnd.jupyter.widget-view+json": {
       "model_id": "39a9b56a46914e56a4d19529d81aaa16",
       "version_major": 2,
       "version_minor": 0
      },
      "text/plain": [
       "HBox(children=(FloatProgress(value=0.0, max=10.0), HTML(value='')))"
      ]
     },
     "metadata": {},
     "output_type": "display_data"
    },
    {
     "name": "stdout",
     "output_type": "stream",
     "text": [
      "\n",
      "Iter: 4499/8504\tAvg Train Loss: 7.7176\tAvg Val Loss: 8.7309\tVal F1: 0 \tVal ExactMatch: 0\n"
     ]
    },
    {
     "data": {
      "application/vnd.jupyter.widget-view+json": {
       "model_id": "2eee0f8e15bb4096aa2568e349e066b6",
       "version_major": 2,
       "version_minor": 0
      },
      "text/plain": [
       "HBox(children=(FloatProgress(value=0.0, max=10.0), HTML(value='')))"
      ]
     },
     "metadata": {},
     "output_type": "display_data"
    },
    {
     "name": "stdout",
     "output_type": "stream",
     "text": [
      "\n",
      "Iter: 4599/8504\tAvg Train Loss: 7.7150\tAvg Val Loss: 8.0743\tVal F1: 0 \tVal ExactMatch: 0\n"
     ]
    },
    {
     "data": {
      "application/vnd.jupyter.widget-view+json": {
       "model_id": "e0729faba37a4d2ab3a687bc81a80787",
       "version_major": 2,
       "version_minor": 0
      },
      "text/plain": [
       "HBox(children=(FloatProgress(value=0.0, max=10.0), HTML(value='')))"
      ]
     },
     "metadata": {},
     "output_type": "display_data"
    },
    {
     "name": "stdout",
     "output_type": "stream",
     "text": [
      "\n",
      "Iter: 4699/8504\tAvg Train Loss: 7.7180\tAvg Val Loss: 6.6568\tVal F1: 20 \tVal ExactMatch: 20\n"
     ]
    },
    {
     "data": {
      "application/vnd.jupyter.widget-view+json": {
       "model_id": "7b0b039e22b64e428cc105b9d79ec40c",
       "version_major": 2,
       "version_minor": 0
      },
      "text/plain": [
       "HBox(children=(FloatProgress(value=0.0, max=10.0), HTML(value='')))"
      ]
     },
     "metadata": {},
     "output_type": "display_data"
    },
    {
     "name": "stdout",
     "output_type": "stream",
     "text": [
      "\n",
      "Iter: 4799/8504\tAvg Train Loss: 7.7214\tAvg Val Loss: 7.7282\tVal F1: 0 \tVal ExactMatch: 0\n"
     ]
    },
    {
     "data": {
      "application/vnd.jupyter.widget-view+json": {
       "model_id": "0a4d46bb14414dd1a8da97dcd27ad7a3",
       "version_major": 2,
       "version_minor": 0
      },
      "text/plain": [
       "HBox(children=(FloatProgress(value=0.0, max=10.0), HTML(value='')))"
      ]
     },
     "metadata": {},
     "output_type": "display_data"
    },
    {
     "name": "stdout",
     "output_type": "stream",
     "text": [
      "\n",
      "Iter: 4899/8504\tAvg Train Loss: 7.7173\tAvg Val Loss: 8.3094\tVal F1: 0 \tVal ExactMatch: 0\n"
     ]
    },
    {
     "data": {
      "application/vnd.jupyter.widget-view+json": {
       "model_id": "647e8ab38ce5406ea27c03e5a1300bc1",
       "version_major": 2,
       "version_minor": 0
      },
      "text/plain": [
       "HBox(children=(FloatProgress(value=0.0, max=10.0), HTML(value='')))"
      ]
     },
     "metadata": {},
     "output_type": "display_data"
    },
    {
     "name": "stdout",
     "output_type": "stream",
     "text": [
      "\n",
      "Iter: 4999/8504\tAvg Train Loss: 7.7155\tAvg Val Loss: 7.0743\tVal F1: 0 \tVal ExactMatch: 0\n"
     ]
    },
    {
     "data": {
      "application/vnd.jupyter.widget-view+json": {
       "model_id": "dd1f6ee3b05641b2878402a791dcdfa9",
       "version_major": 2,
       "version_minor": 0
      },
      "text/plain": [
       "HBox(children=(FloatProgress(value=0.0, max=10.0), HTML(value='')))"
      ]
     },
     "metadata": {},
     "output_type": "display_data"
    },
    {
     "name": "stdout",
     "output_type": "stream",
     "text": [
      "\n",
      "Iter: 5099/8504\tAvg Train Loss: 7.7105\tAvg Val Loss: 8.6019\tVal F1: 0 \tVal ExactMatch: 0\n"
     ]
    },
    {
     "data": {
      "application/vnd.jupyter.widget-view+json": {
       "model_id": "8dbe4bcb36c24748b60d92ecf1e2ac75",
       "version_major": 2,
       "version_minor": 0
      },
      "text/plain": [
       "HBox(children=(FloatProgress(value=0.0, max=10.0), HTML(value='')))"
      ]
     },
     "metadata": {},
     "output_type": "display_data"
    },
    {
     "name": "stdout",
     "output_type": "stream",
     "text": [
      "\n",
      "Iter: 5199/8504\tAvg Train Loss: 7.7105\tAvg Val Loss: 7.4391\tVal F1: 10 \tVal ExactMatch: 10\n"
     ]
    },
    {
     "data": {
      "application/vnd.jupyter.widget-view+json": {
       "model_id": "155fc70fb67b49468b84df17a1deacf4",
       "version_major": 2,
       "version_minor": 0
      },
      "text/plain": [
       "HBox(children=(FloatProgress(value=0.0, max=10.0), HTML(value='')))"
      ]
     },
     "metadata": {},
     "output_type": "display_data"
    },
    {
     "name": "stdout",
     "output_type": "stream",
     "text": [
      "\n",
      "Iter: 5299/8504\tAvg Train Loss: 7.6877\tAvg Val Loss: 7.8425\tVal F1: 0 \tVal ExactMatch: 0\n"
     ]
    },
    {
     "data": {
      "application/vnd.jupyter.widget-view+json": {
       "model_id": "0a32235157514cb9be347ccaa7d300c7",
       "version_major": 2,
       "version_minor": 0
      },
      "text/plain": [
       "HBox(children=(FloatProgress(value=0.0, max=10.0), HTML(value='')))"
      ]
     },
     "metadata": {},
     "output_type": "display_data"
    },
    {
     "name": "stdout",
     "output_type": "stream",
     "text": [
      "\n",
      "Iter: 5399/8504\tAvg Train Loss: 7.6812\tAvg Val Loss: 7.8866\tVal F1: 10 \tVal ExactMatch: 10\n"
     ]
    },
    {
     "data": {
      "application/vnd.jupyter.widget-view+json": {
       "model_id": "8e3bec6f9a674a57afa5232e2370a33f",
       "version_major": 2,
       "version_minor": 0
      },
      "text/plain": [
       "HBox(children=(FloatProgress(value=0.0, max=10.0), HTML(value='')))"
      ]
     },
     "metadata": {},
     "output_type": "display_data"
    },
    {
     "name": "stdout",
     "output_type": "stream",
     "text": [
      "\n",
      "Iter: 5499/8504\tAvg Train Loss: 7.6597\tAvg Val Loss: 8.9851\tVal F1: 0 \tVal ExactMatch: 0\n"
     ]
    },
    {
     "data": {
      "application/vnd.jupyter.widget-view+json": {
       "model_id": "0cf223c3387a482db28868be3e6a4c28",
       "version_major": 2,
       "version_minor": 0
      },
      "text/plain": [
       "HBox(children=(FloatProgress(value=0.0, max=10.0), HTML(value='')))"
      ]
     },
     "metadata": {},
     "output_type": "display_data"
    },
    {
     "name": "stdout",
     "output_type": "stream",
     "text": [
      "\n",
      "Iter: 5599/8504\tAvg Train Loss: 7.6209\tAvg Val Loss: 8.3597\tVal F1: 0 \tVal ExactMatch: 0\n"
     ]
    },
    {
     "data": {
      "application/vnd.jupyter.widget-view+json": {
       "model_id": "2a909712d9964df093757739c9093b6c",
       "version_major": 2,
       "version_minor": 0
      },
      "text/plain": [
       "HBox(children=(FloatProgress(value=0.0, max=10.0), HTML(value='')))"
      ]
     },
     "metadata": {},
     "output_type": "display_data"
    },
    {
     "name": "stdout",
     "output_type": "stream",
     "text": [
      "\n",
      "Iter: 5699/8504\tAvg Train Loss: 7.5931\tAvg Val Loss: 8.6731\tVal F1: 0 \tVal ExactMatch: 0\n"
     ]
    },
    {
     "data": {
      "application/vnd.jupyter.widget-view+json": {
       "model_id": "50a839cf7c0648b58ab6d8ce24ff5ce6",
       "version_major": 2,
       "version_minor": 0
      },
      "text/plain": [
       "HBox(children=(FloatProgress(value=0.0, max=10.0), HTML(value='')))"
      ]
     },
     "metadata": {},
     "output_type": "display_data"
    },
    {
     "name": "stdout",
     "output_type": "stream",
     "text": [
      "\n",
      "Iter: 5799/8504\tAvg Train Loss: 7.5701\tAvg Val Loss: 8.3024\tVal F1: 10 \tVal ExactMatch: 10\n"
     ]
    },
    {
     "data": {
      "application/vnd.jupyter.widget-view+json": {
       "model_id": "2018dbdc56dc44289aa99451c5000658",
       "version_major": 2,
       "version_minor": 0
      },
      "text/plain": [
       "HBox(children=(FloatProgress(value=0.0, max=10.0), HTML(value='')))"
      ]
     },
     "metadata": {},
     "output_type": "display_data"
    },
    {
     "name": "stdout",
     "output_type": "stream",
     "text": [
      "\n",
      "Iter: 5899/8504\tAvg Train Loss: 7.5431\tAvg Val Loss: 8.0344\tVal F1: 0 \tVal ExactMatch: 0\n"
     ]
    },
    {
     "data": {
      "application/vnd.jupyter.widget-view+json": {
       "model_id": "67bd6728f77546e88a8725c8abebc03c",
       "version_major": 2,
       "version_minor": 0
      },
      "text/plain": [
       "HBox(children=(FloatProgress(value=0.0, max=10.0), HTML(value='')))"
      ]
     },
     "metadata": {},
     "output_type": "display_data"
    },
    {
     "name": "stdout",
     "output_type": "stream",
     "text": [
      "\n",
      "Iter: 5999/8504\tAvg Train Loss: 7.5398\tAvg Val Loss: 9.0069\tVal F1: 0 \tVal ExactMatch: 0\n"
     ]
    },
    {
     "data": {
      "application/vnd.jupyter.widget-view+json": {
       "model_id": "bc6fe1c3b0a24058996e7998ad857102",
       "version_major": 2,
       "version_minor": 0
      },
      "text/plain": [
       "HBox(children=(FloatProgress(value=0.0, max=10.0), HTML(value='')))"
      ]
     },
     "metadata": {},
     "output_type": "display_data"
    },
    {
     "name": "stdout",
     "output_type": "stream",
     "text": [
      "\n",
      "Iter: 6099/8504\tAvg Train Loss: 7.5363\tAvg Val Loss: 8.6908\tVal F1: 0 \tVal ExactMatch: 0\n"
     ]
    },
    {
     "data": {
      "application/vnd.jupyter.widget-view+json": {
       "model_id": "8ff13596d8314cb59ebd68a18abce75f",
       "version_major": 2,
       "version_minor": 0
      },
      "text/plain": [
       "HBox(children=(FloatProgress(value=0.0, max=10.0), HTML(value='')))"
      ]
     },
     "metadata": {},
     "output_type": "display_data"
    },
    {
     "name": "stdout",
     "output_type": "stream",
     "text": [
      "\n",
      "Iter: 6199/8504\tAvg Train Loss: 7.5422\tAvg Val Loss: 8.5533\tVal F1: 0 \tVal ExactMatch: 0\n"
     ]
    },
    {
     "data": {
      "application/vnd.jupyter.widget-view+json": {
       "model_id": "95503242edf44d1e8249e79f224c2c2c",
       "version_major": 2,
       "version_minor": 0
      },
      "text/plain": [
       "HBox(children=(FloatProgress(value=0.0, max=10.0), HTML(value='')))"
      ]
     },
     "metadata": {},
     "output_type": "display_data"
    },
    {
     "name": "stdout",
     "output_type": "stream",
     "text": [
      "\n",
      "Iter: 6299/8504\tAvg Train Loss: 7.5532\tAvg Val Loss: 8.5357\tVal F1: 0 \tVal ExactMatch: 0\n"
     ]
    },
    {
     "data": {
      "application/vnd.jupyter.widget-view+json": {
       "model_id": "99e22eff347246e195ec6921f5312459",
       "version_major": 2,
       "version_minor": 0
      },
      "text/plain": [
       "HBox(children=(FloatProgress(value=0.0, max=10.0), HTML(value='')))"
      ]
     },
     "metadata": {},
     "output_type": "display_data"
    },
    {
     "name": "stdout",
     "output_type": "stream",
     "text": [
      "\n",
      "Iter: 6399/8504\tAvg Train Loss: 7.5594\tAvg Val Loss: 7.2305\tVal F1: 0 \tVal ExactMatch: 0\n"
     ]
    },
    {
     "data": {
      "application/vnd.jupyter.widget-view+json": {
       "model_id": "31b9c01a59fe49f7a580c9f13957d65c",
       "version_major": 2,
       "version_minor": 0
      },
      "text/plain": [
       "HBox(children=(FloatProgress(value=0.0, max=10.0), HTML(value='')))"
      ]
     },
     "metadata": {},
     "output_type": "display_data"
    },
    {
     "name": "stdout",
     "output_type": "stream",
     "text": [
      "\n",
      "Iter: 6499/8504\tAvg Train Loss: 7.5576\tAvg Val Loss: 8.0178\tVal F1: 0 \tVal ExactMatch: 0\n"
     ]
    },
    {
     "data": {
      "application/vnd.jupyter.widget-view+json": {
       "model_id": "8f2686be7f244974821d90f6b25fa7ec",
       "version_major": 2,
       "version_minor": 0
      },
      "text/plain": [
       "HBox(children=(FloatProgress(value=0.0, max=10.0), HTML(value='')))"
      ]
     },
     "metadata": {},
     "output_type": "display_data"
    },
    {
     "name": "stdout",
     "output_type": "stream",
     "text": [
      "\n",
      "Iter: 6599/8504\tAvg Train Loss: 7.5570\tAvg Val Loss: 7.3979\tVal F1: 0 \tVal ExactMatch: 0\n"
     ]
    },
    {
     "data": {
      "application/vnd.jupyter.widget-view+json": {
       "model_id": "ac75dea834b447e38cfed69e8bb8a1f5",
       "version_major": 2,
       "version_minor": 0
      },
      "text/plain": [
       "HBox(children=(FloatProgress(value=0.0, max=10.0), HTML(value='')))"
      ]
     },
     "metadata": {},
     "output_type": "display_data"
    },
    {
     "name": "stdout",
     "output_type": "stream",
     "text": [
      "\n",
      "Iter: 6699/8504\tAvg Train Loss: 7.5585\tAvg Val Loss: 6.0215\tVal F1: 0 \tVal ExactMatch: 0\n"
     ]
    },
    {
     "data": {
      "application/vnd.jupyter.widget-view+json": {
       "model_id": "d6d47ccb675a43e09ff73b68933aaa52",
       "version_major": 2,
       "version_minor": 0
      },
      "text/plain": [
       "HBox(children=(FloatProgress(value=0.0, max=10.0), HTML(value='')))"
      ]
     },
     "metadata": {},
     "output_type": "display_data"
    },
    {
     "name": "stdout",
     "output_type": "stream",
     "text": [
      "\n",
      "Iter: 6799/8504\tAvg Train Loss: 7.5599\tAvg Val Loss: 7.8409\tVal F1: 10 \tVal ExactMatch: 10\n"
     ]
    },
    {
     "data": {
      "application/vnd.jupyter.widget-view+json": {
       "model_id": "d481833e4c614847b8ea14e07a61a777",
       "version_major": 2,
       "version_minor": 0
      },
      "text/plain": [
       "HBox(children=(FloatProgress(value=0.0, max=10.0), HTML(value='')))"
      ]
     },
     "metadata": {},
     "output_type": "display_data"
    },
    {
     "name": "stdout",
     "output_type": "stream",
     "text": [
      "\n",
      "Iter: 6899/8504\tAvg Train Loss: 7.5679\tAvg Val Loss: 8.9082\tVal F1: 0 \tVal ExactMatch: 0\n"
     ]
    },
    {
     "data": {
      "application/vnd.jupyter.widget-view+json": {
       "model_id": "4a97ab306b834b8d92adb3f9be394e9f",
       "version_major": 2,
       "version_minor": 0
      },
      "text/plain": [
       "HBox(children=(FloatProgress(value=0.0, max=10.0), HTML(value='')))"
      ]
     },
     "metadata": {},
     "output_type": "display_data"
    },
    {
     "name": "stdout",
     "output_type": "stream",
     "text": [
      "\n",
      "Iter: 6999/8504\tAvg Train Loss: 7.5636\tAvg Val Loss: 9.1221\tVal F1: 0 \tVal ExactMatch: 0\n"
     ]
    },
    {
     "data": {
      "application/vnd.jupyter.widget-view+json": {
       "model_id": "a237e5bbf56e4e1f9d534cdb62fc7573",
       "version_major": 2,
       "version_minor": 0
      },
      "text/plain": [
       "HBox(children=(FloatProgress(value=0.0, max=10.0), HTML(value='')))"
      ]
     },
     "metadata": {},
     "output_type": "display_data"
    },
    {
     "name": "stdout",
     "output_type": "stream",
     "text": [
      "\n",
      "Iter: 7099/8504\tAvg Train Loss: 7.5589\tAvg Val Loss: 9.1005\tVal F1: 0 \tVal ExactMatch: 0\n"
     ]
    },
    {
     "data": {
      "application/vnd.jupyter.widget-view+json": {
       "model_id": "0f4ab90dadf540c697c1e51996711de4",
       "version_major": 2,
       "version_minor": 0
      },
      "text/plain": [
       "HBox(children=(FloatProgress(value=0.0, max=10.0), HTML(value='')))"
      ]
     },
     "metadata": {},
     "output_type": "display_data"
    },
    {
     "name": "stdout",
     "output_type": "stream",
     "text": [
      "\n",
      "Iter: 7199/8504\tAvg Train Loss: 7.5490\tAvg Val Loss: 7.4146\tVal F1: 0 \tVal ExactMatch: 0\n"
     ]
    },
    {
     "data": {
      "application/vnd.jupyter.widget-view+json": {
       "model_id": "ce1193de9d15473889420cd8a10c1828",
       "version_major": 2,
       "version_minor": 0
      },
      "text/plain": [
       "HBox(children=(FloatProgress(value=0.0, max=10.0), HTML(value='')))"
      ]
     },
     "metadata": {},
     "output_type": "display_data"
    },
    {
     "name": "stdout",
     "output_type": "stream",
     "text": [
      "\n",
      "Iter: 7299/8504\tAvg Train Loss: 7.5400\tAvg Val Loss: 7.5686\tVal F1: 0 \tVal ExactMatch: 0\n"
     ]
    },
    {
     "data": {
      "application/vnd.jupyter.widget-view+json": {
       "model_id": "4b521ecc6d774739ac0a3cfb73317a1f",
       "version_major": 2,
       "version_minor": 0
      },
      "text/plain": [
       "HBox(children=(FloatProgress(value=0.0, max=10.0), HTML(value='')))"
      ]
     },
     "metadata": {},
     "output_type": "display_data"
    },
    {
     "name": "stdout",
     "output_type": "stream",
     "text": [
      "\n",
      "Iter: 7399/8504\tAvg Train Loss: 7.5268\tAvg Val Loss: 9.1987\tVal F1: 0 \tVal ExactMatch: 0\n"
     ]
    },
    {
     "data": {
      "application/vnd.jupyter.widget-view+json": {
       "model_id": "268fb703c3ea4fd5898b59064cc67b53",
       "version_major": 2,
       "version_minor": 0
      },
      "text/plain": [
       "HBox(children=(FloatProgress(value=0.0, max=10.0), HTML(value='')))"
      ]
     },
     "metadata": {},
     "output_type": "display_data"
    },
    {
     "name": "stdout",
     "output_type": "stream",
     "text": [
      "\n",
      "Iter: 7499/8504\tAvg Train Loss: 7.5108\tAvg Val Loss: 7.2683\tVal F1: 0 \tVal ExactMatch: 0\n"
     ]
    },
    {
     "data": {
      "application/vnd.jupyter.widget-view+json": {
       "model_id": "4d0ea4c235c145f7a393a6719d068602",
       "version_major": 2,
       "version_minor": 0
      },
      "text/plain": [
       "HBox(children=(FloatProgress(value=0.0, max=10.0), HTML(value='')))"
      ]
     },
     "metadata": {},
     "output_type": "display_data"
    },
    {
     "name": "stdout",
     "output_type": "stream",
     "text": [
      "\n",
      "Iter: 7599/8504\tAvg Train Loss: 7.5058\tAvg Val Loss: 7.8747\tVal F1: 0 \tVal ExactMatch: 0\n"
     ]
    },
    {
     "data": {
      "application/vnd.jupyter.widget-view+json": {
       "model_id": "2e26bfc4d3314fa2ade1aef76091780d",
       "version_major": 2,
       "version_minor": 0
      },
      "text/plain": [
       "HBox(children=(FloatProgress(value=0.0, max=10.0), HTML(value='')))"
      ]
     },
     "metadata": {},
     "output_type": "display_data"
    },
    {
     "name": "stdout",
     "output_type": "stream",
     "text": [
      "\n",
      "Iter: 7699/8504\tAvg Train Loss: 7.5074\tAvg Val Loss: 7.7366\tVal F1: 0 \tVal ExactMatch: 0\n"
     ]
    },
    {
     "data": {
      "application/vnd.jupyter.widget-view+json": {
       "model_id": "e791f7e8738243759e8df653dc588862",
       "version_major": 2,
       "version_minor": 0
      },
      "text/plain": [
       "HBox(children=(FloatProgress(value=0.0, max=10.0), HTML(value='')))"
      ]
     },
     "metadata": {},
     "output_type": "display_data"
    },
    {
     "name": "stdout",
     "output_type": "stream",
     "text": [
      "\n",
      "Iter: 7799/8504\tAvg Train Loss: 7.5053\tAvg Val Loss: 7.0224\tVal F1: 0 \tVal ExactMatch: 0\n"
     ]
    },
    {
     "data": {
      "application/vnd.jupyter.widget-view+json": {
       "model_id": "d5537f93357e42faac28766fdd4746bd",
       "version_major": 2,
       "version_minor": 0
      },
      "text/plain": [
       "HBox(children=(FloatProgress(value=0.0, max=10.0), HTML(value='')))"
      ]
     },
     "metadata": {},
     "output_type": "display_data"
    },
    {
     "name": "stdout",
     "output_type": "stream",
     "text": [
      "\n",
      "Iter: 7899/8504\tAvg Train Loss: 7.5069\tAvg Val Loss: 9.0812\tVal F1: 0 \tVal ExactMatch: 0\n"
     ]
    },
    {
     "data": {
      "application/vnd.jupyter.widget-view+json": {
       "model_id": "ea65e8d2c80b492a833f67f86a5f1008",
       "version_major": 2,
       "version_minor": 0
      },
      "text/plain": [
       "HBox(children=(FloatProgress(value=0.0, max=10.0), HTML(value='')))"
      ]
     },
     "metadata": {},
     "output_type": "display_data"
    },
    {
     "name": "stdout",
     "output_type": "stream",
     "text": [
      "\n",
      "Iter: 7999/8504\tAvg Train Loss: 7.4964\tAvg Val Loss: 7.7116\tVal F1: 0 \tVal ExactMatch: 0\n"
     ]
    },
    {
     "data": {
      "application/vnd.jupyter.widget-view+json": {
       "model_id": "3702258de2f149e1908b43a9297a9ed8",
       "version_major": 2,
       "version_minor": 0
      },
      "text/plain": [
       "HBox(children=(FloatProgress(value=0.0, max=10.0), HTML(value='')))"
      ]
     },
     "metadata": {},
     "output_type": "display_data"
    },
    {
     "name": "stdout",
     "output_type": "stream",
     "text": [
      "\n",
      "Iter: 8099/8504\tAvg Train Loss: 7.4937\tAvg Val Loss: 8.5764\tVal F1: 0 \tVal ExactMatch: 0\n"
     ]
    },
    {
     "data": {
      "application/vnd.jupyter.widget-view+json": {
       "model_id": "9d63079c608044cab0787a7d4b0ffe89",
       "version_major": 2,
       "version_minor": 0
      },
      "text/plain": [
       "HBox(children=(FloatProgress(value=0.0, max=10.0), HTML(value='')))"
      ]
     },
     "metadata": {},
     "output_type": "display_data"
    },
    {
     "name": "stdout",
     "output_type": "stream",
     "text": [
      "\n",
      "Iter: 8199/8504\tAvg Train Loss: 7.4868\tAvg Val Loss: 7.6860\tVal F1: 0 \tVal ExactMatch: 0\n"
     ]
    },
    {
     "data": {
      "application/vnd.jupyter.widget-view+json": {
       "model_id": "63e962cf592c42b498356ee963cc1ff4",
       "version_major": 2,
       "version_minor": 0
      },
      "text/plain": [
       "HBox(children=(FloatProgress(value=0.0, max=10.0), HTML(value='')))"
      ]
     },
     "metadata": {},
     "output_type": "display_data"
    },
    {
     "name": "stdout",
     "output_type": "stream",
     "text": [
      "\n",
      "Iter: 8299/8504\tAvg Train Loss: 7.4803\tAvg Val Loss: 7.7987\tVal F1: 0 \tVal ExactMatch: 0\n"
     ]
    },
    {
     "data": {
      "application/vnd.jupyter.widget-view+json": {
       "model_id": "7ec5138907ef470c81226dfb90b0966e",
       "version_major": 2,
       "version_minor": 0
      },
      "text/plain": [
       "HBox(children=(FloatProgress(value=0.0, max=10.0), HTML(value='')))"
      ]
     },
     "metadata": {},
     "output_type": "display_data"
    },
    {
     "name": "stdout",
     "output_type": "stream",
     "text": [
      "\n",
      "Iter: 8399/8504\tAvg Train Loss: 7.4770\tAvg Val Loss: 7.4427\tVal F1: 0 \tVal ExactMatch: 0\n"
     ]
    },
    {
     "data": {
      "application/vnd.jupyter.widget-view+json": {
       "model_id": "fbf575a7a021449c81a55076cf102399",
       "version_major": 2,
       "version_minor": 0
      },
      "text/plain": [
       "HBox(children=(FloatProgress(value=0.0, max=10.0), HTML(value='')))"
      ]
     },
     "metadata": {},
     "output_type": "display_data"
    },
    {
     "name": "stdout",
     "output_type": "stream",
     "text": [
      "\n",
      "Iter: 8499/8504\tAvg Train Loss: 7.4703\tAvg Val Loss: 9.1803\tVal F1: 0 \tVal ExactMatch: 0\n",
      "\n"
     ]
    },
    {
     "data": {
      "application/vnd.jupyter.widget-view+json": {
       "model_id": "918c1fd4dad84b7289292b2295421653",
       "version_major": 2,
       "version_minor": 0
      },
      "text/plain": [
       "HBox(children=(FloatProgress(value=0.0, max=1000.0), HTML(value='')))"
      ]
     },
     "metadata": {},
     "output_type": "display_data"
    },
    {
     "name": "stdout",
     "output_type": "stream",
     "text": [
      "\n",
      "Iter: 8503/8504\tAvg Train Loss: 7.4693\tAvg Val Loss: 7.9120\tVal F1: 1 \tVal ExactMatch: 1\n"
     ]
    }
   ],
   "source": [
    "def train_BiDAF(epoch, model, loss_function, optimizer):\n",
    "    train_loss = 0\n",
    "    train_examples = len(train_df)\n",
    "    itr = 0\n",
    "    for i, row in tqdm(train_df.iterrows(), total=len(train_df)):\n",
    "        # for i, row in train_df.iterrows():\n",
    "        context = row.context_ids # tokenized context converted to ids\n",
    "        question = row.question_ids # tokenized query converted to ids\n",
    "        labels = row.label_idx # [start_idx, end_idx] of answer\n",
    "        #############################################################################\n",
    "        # TODO: Implement the training loop\n",
    "        # Find the gradient with respect to the loss and update the model \n",
    "        #   parameters using the optimizer.\n",
    "        # `context` and `question` are both already tokenized and converted to ids\n",
    "        # You need to prepare your character level input. Feel free to use the \n",
    "        #   prepare_sequence method for this. \n",
    "        #############################################################################\n",
    "        \n",
    "        # create char inputs for context and question           \n",
    "        context_chars = []\n",
    "        for w in context:\n",
    "            w = idx2word[w]\n",
    "            padding = ['<pad>'] * (MAX_WORD_LEN - len(w))\n",
    "            context_chars += padding + list(w)\n",
    "        context_chars = prepare_sequence(context_chars, char2idx)\n",
    "\n",
    "        question_chars = []\n",
    "        for w in question:\n",
    "            w = idx2word[w]\n",
    "            padding = ['<pad>'] * (MAX_WORD_LEN - len(w))\n",
    "            question_chars += padding + list(w)\n",
    "        question_chars = prepare_sequence(question_chars, char2idx)\n",
    "        \n",
    "        # use the model\n",
    "        context = torch.tensor(context, dtype=torch.long)\n",
    "        question = torch.tensor(question, dtype=torch.long)\n",
    "        start, end = model(context, context_chars, question, question_chars)\n",
    "        \n",
    "        # prepare data\n",
    "        start = start.reshape(1,-1)\n",
    "        end = end.reshape(1,-1)\n",
    "        labels = torch.tensor(labels)\n",
    "        se = torch.cat((start, end), dim=0)\n",
    "        \n",
    "        # caculate the loss here\n",
    "#         loss = 2 * loss_function(se, labels)\n",
    "        loss = loss_function(se, labels)\n",
    "        \n",
    "        # update the loss\n",
    "        model.zero_grad()\n",
    "        loss.backward()\n",
    "        optimizer.step()\n",
    "        \n",
    "        # update train_loss\n",
    "        train_loss += loss.item()\n",
    "        \n",
    "#         print(torch.norm(model.outputLayer.fc_GM.weight))\n",
    "               \n",
    "        #############################################################################\n",
    "        #                             END OF YOUR CODE                              #\n",
    "        #############################################################################\n",
    "        if ((i+1) % 100) == 0:\n",
    "            avg_train_loss = train_loss / i\n",
    "#             print(\"\\nLoss:\", avg_train_loss)\n",
    "            avg_val_loss, f1_avg, exact_match_avg = eval_BiDAF(model, loss_function, rand_samples=10)\n",
    "            print(\"Iter: {}/{}\\tAvg Train Loss: {:.4f}\\tAvg Val Loss: {:.4f}\\tVal F1: {:.0f} \\tVal ExactMatch: {:.0f}\".format(i, train_examples, avg_train_loss, avg_val_loss, f1_avg, exact_match_avg))\n",
    "    \n",
    "    avg_train_loss = train_loss / train_examples\n",
    "    avg_val_loss, f1_avg, exact_match_avg = eval_BiDAF(model, loss_function, rand_samples=1000)        \n",
    "    print(\"Iter: {}/{}\\tAvg Train Loss: {:.4f}\\tAvg Val Loss: {:.4f}\\tVal F1: {:.0f} \\tVal ExactMatch: {:.0f}\".format(i, train_examples, avg_train_loss, avg_val_loss, f1_avg, exact_match_avg))\n",
    "    return model\n",
    "\n",
    "def eval_BiDAF(model, loss_function, rand_samples=-1):\n",
    "    val_loss = 0\n",
    "    if rand_samples != -1:\n",
    "        validation_set = val_df.sample(rand_samples)\n",
    "    else:\n",
    "        validation_set = val_df\n",
    "    val_examples = len(validation_set)\n",
    "    predictions = []\n",
    "    with torch.no_grad():\n",
    "        for i, row in tqdm(validation_set.iterrows(), total=len(validation_set)):\n",
    "            # for i, row in validation_set.iterrows(): # if tqdm is not installed \n",
    "            context = row.context_ids # tokenized context converted to ids\n",
    "            orig_context = prepare_sequence(context, idx2word)\n",
    "            question = row.question_ids # tokenized query converted to ids\n",
    "            [true_start, true_end] = row.label_idx # [start_idx, end_idx] of answer\n",
    "            pred_start, pred_end = None, None # maxidx of the softmax outputs\n",
    "            #############################################################################\n",
    "            # TODO: Implement the training loop\n",
    "            # Find the gradient with respect to the loss and update the model \n",
    "            #   parameters using the optimizer.\n",
    "            # `context` and `question` are both already tokenized and converted to ids\n",
    "            # You need to prepare your character level input. Feel free to use the \n",
    "            #   prepare_sequence method for this. \n",
    "            #############################################################################\n",
    "            \n",
    "            # create char inputs for context and question           \n",
    "            context_chars = []\n",
    "            for w in context:\n",
    "                w = idx2word[w]\n",
    "                padding = ['<pad>'] * (MAX_WORD_LEN - len(w))\n",
    "                context_chars += padding + list(w)\n",
    "            context_chars = prepare_sequence(context_chars, char2idx)\n",
    "\n",
    "            question_chars = []\n",
    "            for w in question:\n",
    "                w = idx2word[w]\n",
    "                padding = ['<pad>'] * (MAX_WORD_LEN - len(w))\n",
    "                question_chars += padding + list(w)\n",
    "            question_chars = prepare_sequence(question_chars, char2idx)\n",
    "\n",
    "            # use the model\n",
    "            context = torch.tensor(context, dtype=torch.long)\n",
    "            question = torch.tensor(question, dtype=torch.long)\n",
    "            start, end = model(context, context_chars, question, question_chars)\n",
    "            \n",
    "            # prepare data\n",
    "            start = start.reshape(1,-1)\n",
    "            end = end.reshape(1,-1)\n",
    "            labels = torch.tensor([true_start, true_end])\n",
    "            se = torch.cat((start, end), dim=0)\n",
    "\n",
    "            # caculate the loss here\n",
    "            loss = loss_function(se, labels)\n",
    "            \n",
    "            #update loss\n",
    "            val_loss += loss.item()\n",
    "            \n",
    "            # get the prediction here.\n",
    "            pred_start, pred_end = int(start.argmax(dim = 1)[0]), int(end.argmax(dim = 1)[0])\n",
    "            #############################################################################\n",
    "            #                             END OF YOUR CODE                              #\n",
    "            #############################################################################\n",
    "#             predictions.append([row.id, orig_context[pred_start : pred_end + 1]])\n",
    "            predictions.append([row.id, ' '.join(orig_context[pred_start : pred_end + 1])])\n",
    "            \n",
    "    f1_avg, exact_match_avg = get_eval_scores(predictions)\n",
    "    avg_val_loss = val_loss / val_examples\n",
    "    return avg_val_loss, f1_avg*100, exact_match_avg*100\n",
    "\n",
    "#############################################################################\n",
    "# TODO: define loss function and optimizer to be used in train_BiDAF \n",
    "#############################################################################\n",
    "model = BiDAF(EMBEDDING_DIM, HIDDEN_DIM, CHAR_EMBEDDING_DIM, \n",
    "               CHAR_HIDDEN_DIM, len(char2idx), len(word2idx), \n",
    "               bidirectional=BIDIRECTIONAL_LSTM, phrase_LSTM_layers=LSTM_LAYERS, \n",
    "               modeling_LSTM_layers=LSTM_LAYERS_MODELING, dropout=DROPOUT)\n",
    "device = torch.device(\"cpu\")\n",
    "model.to(device)\n",
    "\n",
    "from torch.autograd import Variable\n",
    "\n",
    "def loss_fn(data, labels):\n",
    "    loss = Variable(torch.zeros(1))\n",
    "    for d, label in zip(data, labels):\n",
    "        loss -= torch.log(d[label]).cpu()\n",
    "    return loss\n",
    "\n",
    "# Define loss function\n",
    "loss_function = loss_fn\n",
    "\n",
    "# Define optimizer\n",
    "parameters = filter(lambda p: p.requires_grad, model.parameters())\n",
    "        \n",
    "    # in the paper: We use the AdaDelta (Zeiler, 2012) optimizer\n",
    "    # with a minibatch size of 60 and an initial learning rate of 0.5, for 12 epochs.\n",
    "\n",
    "optimizer = optim.Adadelta(parameters, lr=LEARNING_RATE)\n",
    "# optimizer = torch.optim.Adam(filter(lambda p: p.requires_grad, model.parameters()))\n",
    "for epoch in range(1, EPOCHS + 1):\n",
    "    model = train_BiDAF(epoch, model, loss_function, optimizer)\n",
    "#     eval_BiDAF(model, loss_function, optimizer)\n",
    "\n",
    "#############################################################################\n",
    "#                             END OF YOUR CODE                              #\n",
    "#############################################################################"
   ]
  },
  {
   "cell_type": "code",
   "execution_count": 26,
   "metadata": {},
   "outputs": [
    {
     "data": {
      "text/plain": [
       "3"
      ]
     },
     "execution_count": 26,
     "metadata": {},
     "output_type": "execute_result"
    }
   ],
   "source": [
    "len(torch.tensor([[[1]]]).shape)"
   ]
  },
  {
   "cell_type": "code",
   "execution_count": 53,
   "metadata": {},
   "outputs": [
    {
     "data": {
      "text/plain": [
       "'abcdefghijklmnopqrstuvwxyz'"
      ]
     },
     "execution_count": 53,
     "metadata": {},
     "output_type": "execute_result"
    }
   ],
   "source": [
    "a = '123'\n",
    "string.ascii_lowercase"
   ]
  },
  {
   "cell_type": "code",
   "execution_count": null,
   "metadata": {},
   "outputs": [],
   "source": []
  }
 ],
 "metadata": {
  "colab": {
   "collapsed_sections": [],
   "name": "HW5_NEW.ipynb",
   "provenance": [],
   "toc_visible": true
  },
  "kernelspec": {
   "display_name": "Python 3",
   "language": "python",
   "name": "python3"
  },
  "language_info": {
   "codemirror_mode": {
    "name": "ipython",
    "version": 3
   },
   "file_extension": ".py",
   "mimetype": "text/x-python",
   "name": "python",
   "nbconvert_exporter": "python",
   "pygments_lexer": "ipython3",
   "version": "3.7.9"
  },
  "toc": {
   "base_numbering": 1,
   "nav_menu": {},
   "number_sections": true,
   "sideBar": true,
   "skip_h1_title": false,
   "title_cell": "Table of Contents",
   "title_sidebar": "Contents",
   "toc_cell": false,
   "toc_position": {},
   "toc_section_display": true,
   "toc_window_display": false
  },
  "varInspector": {
   "cols": {
    "lenName": 16,
    "lenType": 16,
    "lenVar": 40
   },
   "kernels_config": {
    "python": {
     "delete_cmd_postfix": "",
     "delete_cmd_prefix": "del ",
     "library": "var_list.py",
     "varRefreshCmd": "print(var_dic_list())"
    },
    "r": {
     "delete_cmd_postfix": ") ",
     "delete_cmd_prefix": "rm(",
     "library": "var_list.r",
     "varRefreshCmd": "cat(var_dic_list()) "
    }
   },
   "types_to_exclude": [
    "module",
    "function",
    "builtin_function_or_method",
    "instance",
    "_Feature"
   ],
   "window_display": false
  },
  "widgets": {
   "application/vnd.jupyter.widget-state+json": {
    "57d7d0e7cd1c4f3a8ed0cf291091324d": {
     "model_module": "@jupyter-widgets/controls",
     "model_name": "DescriptionStyleModel",
     "state": {
      "_model_module": "@jupyter-widgets/controls",
      "_model_module_version": "1.5.0",
      "_model_name": "DescriptionStyleModel",
      "_view_count": null,
      "_view_module": "@jupyter-widgets/base",
      "_view_module_version": "1.2.0",
      "_view_name": "StyleView",
      "description_width": ""
     }
    },
    "7d803615bb424bb2944372affe458f6f": {
     "model_module": "@jupyter-widgets/base",
     "model_name": "LayoutModel",
     "state": {
      "_model_module": "@jupyter-widgets/base",
      "_model_module_version": "1.2.0",
      "_model_name": "LayoutModel",
      "_view_count": null,
      "_view_module": "@jupyter-widgets/base",
      "_view_module_version": "1.2.0",
      "_view_name": "LayoutView",
      "align_content": null,
      "align_items": null,
      "align_self": null,
      "border": null,
      "bottom": null,
      "display": null,
      "flex": null,
      "flex_flow": null,
      "grid_area": null,
      "grid_auto_columns": null,
      "grid_auto_flow": null,
      "grid_auto_rows": null,
      "grid_column": null,
      "grid_gap": null,
      "grid_row": null,
      "grid_template_areas": null,
      "grid_template_columns": null,
      "grid_template_rows": null,
      "height": null,
      "justify_content": null,
      "justify_items": null,
      "left": null,
      "margin": null,
      "max_height": null,
      "max_width": null,
      "min_height": null,
      "min_width": null,
      "object_fit": null,
      "object_position": null,
      "order": null,
      "overflow": null,
      "overflow_x": null,
      "overflow_y": null,
      "padding": null,
      "right": null,
      "top": null,
      "visibility": null,
      "width": null
     }
    },
    "b39cb786f6474e598af44a42921665a3": {
     "model_module": "@jupyter-widgets/base",
     "model_name": "LayoutModel",
     "state": {
      "_model_module": "@jupyter-widgets/base",
      "_model_module_version": "1.2.0",
      "_model_name": "LayoutModel",
      "_view_count": null,
      "_view_module": "@jupyter-widgets/base",
      "_view_module_version": "1.2.0",
      "_view_name": "LayoutView",
      "align_content": null,
      "align_items": null,
      "align_self": null,
      "border": null,
      "bottom": null,
      "display": null,
      "flex": null,
      "flex_flow": null,
      "grid_area": null,
      "grid_auto_columns": null,
      "grid_auto_flow": null,
      "grid_auto_rows": null,
      "grid_column": null,
      "grid_gap": null,
      "grid_row": null,
      "grid_template_areas": null,
      "grid_template_columns": null,
      "grid_template_rows": null,
      "height": null,
      "justify_content": null,
      "justify_items": null,
      "left": null,
      "margin": null,
      "max_height": null,
      "max_width": null,
      "min_height": null,
      "min_width": null,
      "object_fit": null,
      "object_position": null,
      "order": null,
      "overflow": null,
      "overflow_x": null,
      "overflow_y": null,
      "padding": null,
      "right": null,
      "top": null,
      "visibility": null,
      "width": null
     }
    },
    "c80ba3ff9f1541ac876dc5506df07ed4": {
     "model_module": "@jupyter-widgets/base",
     "model_name": "LayoutModel",
     "state": {
      "_model_module": "@jupyter-widgets/base",
      "_model_module_version": "1.2.0",
      "_model_name": "LayoutModel",
      "_view_count": null,
      "_view_module": "@jupyter-widgets/base",
      "_view_module_version": "1.2.0",
      "_view_name": "LayoutView",
      "align_content": null,
      "align_items": null,
      "align_self": null,
      "border": null,
      "bottom": null,
      "display": null,
      "flex": null,
      "flex_flow": null,
      "grid_area": null,
      "grid_auto_columns": null,
      "grid_auto_flow": null,
      "grid_auto_rows": null,
      "grid_column": null,
      "grid_gap": null,
      "grid_row": null,
      "grid_template_areas": null,
      "grid_template_columns": null,
      "grid_template_rows": null,
      "height": null,
      "justify_content": null,
      "justify_items": null,
      "left": null,
      "margin": null,
      "max_height": null,
      "max_width": null,
      "min_height": null,
      "min_width": null,
      "object_fit": null,
      "object_position": null,
      "order": null,
      "overflow": null,
      "overflow_x": null,
      "overflow_y": null,
      "padding": null,
      "right": null,
      "top": null,
      "visibility": null,
      "width": null
     }
    },
    "ea6de71ec974455cb589154758fb964d": {
     "model_module": "@jupyter-widgets/controls",
     "model_name": "HTMLModel",
     "state": {
      "_dom_classes": [],
      "_model_module": "@jupyter-widgets/controls",
      "_model_module_version": "1.5.0",
      "_model_name": "HTMLModel",
      "_view_count": null,
      "_view_module": "@jupyter-widgets/controls",
      "_view_module_version": "1.5.0",
      "_view_name": "HTMLView",
      "description": "",
      "description_tooltip": null,
      "layout": "IPY_MODEL_c80ba3ff9f1541ac876dc5506df07ed4",
      "placeholder": "​",
      "style": "IPY_MODEL_57d7d0e7cd1c4f3a8ed0cf291091324d",
      "value": " 232k/232k [00:00&lt;00:00, 308kB/s]"
     }
    },
    "efee88d526cf4249a96d8c14502e8259": {
     "model_module": "@jupyter-widgets/controls",
     "model_name": "HBoxModel",
     "state": {
      "_dom_classes": [],
      "_model_module": "@jupyter-widgets/controls",
      "_model_module_version": "1.5.0",
      "_model_name": "HBoxModel",
      "_view_count": null,
      "_view_module": "@jupyter-widgets/controls",
      "_view_module_version": "1.5.0",
      "_view_name": "HBoxView",
      "box_style": "",
      "children": [
       "IPY_MODEL_f6c66eb6e1e0425ab33d75117d65e5bd",
       "IPY_MODEL_ea6de71ec974455cb589154758fb964d"
      ],
      "layout": "IPY_MODEL_7d803615bb424bb2944372affe458f6f"
     }
    },
    "f6c4ecf71a5d46f983730ea71872346b": {
     "model_module": "@jupyter-widgets/controls",
     "model_name": "ProgressStyleModel",
     "state": {
      "_model_module": "@jupyter-widgets/controls",
      "_model_module_version": "1.5.0",
      "_model_name": "ProgressStyleModel",
      "_view_count": null,
      "_view_module": "@jupyter-widgets/base",
      "_view_module_version": "1.2.0",
      "_view_name": "StyleView",
      "bar_color": null,
      "description_width": "initial"
     }
    },
    "f6c66eb6e1e0425ab33d75117d65e5bd": {
     "model_module": "@jupyter-widgets/controls",
     "model_name": "FloatProgressModel",
     "state": {
      "_dom_classes": [],
      "_model_module": "@jupyter-widgets/controls",
      "_model_module_version": "1.5.0",
      "_model_name": "FloatProgressModel",
      "_view_count": null,
      "_view_module": "@jupyter-widgets/controls",
      "_view_module_version": "1.5.0",
      "_view_name": "ProgressView",
      "bar_style": "success",
      "description": "Downloading: 100%",
      "description_tooltip": null,
      "layout": "IPY_MODEL_b39cb786f6474e598af44a42921665a3",
      "max": 231508,
      "min": 0,
      "orientation": "horizontal",
      "style": "IPY_MODEL_f6c4ecf71a5d46f983730ea71872346b",
      "value": 231508
     }
    }
   }
  }
 },
 "nbformat": 4,
 "nbformat_minor": 1
}
